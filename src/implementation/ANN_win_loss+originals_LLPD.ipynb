{
  "nbformat": 4,
  "nbformat_minor": 0,
  "metadata": {
    "colab": {
      "provenance": []
    },
    "kernelspec": {
      "name": "python3",
      "display_name": "Python 3"
    },
    "language_info": {
      "name": "python"
    }
  },
  "cells": [
    {
      "cell_type": "markdown",
      "source": [
        "# Implementation of baseline using Artificial Neural Network with Original + Win-loss feature set and LLPD"
      ],
      "metadata": {
        "id": "NCycbGhsgmxs"
      }
    },
    {
      "cell_type": "markdown",
      "source": [
        "Necessary files: logistic_regression_functions.py, ann_functions.py, testing_functions.py, win_loss_functions.py, LLPD_17.csv, LLPD_18.csv, LLPD_19.csv"
      ],
      "metadata": {
        "id": "LC0eYgrzeItz"
      }
    },
    {
      "cell_type": "code",
      "execution_count": null,
      "metadata": {
        "id": "QqtpmAL98xHg"
      },
      "outputs": [],
      "source": [
        "import logistic_regression_functions\n",
        "import ann_functions\n",
        "import testing_functions\n",
        "import win_loss_functions\n",
        "import pandas as pd\n",
        "from datetime import datetime\n",
        "import requests\n",
        "import numpy as np\n",
        "import tensorflow as tf\n",
        "from tensorflow.keras import Model\n",
        "from tensorflow.keras.layers import *\n",
        "from tqdm import tqdm"
      ]
    },
    {
      "cell_type": "markdown",
      "source": [
        "The baseline is implemented according to the paper An Improved Prediction System for Football a Match Result bu C. P. Igiri and E. O. Nwachukwu from 2014. The original features as described in the paper are used and the model is evaluated on the LLPD dataset."
      ],
      "metadata": {
        "id": "uJGxVwD2gvy3"
      }
    },
    {
      "cell_type": "markdown",
      "source": [
        "The authors used only one season for training, so I did the same. I used seasons 2016/17 for training season 2017/18 as validation set and the second half of season 2018/19 for testing. The validation set is used to select the best checkpoint of the training according to the validation accuracy."
      ],
      "metadata": {
        "id": "FI8vLzzAxCen"
      }
    },
    {
      "cell_type": "code",
      "source": [
        "X_train_win_loss, y_train = win_loss_functions.create_data(['LLPD_17.csv'], skip_rounds = 6)\n",
        "results_val_win_loss, matches_per_round = win_loss_functions.create_data_single('LLPD_18.csv', ['LLPD_17.csv'], skip_rounds = 6)\n",
        "# Dates are returned as well for dividing testing season into slices\n",
        "results_test_win_loss, matches_per_round = win_loss_functions.create_data_single('LLPD_19.csv', ['LLPD_17.csv', 'LLPD_18.csv'],\n",
        "                                return_dates=True, skip_rounds = 6)"
      ],
      "metadata": {
        "colab": {
          "base_uri": "https://localhost:8080/"
        },
        "id": "PVhprhUc9Apr",
        "outputId": "78e16779-06da-4936-ed51-bd8054bb1a67"
      },
      "execution_count": null,
      "outputs": [
        {
          "output_type": "stream",
          "name": "stdout",
          "text": [
            "Processing LLPD_17.csv season file.\n"
          ]
        }
      ]
    },
    {
      "cell_type": "code",
      "source": [
        "results_train_originals, matches_per_round = ann_functions.create_data_single('LLPD_17.csv', 53, 17,\n",
        "                                   logistic_regression_functions.team_names_map_llpd,\n",
        "                                   logistic_regression_functions.secondary_team_names_map_llpd,\n",
        "                                   ternary_team_names_map=logistic_regression_functions.ternary_team_names_map_llpd)\n",
        "results_val_originals, matches_per_round = ann_functions.create_data_single('LLPD_18.csv', 53, 18,\n",
        "                                  logistic_regression_functions.team_names_map_llpd,\n",
        "                                  logistic_regression_functions.secondary_team_names_map_llpd,\n",
        "                                  ternary_team_names_map=logistic_regression_functions.ternary_team_names_map_llpd)\n",
        "# Dates are returned as well for dividing testing season into slices\n",
        "results_test_originals, matches_per_round = ann_functions.create_data_single('LLPD_19.csv', 53, 19,\n",
        "                                  logistic_regression_functions.team_names_map_llpd,\n",
        "                                  logistic_regression_functions.secondary_team_names_map_llpd,\n",
        "                                  ternary_team_names_map=logistic_regression_functions.ternary_team_names_map_llpd,\n",
        "                                  return_dates=True)\n",
        "X_train_originals = results_train_originals.drop('FTR', axis=1)\n",
        "y_train_originals = results_train_originals['FTR']"
      ],
      "metadata": {
        "id": "zDn1LHJI9yHh"
      },
      "execution_count": null,
      "outputs": []
    },
    {
      "cell_type": "code",
      "source": [
        "# Concatenating the two feature sets together\n",
        "X_train = pd.concat([X_train_originals, X_train_win_loss], axis=1)\n",
        "results_val = pd.concat([results_val_originals, results_val_win_loss], axis=1)\n",
        "results_test = pd.concat([results_test_originals, results_test_win_loss], axis=1)\n",
        "X_train = X_train.loc[:,~X_train.columns.duplicated()].copy()\n",
        "results_val = results_val.loc[:,~results_val.columns.duplicated()].copy()\n",
        "results_test = results_test.loc[:,~results_test.columns.duplicated()].copy()"
      ],
      "metadata": {
        "id": "VUbn7vwZ-KAG"
      },
      "execution_count": null,
      "outputs": []
    },
    {
      "cell_type": "code",
      "source": [
        "X_val = results_val.drop('FTR', axis=1)\n",
        "y_val = results_val['FTR']\n",
        "# The classes need to go from 0 to 2 not from -1 to 1.\n",
        "y_train += 1\n",
        "y_val += 1"
      ],
      "metadata": {
        "id": "WwtU08PA-MPa"
      },
      "execution_count": null,
      "outputs": []
    },
    {
      "cell_type": "markdown",
      "source": [
        "They didnt say what ANN architecture they used. I used 3 dense layers with 64, 32 and 16 neurons. I used dropout to overcome overfitting."
      ],
      "metadata": {
        "id": "R1J55nUchiGn"
      }
    },
    {
      "cell_type": "markdown",
      "source": [
        "I always let the model train for 100 epochs and took the weights from the best epoch according to validation accuracy."
      ],
      "metadata": {
        "id": "DRXE90wbhlsE"
      }
    },
    {
      "cell_type": "markdown",
      "source": [
        "To use all the data available, the first half of the testing season was added to the training data."
      ],
      "metadata": {
        "id": "8wZkFnCyhpZw"
      }
    },
    {
      "cell_type": "code",
      "source": [
        "# Some rounds in the beginning are ignored, this is the correct index\n",
        "# of the start of the second half of the season\n",
        "start_test_index = 13 * matches_per_round"
      ],
      "metadata": {
        "id": "81xT95BCdJIf"
      },
      "execution_count": null,
      "outputs": []
    },
    {
      "cell_type": "code",
      "source": [
        "X_test_to_append, y_test_to_append = testing_functions.prepare_test_to_append(results_test,\n",
        "                                                                              start_test_index)\n",
        "y_test_to_append += 1"
      ],
      "metadata": {
        "id": "YtULdnqBdKfi"
      },
      "execution_count": null,
      "outputs": []
    },
    {
      "cell_type": "markdown",
      "source": [
        "For evaluation on the testing dataset I divided the testing data into rounds approximately. The model is trained on the training dataset, then it is evaluated on one round of the testing dataset and this round is added to the training dataset."
      ],
      "metadata": {
        "id": "lVYXi8R_hvnL"
      }
    },
    {
      "cell_type": "code",
      "source": [
        "# Adding 1st half of testing season to the training data\n",
        "X_train = pd.concat([X_train, X_test_to_append])\n",
        "y_train = pd.concat([y_train, y_test_to_append])\n",
        "# Rounds of the testing dataset\n",
        "slices = testing_functions.get_slices(results_test, matches_per_round,\n",
        "                                      start_test_index)\n",
        "weighted_sum = 0\n",
        "sum = 0\n",
        "for slc in tqdm(slices):\n",
        "  # Creating the model\n",
        "  model = ann_functions.func_model((X_train.shape[1],))\n",
        "  model.compile(optimizer='adam',\n",
        "                 loss='sparse_categorical_crossentropy',\n",
        "                 metrics=['accuracy'])\n",
        "  mc = tf.keras.callbacks.ModelCheckpoint('./weights_model.h5',\n",
        "                                     monitor='val_accuracy',\n",
        "                                     save_weights_only=True,\n",
        "                                     save_best_only=True)\n",
        "  X_test = slc.drop(['FTR', 'Date'], axis=1)\n",
        "  y_test = slc['FTR']\n",
        "  y_test += 1\n",
        "  # Train the model\n",
        "  history = model.fit(X_train, y_train,\n",
        "                    epochs=100,\n",
        "                    batch_size=8,\n",
        "                    validation_data=(X_val, y_val),\n",
        "                    verbose = 0,\n",
        "                    callbacks=[mc])\n",
        "  # Load the best checkpoint\n",
        "  model.load_weights('weights_model.h5')\n",
        "  weighted_sum += (model.evaluate(X_test, y_test)[1] * len(y_test))\n",
        "  sum += len(y_test)\n",
        "  # Add the round to the training dataset\n",
        "  X_train = pd.concat([X_train, X_test])\n",
        "  y_train = pd.concat([y_train, y_test])\n",
        "print('')\n",
        "print(weighted_sum / sum)"
      ],
      "metadata": {
        "colab": {
          "base_uri": "https://localhost:8080/"
        },
        "id": "e2lGrrnd-cxn",
        "outputId": "2c82a44b-ca30-4ff4-f3f3-a9832ebd03c4"
      },
      "execution_count": null,
      "outputs": [
        {
          "output_type": "stream",
          "name": "stderr",
          "text": [
            "\r  0%|          | 0/15 [00:00<?, ?it/s]"
          ]
        },
        {
          "output_type": "stream",
          "name": "stdout",
          "text": [
            "1/1 [==============================] - 0s 147ms/step - loss: 0.7803 - accuracy: 0.7143\n"
          ]
        },
        {
          "output_type": "stream",
          "name": "stderr",
          "text": [
            "\r  7%|▋         | 1/15 [00:17<04:03, 17.36s/it]"
          ]
        },
        {
          "output_type": "stream",
          "name": "stdout",
          "text": [
            "1/1 [==============================] - 0s 142ms/step - loss: 1.2547 - accuracy: 0.2727\n"
          ]
        },
        {
          "output_type": "stream",
          "name": "stderr",
          "text": [
            "\r 13%|█▎        | 2/15 [00:35<03:52, 17.89s/it]"
          ]
        },
        {
          "output_type": "stream",
          "name": "stdout",
          "text": [
            "1/1 [==============================] - 0s 130ms/step - loss: 1.0857 - accuracy: 0.4286\n"
          ]
        },
        {
          "output_type": "stream",
          "name": "stderr",
          "text": [
            "\r 20%|██        | 3/15 [00:53<03:34, 17.90s/it]"
          ]
        },
        {
          "output_type": "stream",
          "name": "stdout",
          "text": [
            "1/1 [==============================] - 0s 146ms/step - loss: 1.7368 - accuracy: 0.5455\n"
          ]
        },
        {
          "output_type": "stream",
          "name": "stderr",
          "text": [
            "\r 27%|██▋       | 4/15 [01:15<03:32, 19.35s/it]"
          ]
        },
        {
          "output_type": "stream",
          "name": "stdout",
          "text": [
            "1/1 [==============================] - 0s 133ms/step - loss: 0.9541 - accuracy: 0.5455\n"
          ]
        },
        {
          "output_type": "stream",
          "name": "stderr",
          "text": [
            "\r 33%|███▎      | 5/15 [01:36<03:20, 20.07s/it]"
          ]
        },
        {
          "output_type": "stream",
          "name": "stdout",
          "text": [
            "1/1 [==============================] - 0s 157ms/step - loss: 0.9162 - accuracy: 0.6429\n"
          ]
        },
        {
          "output_type": "stream",
          "name": "stderr",
          "text": [
            "\r 40%|████      | 6/15 [01:57<03:04, 20.50s/it]"
          ]
        },
        {
          "output_type": "stream",
          "name": "stdout",
          "text": [
            "1/1 [==============================] - 0s 128ms/step - loss: 0.9948 - accuracy: 0.5333\n"
          ]
        },
        {
          "output_type": "stream",
          "name": "stderr",
          "text": [
            "\r 47%|████▋     | 7/15 [02:16<02:39, 19.91s/it]"
          ]
        },
        {
          "output_type": "stream",
          "name": "stdout",
          "text": [
            "1/1 [==============================] - 0s 135ms/step - loss: 1.1553 - accuracy: 0.4615\n"
          ]
        },
        {
          "output_type": "stream",
          "name": "stderr",
          "text": [
            "\r 53%|█████▎    | 8/15 [02:38<02:23, 20.46s/it]"
          ]
        },
        {
          "output_type": "stream",
          "name": "stdout",
          "text": [
            "1/1 [==============================] - 0s 131ms/step - loss: 0.7905 - accuracy: 0.7273\n"
          ]
        },
        {
          "output_type": "stream",
          "name": "stderr",
          "text": [
            "\r 60%|██████    | 9/15 [02:57<02:01, 20.18s/it]"
          ]
        },
        {
          "output_type": "stream",
          "name": "stdout",
          "text": [
            "1/1 [==============================] - 0s 162ms/step - loss: 0.8793 - accuracy: 0.5333\n"
          ]
        },
        {
          "output_type": "stream",
          "name": "stderr",
          "text": [
            "\r 67%|██████▋   | 10/15 [03:19<01:42, 20.54s/it]"
          ]
        },
        {
          "output_type": "stream",
          "name": "stdout",
          "text": [
            "1/1 [==============================] - 0s 133ms/step - loss: 0.9588 - accuracy: 0.5455\n"
          ]
        },
        {
          "output_type": "stream",
          "name": "stderr",
          "text": [
            "\r 73%|███████▎  | 11/15 [03:39<01:22, 20.65s/it]"
          ]
        },
        {
          "output_type": "stream",
          "name": "stdout",
          "text": [
            "1/1 [==============================] - 0s 132ms/step - loss: 1.2559 - accuracy: 0.5714\n"
          ]
        },
        {
          "output_type": "stream",
          "name": "stderr",
          "text": [
            "\r 80%|████████  | 12/15 [04:00<01:01, 20.50s/it]"
          ]
        },
        {
          "output_type": "stream",
          "name": "stdout",
          "text": [
            "1/1 [==============================] - 0s 153ms/step - loss: 1.5246 - accuracy: 0.1818\n"
          ]
        },
        {
          "output_type": "stream",
          "name": "stderr",
          "text": [
            "\r 87%|████████▋ | 13/15 [04:20<00:41, 20.52s/it]"
          ]
        },
        {
          "output_type": "stream",
          "name": "stdout",
          "text": [
            "1/1 [==============================] - 0s 131ms/step - loss: 0.8145 - accuracy: 0.6000\n"
          ]
        },
        {
          "output_type": "stream",
          "name": "stderr",
          "text": [
            "\r 93%|█████████▎| 14/15 [04:41<00:20, 20.76s/it]"
          ]
        },
        {
          "output_type": "stream",
          "name": "stdout",
          "text": [
            "1/1 [==============================] - 0s 147ms/step - loss: 1.3048 - accuracy: 0.3000\n"
          ]
        },
        {
          "output_type": "stream",
          "name": "stderr",
          "text": [
            "100%|██████████| 15/15 [05:02<00:00, 20.16s/it]"
          ]
        },
        {
          "output_type": "stream",
          "name": "stdout",
          "text": [
            "\n",
            "0.5157894884285174\n"
          ]
        },
        {
          "output_type": "stream",
          "name": "stderr",
          "text": [
            "\n"
          ]
        }
      ]
    },
    {
      "cell_type": "markdown",
      "source": [
        "The testing accuracy is 51.58%."
      ],
      "metadata": {
        "id": "C2O8VQV5iYil"
      }
    }
  ]
}