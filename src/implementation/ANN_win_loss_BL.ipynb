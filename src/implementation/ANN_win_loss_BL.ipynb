{
  "nbformat": 4,
  "nbformat_minor": 0,
  "metadata": {
    "colab": {
      "provenance": []
    },
    "kernelspec": {
      "name": "python3",
      "display_name": "Python 3"
    },
    "language_info": {
      "name": "python"
    }
  },
  "cells": [
    {
      "cell_type": "markdown",
      "source": [
        "# Implementation of baseline using Artificial Neural Network with Win-loss feature set and BL"
      ],
      "metadata": {
        "id": "k0qhI-ZwSafE"
      }
    },
    {
      "cell_type": "markdown",
      "source": [
        "Necessary files: ann_functions.py, testing_functions.py, win_loss_functions.py, BL_17.csv, BL_18.csv, BL_19.csv"
      ],
      "metadata": {
        "id": "3mjhPkCecSPE"
      }
    },
    {
      "cell_type": "code",
      "execution_count": null,
      "metadata": {
        "id": "6wAVnwO9gbud"
      },
      "outputs": [],
      "source": [
        "import ann_functions\n",
        "import testing_functions\n",
        "import win_loss_functions\n",
        "import pandas as pd\n",
        "from datetime import datetime\n",
        "import requests\n",
        "import numpy as np\n",
        "import tensorflow as tf\n",
        "from tensorflow.keras import Model\n",
        "from tensorflow.keras.layers import *\n",
        "from tqdm import tqdm"
      ]
    },
    {
      "cell_type": "markdown",
      "source": [
        "The baseline is implemented according to the paper An Improved Prediction System for Football a Match Result bu C. P. Igiri and E. O. Nwachukwu from 2014. The features based only on results of previous matches are used and the model is evaluated on the BL dataset."
      ],
      "metadata": {
        "id": "CrLkc965SlBR"
      }
    },
    {
      "cell_type": "markdown",
      "source": [
        "The authors used only one season for training, so I did the same. I used seasons 2016/17 for training season 2017/18 as validation set and the second half of season 2018/19 for testing. The validation set is used to select the best checkpoint of the training according to the validation accuracy."
      ],
      "metadata": {
        "id": "H4JGMGY0Stg3"
      }
    },
    {
      "cell_type": "code",
      "source": [
        "X_train, y_train = win_loss_functions.create_data(['BL_17.csv'], skip_rounds = 6)\n",
        "results_val, matches_per_round = win_loss_functions.create_data_single('BL_18.csv', ['BL_17.csv'], skip_rounds = 6)\n",
        "# Dates are returned as well for dividing testing season into slices\n",
        "results_test, matches_per_round = win_loss_functions.create_data_single('BL_19.csv', ['BL_17.csv', 'BL_18.csv'],\n",
        "                                return_dates=True, skip_rounds = 6)"
      ],
      "metadata": {
        "colab": {
          "base_uri": "https://localhost:8080/"
        },
        "id": "LUI42YuigrLW",
        "outputId": "bd128817-5f83-4cf9-b830-25381a0c388c"
      },
      "execution_count": null,
      "outputs": [
        {
          "output_type": "stream",
          "name": "stdout",
          "text": [
            "Processing BL_17.csv season file.\n"
          ]
        }
      ]
    },
    {
      "cell_type": "code",
      "source": [
        "X_val = results_val.drop('FTR', axis=1)\n",
        "y_val = results_val['FTR']\n",
        "# The classes need to go from 0 to 2 not from -1 to 1.\n",
        "y_train += 1\n",
        "y_val += 1"
      ],
      "metadata": {
        "id": "wz6svdm8hOhd"
      },
      "execution_count": null,
      "outputs": []
    },
    {
      "cell_type": "markdown",
      "source": [
        "They didnt say what ANN architecture they used. I used 3 dense layers with 64, 32 and 16 neurons. I used dropout to overcome overfitting."
      ],
      "metadata": {
        "id": "cxsrRd7cTBmq"
      }
    },
    {
      "cell_type": "markdown",
      "source": [
        "I always let the model train for 100 epochs and took the weights from the best epoch according to validation accuracy."
      ],
      "metadata": {
        "id": "xHuptS_4TGzs"
      }
    },
    {
      "cell_type": "markdown",
      "source": [
        "To use all the data available, the first half of the testing season was added to the training data."
      ],
      "metadata": {
        "id": "76p9C8ZZTKLH"
      }
    },
    {
      "cell_type": "code",
      "source": [
        "# Some rounds in the beginning are ignored, this is the correct index\n",
        "# of the start of the second half of the season\n",
        "start_test_index = 11 * matches_per_round"
      ],
      "metadata": {
        "id": "82xvxW3vN28n"
      },
      "execution_count": null,
      "outputs": []
    },
    {
      "cell_type": "code",
      "source": [
        "X_test_to_append, y_test_to_append = testing_functions.prepare_test_to_append(results_test,\n",
        "                                                                              start_test_index)\n",
        "y_test_to_append += 1"
      ],
      "metadata": {
        "id": "Zb5LjM7vN47q"
      },
      "execution_count": null,
      "outputs": []
    },
    {
      "cell_type": "markdown",
      "source": [
        "For evaluation on the testing dataset I divided the testing data into rounds approximately. The model is trained on the training dataset, then it is evaluated on one round of the testing dataset and this round is added to the training dataset."
      ],
      "metadata": {
        "id": "y9O25Et7TPrb"
      }
    },
    {
      "cell_type": "code",
      "source": [
        "# Adding 1st half of testing season to the training data\n",
        "X_train = pd.concat([X_train, X_test_to_append])\n",
        "y_train = pd.concat([y_train, y_test_to_append])\n",
        "# Rounds of the testing dataset\n",
        "slices = testing_functions.get_slices(results_test, matches_per_round,\n",
        "                                      start_test_index)\n",
        "weighted_sum = 0\n",
        "sum = 0\n",
        "for slc in tqdm(slices):\n",
        "  # Creating the model\n",
        "  model = ann_functions.func_model((X_train.shape[1],))\n",
        "  model.compile(optimizer='adam',\n",
        "                 loss='sparse_categorical_crossentropy',\n",
        "                 metrics=['accuracy'])\n",
        "  mc = tf.keras.callbacks.ModelCheckpoint('./weights_model.h5',\n",
        "                                     monitor='val_accuracy',\n",
        "                                     save_weights_only=True,\n",
        "                                     save_best_only=True)\n",
        "  X_test = slc.drop(['FTR', 'Date'], axis=1)\n",
        "  y_test = slc['FTR']\n",
        "  y_test += 1\n",
        "  # Train the model\n",
        "  history = model.fit(X_train, y_train,\n",
        "                    epochs=100,\n",
        "                    batch_size=8,\n",
        "                    validation_data=(X_val, y_val),\n",
        "                    verbose = 0,\n",
        "                    callbacks=[mc])\n",
        "  # Load the best checkpoint\n",
        "  model.load_weights('weights_model.h5')\n",
        "  weighted_sum += (model.evaluate(X_test, y_test)[1] * len(y_test))\n",
        "  sum += len(y_test)\n",
        "  # Add the round to the training dataset\n",
        "  X_train = pd.concat([X_train, X_test])\n",
        "  y_train = pd.concat([y_train, y_test])\n",
        "print('')\n",
        "print(weighted_sum / sum)"
      ],
      "metadata": {
        "colab": {
          "base_uri": "https://localhost:8080/"
        },
        "id": "CL2Y4Uvfhsx1",
        "outputId": "1482888e-0bbb-4e71-c405-9270a81517d3"
      },
      "execution_count": null,
      "outputs": [
        {
          "output_type": "stream",
          "name": "stderr",
          "text": [
            "\r  0%|          | 0/13 [00:00<?, ?it/s]"
          ]
        },
        {
          "output_type": "stream",
          "name": "stdout",
          "text": [
            "1/1 [==============================] - 0s 18ms/step - loss: 1.1615 - accuracy: 0.1000\n"
          ]
        },
        {
          "output_type": "stream",
          "name": "stderr",
          "text": [
            "\r  8%|▊         | 1/13 [00:12<02:35, 12.94s/it]"
          ]
        },
        {
          "output_type": "stream",
          "name": "stdout",
          "text": [
            "1/1 [==============================] - 0s 17ms/step - loss: 1.1045 - accuracy: 0.3333\n"
          ]
        },
        {
          "output_type": "stream",
          "name": "stderr",
          "text": [
            "\r 15%|█▌        | 2/13 [00:26<02:23, 13.07s/it]"
          ]
        },
        {
          "output_type": "stream",
          "name": "stdout",
          "text": [
            "1/1 [==============================] - 0s 22ms/step - loss: 1.0766 - accuracy: 0.4545\n"
          ]
        },
        {
          "output_type": "stream",
          "name": "stderr",
          "text": [
            "\r 23%|██▎       | 3/13 [00:40<02:14, 13.49s/it]"
          ]
        },
        {
          "output_type": "stream",
          "name": "stdout",
          "text": [
            "1/1 [==============================] - 0s 19ms/step - loss: 1.0494 - accuracy: 0.4000\n"
          ]
        },
        {
          "output_type": "stream",
          "name": "stderr",
          "text": [
            "\r 31%|███       | 4/13 [00:53<02:01, 13.52s/it]"
          ]
        },
        {
          "output_type": "stream",
          "name": "stdout",
          "text": [
            "1/1 [==============================] - 0s 18ms/step - loss: 0.8608 - accuracy: 0.6667\n"
          ]
        },
        {
          "output_type": "stream",
          "name": "stderr",
          "text": [
            "\r 38%|███▊      | 5/13 [01:14<02:10, 16.26s/it]"
          ]
        },
        {
          "output_type": "stream",
          "name": "stdout",
          "text": [
            "1/1 [==============================] - 0s 16ms/step - loss: 0.8132 - accuracy: 0.6000\n"
          ]
        },
        {
          "output_type": "stream",
          "name": "stderr",
          "text": [
            "\r 46%|████▌     | 6/13 [01:29<01:49, 15.70s/it]"
          ]
        },
        {
          "output_type": "stream",
          "name": "stdout",
          "text": [
            "1/1 [==============================] - 0s 16ms/step - loss: 1.0378 - accuracy: 0.4000\n"
          ]
        },
        {
          "output_type": "stream",
          "name": "stderr",
          "text": [
            "\r 54%|█████▍    | 7/13 [01:44<01:32, 15.46s/it]"
          ]
        },
        {
          "output_type": "stream",
          "name": "stdout",
          "text": [
            "1/1 [==============================] - 0s 18ms/step - loss: 0.8953 - accuracy: 0.7000\n"
          ]
        },
        {
          "output_type": "stream",
          "name": "stderr",
          "text": [
            "\r 62%|██████▏   | 8/13 [02:05<01:26, 17.25s/it]"
          ]
        },
        {
          "output_type": "stream",
          "name": "stdout",
          "text": [
            "1/1 [==============================] - 0s 21ms/step - loss: 0.8585 - accuracy: 0.6429\n"
          ]
        },
        {
          "output_type": "stream",
          "name": "stderr",
          "text": [
            "\r 69%|██████▉   | 9/13 [02:20<01:06, 16.50s/it]"
          ]
        },
        {
          "output_type": "stream",
          "name": "stdout",
          "text": [
            "1/1 [==============================] - 0s 18ms/step - loss: 0.9019 - accuracy: 0.4545\n"
          ]
        },
        {
          "output_type": "stream",
          "name": "stderr",
          "text": [
            "\r 77%|███████▋  | 10/13 [02:35<00:48, 16.02s/it]"
          ]
        },
        {
          "output_type": "stream",
          "name": "stdout",
          "text": [
            "1/1 [==============================] - 0s 17ms/step - loss: 1.7699 - accuracy: 0.3000\n"
          ]
        },
        {
          "output_type": "stream",
          "name": "stderr",
          "text": [
            "\r 85%|████████▍ | 11/13 [02:50<00:31, 15.89s/it]"
          ]
        },
        {
          "output_type": "stream",
          "name": "stdout",
          "text": [
            "1/1 [==============================] - 0s 18ms/step - loss: 1.1024 - accuracy: 0.3529\n"
          ]
        },
        {
          "output_type": "stream",
          "name": "stderr",
          "text": [
            "\r 92%|█████████▏| 12/13 [03:06<00:15, 15.74s/it]"
          ]
        },
        {
          "output_type": "stream",
          "name": "stdout",
          "text": [
            "1/1 [==============================] - 0s 17ms/step - loss: 0.9361 - accuracy: 0.6000\n"
          ]
        },
        {
          "output_type": "stream",
          "name": "stderr",
          "text": [
            "100%|██████████| 13/13 [03:27<00:00, 15.95s/it]"
          ]
        },
        {
          "output_type": "stream",
          "name": "stdout",
          "text": [
            "\n",
            "0.4640522966392679\n"
          ]
        },
        {
          "output_type": "stream",
          "name": "stderr",
          "text": [
            "\n"
          ]
        }
      ]
    },
    {
      "cell_type": "markdown",
      "source": [
        "The testing accuracy is 46.41%."
      ],
      "metadata": {
        "id": "c_zHZyhITyCt"
      }
    }
  ]
}