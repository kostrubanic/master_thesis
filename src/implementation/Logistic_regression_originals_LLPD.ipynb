{
  "nbformat": 4,
  "nbformat_minor": 0,
  "metadata": {
    "colab": {
      "provenance": []
    },
    "kernelspec": {
      "name": "python3",
      "display_name": "Python 3"
    },
    "language_info": {
      "name": "python"
    }
  },
  "cells": [
    {
      "cell_type": "markdown",
      "source": [
        "# Implementation of baseline using Logistic Regression with Original feature set and LLPD\n"
      ],
      "metadata": {
        "id": "WcbBHkVOTLWW"
      }
    },
    {
      "cell_type": "markdown",
      "source": [
        "Necessary files: logistic_regression_functions.py, testing_functions.py, LLPD_12.csv, LLPD_13.csv, LLPD_15.csv, LLPD_16.csv, ..., LLPD_19.csv"
      ],
      "metadata": {
        "id": "zT-_PcNbfp20"
      }
    },
    {
      "cell_type": "code",
      "execution_count": null,
      "metadata": {
        "id": "VOCRwiEzXDpC"
      },
      "outputs": [],
      "source": [
        "import logistic_regression_functions\n",
        "import testing_functions\n",
        "import pandas as pd\n",
        "import numpy as np\n",
        "from sklearn.linear_model import LogisticRegression"
      ]
    },
    {
      "cell_type": "markdown",
      "source": [
        "The baseline is implemented according to the paper Predicting Football Match Results with Logistic Regression by D. Prasetio and M. Harlili from 2016. The original features as described in the paper are used and the model is evaluated on the LLPD dataset."
      ],
      "metadata": {
        "id": "MlMNesVzTPnH"
      }
    },
    {
      "cell_type": "markdown",
      "source": [
        "The authors had the best results with 5 training seasons, so I used 5 seasons for training as well. I used seasons 2011/12, 2012/13 and from 2014/15 to 2016/17 for training (because there were some ratings missing in the 2013/14 season), season 2017/18 as validation set and the second half of season 2018/19 for testing. The validation set is used to find the best value for the treshold, which defines, when are draws predicted."
      ],
      "metadata": {
        "id": "PFDsYzOPTWtY"
      }
    },
    {
      "cell_type": "code",
      "source": [
        "# The draws are dropped for training, but not for validation and testing\n",
        "X_train, y_train = logistic_regression_functions.create_data(53, [12, 13, 15, 16, 17], \n",
        "                               ['LLPD_12.csv', 'LLPD_13.csv', 'LLPD_15.csv',\n",
        "                                'LLPD_16.csv', 'LLPD_17.csv'],\n",
        "                               logistic_regression_functions.team_names_map_llpd,\n",
        "                               logistic_regression_functions.secondary_team_names_map_llpd,\n",
        "                               ternary_team_names_map=logistic_regression_functions.ternary_team_names_map_llpd)\n",
        "results_val, matches_per_round = logistic_regression_functions.create_data_single(53, 18, 'LLPD_18.csv',\n",
        "                                                     logistic_regression_functions.team_names_map_llpd, \n",
        "                                                     logistic_regression_functions.secondary_team_names_map_llpd,\n",
        "                                                     ternary_team_names_map=logistic_regression_functions.ternary_team_names_map_llpd,\n",
        "                                                     drop_draws=False)\n",
        "# Dates are returned as well for dividing testing season into slices\n",
        "results_test, matches_per_round = logistic_regression_functions.create_data_single(53, 19, 'LLPD_19.csv',\n",
        "                                                     logistic_regression_functions.team_names_map_llpd, \n",
        "                                                     logistic_regression_functions.secondary_team_names_map_llpd,\n",
        "                                                     ternary_team_names_map=logistic_regression_functions.ternary_team_names_map_llpd,\n",
        "                                                     return_dates=True,\n",
        "                                                     drop_draws=False)"
      ],
      "metadata": {
        "colab": {
          "base_uri": "https://localhost:8080/"
        },
        "id": "9iv823QDfsRQ",
        "outputId": "5687d221-4428-4e02-faa2-e28322e506f9"
      },
      "execution_count": null,
      "outputs": [
        {
          "output_type": "stream",
          "name": "stderr",
          "text": [
            "/content/logistic_regression_functions.py:277: SettingWithCopyWarning: \n",
            "A value is trying to be set on a copy of a slice from a DataFrame\n",
            "\n",
            "See the caveats in the documentation: https://pandas.pydata.org/pandas-docs/stable/user_guide/indexing.html#returning-a-view-versus-a-copy\n",
            "  results['FTR'].replace('H', 1, inplace=True)\n",
            "/content/logistic_regression_functions.py:278: SettingWithCopyWarning: \n",
            "A value is trying to be set on a copy of a slice from a DataFrame\n",
            "\n",
            "See the caveats in the documentation: https://pandas.pydata.org/pandas-docs/stable/user_guide/indexing.html#returning-a-view-versus-a-copy\n",
            "  results['FTR'].replace('A', 0, inplace=True)\n",
            "/content/logistic_regression_functions.py:279: SettingWithCopyWarning: \n",
            "A value is trying to be set on a copy of a slice from a DataFrame\n",
            "\n",
            "See the caveats in the documentation: https://pandas.pydata.org/pandas-docs/stable/user_guide/indexing.html#returning-a-view-versus-a-copy\n",
            "  results['FTR'].replace('D', 2, inplace=True)\n",
            "/content/logistic_regression_functions.py:301: SettingWithCopyWarning: \n",
            "A value is trying to be set on a copy of a slice from a DataFrame.\n",
            "Try using .loc[row_indexer,col_indexer] = value instead\n",
            "\n",
            "See the caveats in the documentation: https://pandas.pydata.org/pandas-docs/stable/user_guide/indexing.html#returning-a-view-versus-a-copy\n",
            "  results.loc[index, 'HATT'] = hatt\n",
            "/content/logistic_regression_functions.py:302: SettingWithCopyWarning: \n",
            "A value is trying to be set on a copy of a slice from a DataFrame.\n",
            "Try using .loc[row_indexer,col_indexer] = value instead\n",
            "\n",
            "See the caveats in the documentation: https://pandas.pydata.org/pandas-docs/stable/user_guide/indexing.html#returning-a-view-versus-a-copy\n",
            "  results.loc[index, 'AATT'] = aatt\n",
            "/content/logistic_regression_functions.py:303: SettingWithCopyWarning: \n",
            "A value is trying to be set on a copy of a slice from a DataFrame.\n",
            "Try using .loc[row_indexer,col_indexer] = value instead\n",
            "\n",
            "See the caveats in the documentation: https://pandas.pydata.org/pandas-docs/stable/user_guide/indexing.html#returning-a-view-versus-a-copy\n",
            "  results.loc[index, 'HDEF'] = hdef\n",
            "/content/logistic_regression_functions.py:304: SettingWithCopyWarning: \n",
            "A value is trying to be set on a copy of a slice from a DataFrame.\n",
            "Try using .loc[row_indexer,col_indexer] = value instead\n",
            "\n",
            "See the caveats in the documentation: https://pandas.pydata.org/pandas-docs/stable/user_guide/indexing.html#returning-a-view-versus-a-copy\n",
            "  results.loc[index, 'ADEF'] = adef\n",
            "/content/logistic_regression_functions.py:277: SettingWithCopyWarning: \n",
            "A value is trying to be set on a copy of a slice from a DataFrame\n",
            "\n",
            "See the caveats in the documentation: https://pandas.pydata.org/pandas-docs/stable/user_guide/indexing.html#returning-a-view-versus-a-copy\n",
            "  results['FTR'].replace('H', 1, inplace=True)\n",
            "/content/logistic_regression_functions.py:278: SettingWithCopyWarning: \n",
            "A value is trying to be set on a copy of a slice from a DataFrame\n",
            "\n",
            "See the caveats in the documentation: https://pandas.pydata.org/pandas-docs/stable/user_guide/indexing.html#returning-a-view-versus-a-copy\n",
            "  results['FTR'].replace('A', 0, inplace=True)\n",
            "/content/logistic_regression_functions.py:279: SettingWithCopyWarning: \n",
            "A value is trying to be set on a copy of a slice from a DataFrame\n",
            "\n",
            "See the caveats in the documentation: https://pandas.pydata.org/pandas-docs/stable/user_guide/indexing.html#returning-a-view-versus-a-copy\n",
            "  results['FTR'].replace('D', 2, inplace=True)\n",
            "/content/logistic_regression_functions.py:301: SettingWithCopyWarning: \n",
            "A value is trying to be set on a copy of a slice from a DataFrame.\n",
            "Try using .loc[row_indexer,col_indexer] = value instead\n",
            "\n",
            "See the caveats in the documentation: https://pandas.pydata.org/pandas-docs/stable/user_guide/indexing.html#returning-a-view-versus-a-copy\n",
            "  results.loc[index, 'HATT'] = hatt\n",
            "/content/logistic_regression_functions.py:302: SettingWithCopyWarning: \n",
            "A value is trying to be set on a copy of a slice from a DataFrame.\n",
            "Try using .loc[row_indexer,col_indexer] = value instead\n",
            "\n",
            "See the caveats in the documentation: https://pandas.pydata.org/pandas-docs/stable/user_guide/indexing.html#returning-a-view-versus-a-copy\n",
            "  results.loc[index, 'AATT'] = aatt\n",
            "/content/logistic_regression_functions.py:303: SettingWithCopyWarning: \n",
            "A value is trying to be set on a copy of a slice from a DataFrame.\n",
            "Try using .loc[row_indexer,col_indexer] = value instead\n",
            "\n",
            "See the caveats in the documentation: https://pandas.pydata.org/pandas-docs/stable/user_guide/indexing.html#returning-a-view-versus-a-copy\n",
            "  results.loc[index, 'HDEF'] = hdef\n",
            "/content/logistic_regression_functions.py:304: SettingWithCopyWarning: \n",
            "A value is trying to be set on a copy of a slice from a DataFrame.\n",
            "Try using .loc[row_indexer,col_indexer] = value instead\n",
            "\n",
            "See the caveats in the documentation: https://pandas.pydata.org/pandas-docs/stable/user_guide/indexing.html#returning-a-view-versus-a-copy\n",
            "  results.loc[index, 'ADEF'] = adef\n"
          ]
        }
      ]
    },
    {
      "cell_type": "markdown",
      "source": [
        "The best value for the treshold is found with the validation season. For each value of treshold is the model trained on the training data and evaluated on the validation dataset. The treshold with the best validation accuracy is chosen."
      ],
      "metadata": {
        "id": "UhzoAAizTozc"
      }
    },
    {
      "cell_type": "code",
      "source": [
        "X_val = results_val.drop('FTR', axis=1)\n",
        "y_val = results_val['FTR']\n",
        "clf = LogisticRegression(random_state=42, max_iter=1000).fit(X_train, y_train)\n",
        "best_score = 0\n",
        "best_threshold = 0\n",
        "for threshold in [0, 0.0125, 0.025, 0.0375, 0.05, 0.0625, 0.075, 0.0875, 0.1, 0.1125, 0.125]:\n",
        "  preds = clf.predict_proba(X_val)[:, 1]\n",
        "  score = logistic_regression_functions.evaluate(preds, y_val, threshold)\n",
        "  print(\"threshold \", threshold, \" score \", score)\n",
        "  if score > best_score:\n",
        "    best_score = score\n",
        "    best_threshold = threshold\n",
        "print(\"best threshold \", best_threshold, \" best score \", best_score)"
      ],
      "metadata": {
        "colab": {
          "base_uri": "https://localhost:8080/"
        },
        "id": "-gKAzIMorEgl",
        "outputId": "5ce359f1-4f6f-4edd-97e4-7e822c2f3f7f"
      },
      "execution_count": null,
      "outputs": [
        {
          "output_type": "stream",
          "name": "stdout",
          "text": [
            "threshold  0  score  0.5157894736842106\n",
            "threshold  0.0125  score  0.5\n",
            "threshold  0.025  score  0.49473684210526314\n",
            "threshold  0.0375  score  0.4921052631578947\n",
            "threshold  0.05  score  0.49473684210526314\n",
            "threshold  0.0625  score  0.49736842105263157\n",
            "threshold  0.075  score  0.49473684210526314\n",
            "threshold  0.0875  score  0.49473684210526314\n",
            "threshold  0.1  score  0.48684210526315785\n",
            "threshold  0.1125  score  0.46842105263157896\n",
            "threshold  0.125  score  0.4605263157894737\n",
            "best threshold  0  best score  0.5157894736842106\n"
          ]
        }
      ]
    },
    {
      "cell_type": "markdown",
      "source": [
        "The best treshold is 0."
      ],
      "metadata": {
        "id": "srl9-ELnTulS"
      }
    },
    {
      "cell_type": "markdown",
      "source": [
        "To use all the data available, the validation season and the first half of the testing season was added to the training data."
      ],
      "metadata": {
        "id": "IRa0d_vPTzYp"
      }
    },
    {
      "cell_type": "code",
      "source": [
        "X_test_to_append, y_test_to_append = testing_functions.prepare_test_to_append(results_test,\n",
        "                                                                              int(results_test.shape[0] / 2),\n",
        "                                                                              drop_draws=True)"
      ],
      "metadata": {
        "id": "S3YawKWeOUeb"
      },
      "execution_count": null,
      "outputs": []
    },
    {
      "cell_type": "markdown",
      "source": [
        "For evaluation on the testing dataset I divided the testing data into rounds approximately. The model is trained on the training dataset, then it is evaluated on one round of the testing dataset and this round is added to the training dataset."
      ],
      "metadata": {
        "id": "U4kx9Z4ST2rh"
      }
    },
    {
      "cell_type": "code",
      "source": [
        "# Adding validation season and 1st half of testing season to the training data\n",
        "X_train = pd.concat([X_train, X_val, X_test_to_append])\n",
        "y_train = pd.concat([y_train, y_val, y_test_to_append])\n",
        "# Rounds of the testing dataset\n",
        "slices = testing_functions.get_slices(results_test, matches_per_round,\n",
        "                                      int(results_test.shape[0] / 2))\n",
        "weighted_sum = 0\n",
        "sum = 0\n",
        "for slc in slices:\n",
        "  # Ignore draws for training\n",
        "  test_to_append = slc[slc['FTR'] != 2]\n",
        "  clf = LogisticRegression(random_state=42, max_iter=1000).fit(X_train, y_train)\n",
        "  X_test = slc.drop(['FTR', 'Date'], axis=1)\n",
        "  y_test = slc['FTR']\n",
        "  preds = clf.predict_proba(X_test)[:, 1]\n",
        "  weighted_sum += (logistic_regression_functions.evaluate(preds, y_test, best_threshold) * len(y_test))\n",
        "  sum += len(y_test)\n",
        "  # Add the round to the training dataset\n",
        "  X_test = test_to_append.drop(['FTR', 'Date'], axis=1)\n",
        "  y_test = test_to_append['FTR']\n",
        "  X_train = pd.concat([X_train, X_test])\n",
        "  y_train = pd.concat([y_train, y_test])\n",
        "print(weighted_sum / sum)"
      ],
      "metadata": {
        "colab": {
          "base_uri": "https://localhost:8080/"
        },
        "id": "fuOtL2DwrOfe",
        "outputId": "272fa174-2e01-46c5-f5b1-222a7c73039d"
      },
      "execution_count": null,
      "outputs": [
        {
          "output_type": "stream",
          "name": "stdout",
          "text": [
            "0.5210526315789473\n"
          ]
        }
      ]
    },
    {
      "cell_type": "markdown",
      "source": [
        "The testing accuracy is 52.11%"
      ],
      "metadata": {
        "id": "QqjBplLVUHzd"
      }
    }
  ]
}