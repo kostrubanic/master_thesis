{
  "nbformat": 4,
  "nbformat_minor": 0,
  "metadata": {
    "colab": {
      "provenance": []
    },
    "kernelspec": {
      "name": "python3",
      "display_name": "Python 3"
    },
    "language_info": {
      "name": "python"
    }
  },
  "cells": [
    {
      "cell_type": "markdown",
      "source": [
        "# Implementation of baseline using Logistic Regression with Original + Win-loss + feature vectors feature set and SA"
      ],
      "metadata": {
        "id": "JbeLviZFABZ1"
      }
    },
    {
      "cell_type": "markdown",
      "source": [
        "Necessary files: win_loss_functions.py, logistic_regression_functions.py, testing_functions.py, feature_vectors_functions.py, SA_13.csv, SA_14.csv, ..., SA_19.csv, A_SA.csv, H_SA.csv"
      ],
      "metadata": {
        "id": "jk_GXh63kZtL"
      }
    },
    {
      "cell_type": "code",
      "execution_count": null,
      "metadata": {
        "id": "Ds6xcyupbuPr"
      },
      "outputs": [],
      "source": [
        "import win_loss_functions\n",
        "import logistic_regression_functions\n",
        "import testing_functions\n",
        "import feature_vectors_functions\n",
        "import pandas as pd\n",
        "import numpy as np\n",
        "from sklearn.linear_model import LogisticRegression\n",
        "import requests\n",
        "from bs4 import BeautifulSoup"
      ]
    },
    {
      "cell_type": "markdown",
      "source": [
        "The baseline is implemented according to the paper Predicting Football Match Results with Logistic Regression by D. Prasetio and M. Harlili from 2016. The original features from paper, features based only on results of previous matches and feature vectors are used and the model is evaluated on the SA dataset."
      ],
      "metadata": {
        "id": "d8Y6CYcvA1j9"
      }
    },
    {
      "cell_type": "markdown",
      "source": [
        "The authors had the best results with 5 training seasons, so I used 5 seasons for training as well. I used seasons from 2012/13 to 2016/17 for training, season 2017/18 as validation set and the second half of season 2018/19 for testing. The validation set is used to find the best value for the treshold, which defines, when are draws predicted."
      ],
      "metadata": {
        "id": "Aj64vIq2BjrQ"
      }
    },
    {
      "cell_type": "code",
      "source": [
        "# The draws are dropped for training, but not for validation and testing\n",
        "X_train_win_loss, y_train = win_loss_functions.create_data(['SA_17.csv', 'SA_16.csv', 'SA_15.csv',\n",
        "                                'SA_14.csv', 'SA_13.csv'],\n",
        "                                drop_draws=True, return_names=True)\n",
        "results_val_win_loss, matches_per_round = win_loss_functions.create_data_single('SA_18.csv', ['SA_13.csv', 'SA_14.csv', 'SA_15.csv',\n",
        "                                'SA_16.csv', 'SA_17.csv'], return_names=True)\n",
        "results_test_win_loss, matches_per_round = win_loss_functions.create_data_single('SA_19.csv', ['SA_13.csv', 'SA_14.csv', 'SA_15.csv',\n",
        "                                'SA_16.csv', 'SA_17.csv', 'SA_18.csv'],\n",
        "                                return_dates=True, return_names=True)"
      ],
      "metadata": {
        "colab": {
          "base_uri": "https://localhost:8080/"
        },
        "id": "FtTjg67QcAda",
        "outputId": "10e225fb-73af-4ba1-8b62-ce3c8aecb036"
      },
      "execution_count": null,
      "outputs": [
        {
          "output_type": "stream",
          "name": "stdout",
          "text": [
            "Processing SA_17.csv season file.\n",
            "Processing SA_16.csv season file.\n",
            "Processing SA_15.csv season file.\n",
            "Processing SA_14.csv season file.\n",
            "Processing SA_13.csv season file.\n"
          ]
        }
      ]
    },
    {
      "cell_type": "code",
      "source": [
        "# Originaly the results are represented as 1 for home win, 0 for draw and -1 for\n",
        "# away win, but Logistic Regression predicts numbers between 0 and 1, so home win\n",
        "# is still represented as 1, but away win as 0 and draw as 2.\n",
        "y_train.replace(-1, 0, inplace=True)\n",
        "results_val_win_loss.replace(0, 2, inplace=True)\n",
        "results_val_win_loss.replace(-1, 0, inplace=True)\n",
        "results_test_win_loss.replace(0, 2, inplace=True)\n",
        "results_test_win_loss.replace(-1, 0, inplace=True)"
      ],
      "metadata": {
        "id": "LiaYccQOcD1_"
      },
      "execution_count": null,
      "outputs": []
    },
    {
      "cell_type": "code",
      "source": [
        "# The draws are dropped for training, but not for validation and testing\n",
        "X_train_originals, y_train = logistic_regression_functions.create_data(31, [17, 16, 15, 14, 13], \n",
        "                               ['SA_17.csv', 'SA_16.csv', 'SA_15.csv',\n",
        "                                'SA_14.csv', 'SA_13.csv'],\n",
        "                               logistic_regression_functions.team_names_map_sa,\n",
        "                               logistic_regression_functions.secondary_team_names_map_sa)\n",
        "results_val_originals, matches_per_round = logistic_regression_functions.create_data_single(31, 18, 'SA_18.csv',\n",
        "                                                     logistic_regression_functions.team_names_map_sa, \n",
        "                                                     logistic_regression_functions.secondary_team_names_map_sa,\n",
        "                                                     drop_draws=False)\n",
        "# Dates are returned as well for dividing testing season into slices\n",
        "results_test_originals, matches_per_round = logistic_regression_functions.create_data_single(31, 19, 'SA_19.csv',\n",
        "                                                     logistic_regression_functions.team_names_map_sa, \n",
        "                                                     logistic_regression_functions.secondary_team_names_map_sa,\n",
        "                                                     return_dates=True,\n",
        "                                                     drop_draws=False)"
      ],
      "metadata": {
        "colab": {
          "base_uri": "https://localhost:8080/"
        },
        "id": "gq8hc3qicanj",
        "outputId": "b53569dc-57d3-4b85-bfa5-4d5fcdf3f5a5"
      },
      "execution_count": null,
      "outputs": [
        {
          "output_type": "stream",
          "name": "stderr",
          "text": [
            "/content/logistic_regression_functions.py:278: SettingWithCopyWarning: \n",
            "A value is trying to be set on a copy of a slice from a DataFrame\n",
            "\n",
            "See the caveats in the documentation: https://pandas.pydata.org/pandas-docs/stable/user_guide/indexing.html#returning-a-view-versus-a-copy\n",
            "  results['FTR'].replace('H', 1, inplace=True)\n",
            "/content/logistic_regression_functions.py:279: SettingWithCopyWarning: \n",
            "A value is trying to be set on a copy of a slice from a DataFrame\n",
            "\n",
            "See the caveats in the documentation: https://pandas.pydata.org/pandas-docs/stable/user_guide/indexing.html#returning-a-view-versus-a-copy\n",
            "  results['FTR'].replace('A', 0, inplace=True)\n",
            "/content/logistic_regression_functions.py:280: SettingWithCopyWarning: \n",
            "A value is trying to be set on a copy of a slice from a DataFrame\n",
            "\n",
            "See the caveats in the documentation: https://pandas.pydata.org/pandas-docs/stable/user_guide/indexing.html#returning-a-view-versus-a-copy\n",
            "  results['FTR'].replace('D', 2, inplace=True)\n",
            "/content/logistic_regression_functions.py:302: SettingWithCopyWarning: \n",
            "A value is trying to be set on a copy of a slice from a DataFrame.\n",
            "Try using .loc[row_indexer,col_indexer] = value instead\n",
            "\n",
            "See the caveats in the documentation: https://pandas.pydata.org/pandas-docs/stable/user_guide/indexing.html#returning-a-view-versus-a-copy\n",
            "  results.loc[index, 'HATT'] = hatt\n",
            "/content/logistic_regression_functions.py:303: SettingWithCopyWarning: \n",
            "A value is trying to be set on a copy of a slice from a DataFrame.\n",
            "Try using .loc[row_indexer,col_indexer] = value instead\n",
            "\n",
            "See the caveats in the documentation: https://pandas.pydata.org/pandas-docs/stable/user_guide/indexing.html#returning-a-view-versus-a-copy\n",
            "  results.loc[index, 'AATT'] = aatt\n",
            "/content/logistic_regression_functions.py:304: SettingWithCopyWarning: \n",
            "A value is trying to be set on a copy of a slice from a DataFrame.\n",
            "Try using .loc[row_indexer,col_indexer] = value instead\n",
            "\n",
            "See the caveats in the documentation: https://pandas.pydata.org/pandas-docs/stable/user_guide/indexing.html#returning-a-view-versus-a-copy\n",
            "  results.loc[index, 'HDEF'] = hdef\n",
            "/content/logistic_regression_functions.py:305: SettingWithCopyWarning: \n",
            "A value is trying to be set on a copy of a slice from a DataFrame.\n",
            "Try using .loc[row_indexer,col_indexer] = value instead\n",
            "\n",
            "See the caveats in the documentation: https://pandas.pydata.org/pandas-docs/stable/user_guide/indexing.html#returning-a-view-versus-a-copy\n",
            "  results.loc[index, 'ADEF'] = adef\n",
            "/content/logistic_regression_functions.py:278: SettingWithCopyWarning: \n",
            "A value is trying to be set on a copy of a slice from a DataFrame\n",
            "\n",
            "See the caveats in the documentation: https://pandas.pydata.org/pandas-docs/stable/user_guide/indexing.html#returning-a-view-versus-a-copy\n",
            "  results['FTR'].replace('H', 1, inplace=True)\n",
            "/content/logistic_regression_functions.py:279: SettingWithCopyWarning: \n",
            "A value is trying to be set on a copy of a slice from a DataFrame\n",
            "\n",
            "See the caveats in the documentation: https://pandas.pydata.org/pandas-docs/stable/user_guide/indexing.html#returning-a-view-versus-a-copy\n",
            "  results['FTR'].replace('A', 0, inplace=True)\n",
            "/content/logistic_regression_functions.py:280: SettingWithCopyWarning: \n",
            "A value is trying to be set on a copy of a slice from a DataFrame\n",
            "\n",
            "See the caveats in the documentation: https://pandas.pydata.org/pandas-docs/stable/user_guide/indexing.html#returning-a-view-versus-a-copy\n",
            "  results['FTR'].replace('D', 2, inplace=True)\n",
            "/content/logistic_regression_functions.py:302: SettingWithCopyWarning: \n",
            "A value is trying to be set on a copy of a slice from a DataFrame.\n",
            "Try using .loc[row_indexer,col_indexer] = value instead\n",
            "\n",
            "See the caveats in the documentation: https://pandas.pydata.org/pandas-docs/stable/user_guide/indexing.html#returning-a-view-versus-a-copy\n",
            "  results.loc[index, 'HATT'] = hatt\n",
            "/content/logistic_regression_functions.py:303: SettingWithCopyWarning: \n",
            "A value is trying to be set on a copy of a slice from a DataFrame.\n",
            "Try using .loc[row_indexer,col_indexer] = value instead\n",
            "\n",
            "See the caveats in the documentation: https://pandas.pydata.org/pandas-docs/stable/user_guide/indexing.html#returning-a-view-versus-a-copy\n",
            "  results.loc[index, 'AATT'] = aatt\n",
            "/content/logistic_regression_functions.py:304: SettingWithCopyWarning: \n",
            "A value is trying to be set on a copy of a slice from a DataFrame.\n",
            "Try using .loc[row_indexer,col_indexer] = value instead\n",
            "\n",
            "See the caveats in the documentation: https://pandas.pydata.org/pandas-docs/stable/user_guide/indexing.html#returning-a-view-versus-a-copy\n",
            "  results.loc[index, 'HDEF'] = hdef\n",
            "/content/logistic_regression_functions.py:305: SettingWithCopyWarning: \n",
            "A value is trying to be set on a copy of a slice from a DataFrame.\n",
            "Try using .loc[row_indexer,col_indexer] = value instead\n",
            "\n",
            "See the caveats in the documentation: https://pandas.pydata.org/pandas-docs/stable/user_guide/indexing.html#returning-a-view-versus-a-copy\n",
            "  results.loc[index, 'ADEF'] = adef\n"
          ]
        }
      ]
    },
    {
      "cell_type": "code",
      "source": [
        "# Concatenating the two feature sets together\n",
        "X_train_mix = pd.concat([X_train_originals, X_train_win_loss], axis=1)\n",
        "results_val_mix = pd.concat([results_val_originals, results_val_win_loss], axis=1)\n",
        "results_test_mix = pd.concat([results_test_originals, results_test_win_loss], axis=1)\n",
        "results_val_mix = results_val_mix.loc[:,~results_val_mix.columns.duplicated()].copy()\n",
        "results_test_mix = results_test_mix.loc[:,~results_test_mix.columns.duplicated()].copy()"
      ],
      "metadata": {
        "id": "gNK2uS_8cgae"
      },
      "execution_count": null,
      "outputs": []
    },
    {
      "cell_type": "code",
      "source": [
        "A = pd.read_csv('A_SA.csv')\n",
        "H = pd.read_csv('H_SA.csv')"
      ],
      "metadata": {
        "id": "2ev7PQeBciI5"
      },
      "execution_count": null,
      "outputs": []
    },
    {
      "cell_type": "code",
      "source": [
        "# Adding the feature vectors to the features\n",
        "X_train = feature_vectors_functions.add_feature_vector(X_train_mix, A, H)\n",
        "results_val = feature_vectors_functions.add_feature_vector(results_val_mix, A, H)\n",
        "results_test = feature_vectors_functions.add_feature_vector(results_test_mix, A, H)"
      ],
      "metadata": {
        "id": "T-CbXcYDc36M"
      },
      "execution_count": null,
      "outputs": []
    },
    {
      "cell_type": "markdown",
      "source": [
        "The best value for the treshold is found with the validation season. For each value of treshold is the model trained on the training data and evaluated on the validation dataset. The treshold with the best validation accuracy is chosen."
      ],
      "metadata": {
        "id": "eLm7-QNXCvaK"
      }
    },
    {
      "cell_type": "code",
      "source": [
        "X_val = results_val.drop('FTR', axis=1)\n",
        "y_val = results_val['FTR']\n",
        "clf = LogisticRegression(random_state=42, max_iter=10000).fit(X_train, y_train)\n",
        "best_score = 0\n",
        "best_threshold = 0\n",
        "for threshold in [0, 0.0125, 0.025, 0.0375, 0.05, 0.0625, 0.075, 0.0875, 0.1, 0.1125, 0.125]:\n",
        "  preds = clf.predict_proba(X_val)[:, 1]\n",
        "  score = logistic_regression_functions.evaluate(preds, y_val, threshold)\n",
        "  print(\"threshold \", threshold, \" score \", score)\n",
        "  if score > best_score:\n",
        "    best_score = score\n",
        "    best_threshold = threshold\n",
        "print(\"best threshold \", best_threshold, \" best score \", best_score)"
      ],
      "metadata": {
        "colab": {
          "base_uri": "https://localhost:8080/"
        },
        "id": "xR6iaAA8c-VS",
        "outputId": "12e5c453-e93d-478d-b67d-e656d2aba303"
      },
      "execution_count": null,
      "outputs": [
        {
          "output_type": "stream",
          "name": "stdout",
          "text": [
            "threshold  0  score  0.5868421052631578\n",
            "threshold  0.0125  score  0.5842105263157895\n",
            "threshold  0.025  score  0.581578947368421\n",
            "threshold  0.0375  score  0.5710526315789474\n",
            "threshold  0.05  score  0.5684210526315789\n",
            "threshold  0.0625  score  0.5684210526315789\n",
            "threshold  0.075  score  0.5684210526315789\n",
            "threshold  0.0875  score  0.5657894736842105\n",
            "threshold  0.1  score  0.5578947368421052\n",
            "threshold  0.1125  score  0.5526315789473684\n",
            "threshold  0.125  score  0.5473684210526315\n",
            "best threshold  0  best score  0.5868421052631578\n"
          ]
        }
      ]
    },
    {
      "cell_type": "markdown",
      "source": [
        "The best treshold is 0."
      ],
      "metadata": {
        "id": "og0kKHpeC1zb"
      }
    },
    {
      "cell_type": "markdown",
      "source": [
        "To use all the data available, the validation season and the first half of the testing season was added to the training data."
      ],
      "metadata": {
        "id": "6RWwRTlLDBaq"
      }
    },
    {
      "cell_type": "code",
      "source": [
        "X_test_to_append, y_test_to_append = testing_functions.prepare_test_to_append(results_test,\n",
        "                                                                              int(results_test.shape[0] / 2),\n",
        "                                                                              drop_draws=True)"
      ],
      "metadata": {
        "id": "WbnjEPba-6ia"
      },
      "execution_count": null,
      "outputs": []
    },
    {
      "cell_type": "markdown",
      "source": [
        "For evaluation on the testing dataset I divided the testing data into rounds approximately. The model is trained on the training dataset, then it is evaluated on one round of the testing dataset and this round is added to the training dataset."
      ],
      "metadata": {
        "id": "1yd9W9GYDGLh"
      }
    },
    {
      "cell_type": "code",
      "source": [
        "# Adding validation season and 1st half of testing season to the training data\n",
        "X_train = pd.concat([X_train, X_val, X_test_to_append])\n",
        "y_train = pd.concat([y_train, y_val, y_test_to_append])\n",
        "# Rounds of the testing dataset\n",
        "slices = testing_functions.get_slices(results_test, matches_per_round,\n",
        "                                      int(results_test.shape[0] / 2))\n",
        "weighted_sum = 0\n",
        "sum = 0\n",
        "for slc in slices:\n",
        "  # Ignore draws for training\n",
        "  test_to_append = slc[slc['FTR'] != 2]\n",
        "  clf = LogisticRegression(random_state=42, max_iter=10000).fit(X_train, y_train)\n",
        "  X_test = slc.drop(['FTR', 'Date'], axis=1)\n",
        "  y_test = slc['FTR']\n",
        "  preds = clf.predict_proba(X_test)[:, 1]\n",
        "  weighted_sum += (logistic_regression_functions.evaluate(preds, y_test, best_threshold) * len(y_test))\n",
        "  sum += len(y_test)\n",
        "  # Add the round to the training dataset\n",
        "  X_test = test_to_append.drop(['FTR', 'Date'], axis=1)\n",
        "  y_test = test_to_append['FTR']\n",
        "  X_train = pd.concat([X_train, X_test])\n",
        "  y_train = pd.concat([y_train, y_test])\n",
        "  #print(evaluate(preds, y_test, best_threshold) * len(y_test))\n",
        "print(weighted_sum / sum)"
      ],
      "metadata": {
        "colab": {
          "base_uri": "https://localhost:8080/"
        },
        "id": "SuG_aZE4dHoV",
        "outputId": "1ccfebe4-16dd-40eb-e6b9-4279a7d18831"
      },
      "execution_count": null,
      "outputs": [
        {
          "output_type": "stream",
          "name": "stdout",
          "text": [
            "0.49473684210526314\n"
          ]
        }
      ]
    }
  ]
}