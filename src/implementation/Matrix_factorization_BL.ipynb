{
  "nbformat": 4,
  "nbformat_minor": 0,
  "metadata": {
    "colab": {
      "provenance": []
    },
    "kernelspec": {
      "name": "python3",
      "display_name": "Python 3"
    },
    "language_info": {
      "name": "python"
    }
  },
  "cells": [
    {
      "cell_type": "markdown",
      "source": [
        "# Implementation of baseline using Matrix Factorization with BL"
      ],
      "metadata": {
        "id": "Eh3vYnzHPvEs"
      }
    },
    {
      "cell_type": "markdown",
      "source": [
        "Necessary files: testing_functions.py, matrix_factorization_functions.py, BL_18.csv, BL_19.csv"
      ],
      "metadata": {
        "id": "hLMUSBkllOM0"
      }
    },
    {
      "cell_type": "code",
      "source": [
        "import testing_functions\n",
        "import matrix_factorization_functions\n",
        "import pandas as pd\n",
        "import numpy as np\n",
        "from sklearn.model_selection import ParameterGrid"
      ],
      "metadata": {
        "id": "Lc9ayWi3V6Ml"
      },
      "execution_count": null,
      "outputs": []
    },
    {
      "cell_type": "markdown",
      "source": [
        "I used implementation of matrix factorization from https://albertauyeung.github.io/2017/04/23/python-matrix-factorization.html/#source-code."
      ],
      "metadata": {
        "id": "TTr0S0O-Pz_s"
      }
    },
    {
      "cell_type": "markdown",
      "source": [
        "I used implementation of matrix factorization from https://albertauyeung.github.io/2017/04/23/python-matrix-factorization.html/#source-code."
      ],
      "metadata": {
        "id": "TqpMGTbjR27v"
      }
    },
    {
      "cell_type": "markdown",
      "source": [
        "I used season 2017/18 as training and validation dataset. First half of the season is used for training and second half for validation. The baseline was tested on the second half of the 2018/19 season."
      ],
      "metadata": {
        "id": "xLl9P3JXUMVt"
      }
    },
    {
      "cell_type": "markdown",
      "source": [
        "I searched for best hyperparameters threshold and K. The best values are found with the 2017/18 season. For each hyperparameters combination is the model trained and evaluated on the 2017/18 season. The hyperparameter combination with the best validation accuracy is chosen."
      ],
      "metadata": {
        "id": "RnZbSLp0W3kp"
      }
    },
    {
      "cell_type": "code",
      "source": [
        "param_grid = {\n",
        "    'threshold': [0, 0.025, 0.05, 0.075, 0.1, 0.125, 0.15, 0.175, 0.2, 0.225, 0.25],\n",
        "    'K': [2, 3, 4, 5, 6, 7, 8, 9, 10]\n",
        "}\n",
        "param_comb = ParameterGrid(param_grid)\n",
        "\n",
        "val_scores = []\n",
        "for params in param_comb:\n",
        "    # Training on the first half of the season and predicting the second half.\n",
        "    score = matrix_factorization_functions.predict_season('BL_18.csv', **params)\n",
        "    val_scores.append(score)\n",
        "    print(params, ' ', score)\n",
        "\n",
        "best_params = param_comb[np.argmax(val_scores)]\n",
        "best_params"
      ],
      "metadata": {
        "colab": {
          "base_uri": "https://localhost:8080/"
        },
        "id": "4L5_PGiqNfTd",
        "outputId": "39f4ed07-f509-4795-a523-a9b2d3ac0eb6"
      },
      "execution_count": null,
      "outputs": [
        {
          "output_type": "stream",
          "name": "stderr",
          "text": [
            "/content/matrix_factorization_functions.py:107: RuntimeWarning: overflow encountered in multiply\n",
            "  self.Q[j, :] += self.alpha * (e * self.P[i, :] -\n",
            "/content/matrix_factorization_functions.py:105: RuntimeWarning: overflow encountered in multiply\n",
            "  self.P[i, :] += self.alpha * (e * self.Q[j, :] -\n",
            "/content/matrix_factorization_functions.py:90: RuntimeWarning: overflow encountered in double_scalars\n",
            "  error += pow(self.R[x, y] - predicted[x, y], 2)\n",
            "/content/matrix_factorization_functions.py:107: RuntimeWarning: invalid value encountered in subtract\n",
            "  self.Q[j, :] += self.alpha * (e * self.P[i, :] -\n",
            "/content/matrix_factorization_functions.py:101: RuntimeWarning: invalid value encountered in double_scalars\n",
            "  self.b_u[i] += self.alpha * (e - self.beta * self.b_u[i])\n",
            "/content/matrix_factorization_functions.py:105: RuntimeWarning: invalid value encountered in add\n",
            "  self.P[i, :] += self.alpha * (e * self.Q[j, :] -\n"
          ]
        },
        {
          "output_type": "stream",
          "name": "stdout",
          "text": [
            "{'K': 2, 'threshold': 0}   0.0\n",
            "{'K': 2, 'threshold': 0.025}   0.41830065359477125\n",
            "{'K': 2, 'threshold': 0.05}   0.45751633986928103\n",
            "{'K': 2, 'threshold': 0.075}   0.42483660130718953\n",
            "{'K': 2, 'threshold': 0.1}   0.4444444444444444\n",
            "{'K': 2, 'threshold': 0.125}   0.40522875816993464\n",
            "{'K': 2, 'threshold': 0.15}   0.43137254901960786\n",
            "{'K': 2, 'threshold': 0.175}   0.38562091503267976\n",
            "{'K': 2, 'threshold': 0.2}   0.32679738562091504\n",
            "{'K': 2, 'threshold': 0.225}   0.3790849673202614\n",
            "{'K': 2, 'threshold': 0.25}   0.39869281045751637\n",
            "{'K': 3, 'threshold': 0}   0.45751633986928103\n",
            "{'K': 3, 'threshold': 0.025}   0.40522875816993464\n",
            "{'K': 3, 'threshold': 0.05}   0.4117647058823529\n",
            "{'K': 3, 'threshold': 0.075}   0.42483660130718953\n",
            "{'K': 3, 'threshold': 0.1}   0.4117647058823529\n",
            "{'K': 3, 'threshold': 0.125}   0.39869281045751637\n",
            "{'K': 3, 'threshold': 0.15}   0.46405228758169936\n",
            "{'K': 3, 'threshold': 0.175}   0.40522875816993464\n",
            "{'K': 3, 'threshold': 0.2}   0.3660130718954248\n",
            "{'K': 3, 'threshold': 0.225}   0.39215686274509803\n",
            "{'K': 3, 'threshold': 0.25}   0.39869281045751637\n",
            "{'K': 4, 'threshold': 0}   0.41830065359477125\n",
            "{'K': 4, 'threshold': 0.025}   0.4444444444444444\n",
            "{'K': 4, 'threshold': 0.05}   0.46405228758169936\n",
            "{'K': 4, 'threshold': 0.075}   0.45098039215686275\n",
            "{'K': 4, 'threshold': 0.1}   0.38562091503267976\n",
            "{'K': 4, 'threshold': 0.125}   0.43137254901960786\n",
            "{'K': 4, 'threshold': 0.15}   0.3660130718954248\n",
            "{'K': 4, 'threshold': 0.175}   0.38562091503267976\n",
            "{'K': 4, 'threshold': 0.2}   0.3660130718954248\n",
            "{'K': 4, 'threshold': 0.225}   0.40522875816993464\n",
            "{'K': 4, 'threshold': 0.25}   0.3464052287581699\n",
            "{'K': 5, 'threshold': 0}   0.4444444444444444\n",
            "{'K': 5, 'threshold': 0.025}   0.39869281045751637\n",
            "{'K': 5, 'threshold': 0.05}   0.43790849673202614\n",
            "{'K': 5, 'threshold': 0.075}   0.40522875816993464\n",
            "{'K': 5, 'threshold': 0.1}   0.45751633986928103\n",
            "{'K': 5, 'threshold': 0.125}   0.3790849673202614\n",
            "{'K': 5, 'threshold': 0.15}   0.3660130718954248\n",
            "{'K': 5, 'threshold': 0.175}   0.3660130718954248\n",
            "{'K': 5, 'threshold': 0.2}   0.48366013071895425\n",
            "{'K': 5, 'threshold': 0.225}   0.38562091503267976\n",
            "{'K': 5, 'threshold': 0.25}   0.39215686274509803\n",
            "{'K': 6, 'threshold': 0}   0.43137254901960786\n",
            "{'K': 6, 'threshold': 0.025}   0.46405228758169936\n",
            "{'K': 6, 'threshold': 0.05}   0.4117647058823529\n",
            "{'K': 6, 'threshold': 0.075}   0.43137254901960786\n",
            "{'K': 6, 'threshold': 0.1}   0.4117647058823529\n",
            "{'K': 6, 'threshold': 0.125}   0.46405228758169936\n",
            "{'K': 6, 'threshold': 0.15}   0.46405228758169936\n",
            "{'K': 6, 'threshold': 0.175}   0.4117647058823529\n",
            "{'K': 6, 'threshold': 0.2}   0.48366013071895425\n",
            "{'K': 6, 'threshold': 0.225}   0.39215686274509803\n",
            "{'K': 6, 'threshold': 0.25}   0.3790849673202614\n",
            "{'K': 7, 'threshold': 0}   0.42483660130718953\n",
            "{'K': 7, 'threshold': 0.025}   0.40522875816993464\n",
            "{'K': 7, 'threshold': 0.05}   0.49019607843137253\n",
            "{'K': 7, 'threshold': 0.075}   0.45751633986928103\n",
            "{'K': 7, 'threshold': 0.1}   0.43137254901960786\n",
            "{'K': 7, 'threshold': 0.125}   0.43137254901960786\n",
            "{'K': 7, 'threshold': 0.15}   0.5098039215686274\n",
            "{'K': 7, 'threshold': 0.175}   0.39869281045751637\n",
            "{'K': 7, 'threshold': 0.2}   0.45098039215686275\n",
            "{'K': 7, 'threshold': 0.225}   0.35947712418300654\n",
            "{'K': 7, 'threshold': 0.25}   0.42483660130718953\n",
            "{'K': 8, 'threshold': 0}   0.45751633986928103\n",
            "{'K': 8, 'threshold': 0.025}   0.39215686274509803\n",
            "{'K': 8, 'threshold': 0.05}   0.38562091503267976\n",
            "{'K': 8, 'threshold': 0.075}   0.45751633986928103\n",
            "{'K': 8, 'threshold': 0.1}   0.43137254901960786\n",
            "{'K': 8, 'threshold': 0.125}   0.45751633986928103\n",
            "{'K': 8, 'threshold': 0.15}   0.45098039215686275\n",
            "{'K': 8, 'threshold': 0.175}   0.39215686274509803\n",
            "{'K': 8, 'threshold': 0.2}   0.49019607843137253\n",
            "{'K': 8, 'threshold': 0.225}   0.42483660130718953\n",
            "{'K': 8, 'threshold': 0.25}   0.48366013071895425\n",
            "{'K': 9, 'threshold': 0}   0.47058823529411764\n",
            "{'K': 9, 'threshold': 0.025}   0.49673202614379086\n",
            "{'K': 9, 'threshold': 0.05}   0.46405228758169936\n",
            "{'K': 9, 'threshold': 0.075}   0.46405228758169936\n",
            "{'K': 9, 'threshold': 0.1}   0.4117647058823529\n",
            "{'K': 9, 'threshold': 0.125}   0.38562091503267976\n",
            "{'K': 9, 'threshold': 0.15}   0.4117647058823529\n",
            "{'K': 9, 'threshold': 0.175}   0.4444444444444444\n",
            "{'K': 9, 'threshold': 0.2}   0.45098039215686275\n",
            "{'K': 9, 'threshold': 0.225}   0.43137254901960786\n",
            "{'K': 9, 'threshold': 0.25}   0.38562091503267976\n",
            "{'K': 10, 'threshold': 0}   0.43137254901960786\n",
            "{'K': 10, 'threshold': 0.025}   0.5098039215686274\n",
            "{'K': 10, 'threshold': 0.05}   0.47058823529411764\n",
            "{'K': 10, 'threshold': 0.075}   0.42483660130718953\n",
            "{'K': 10, 'threshold': 0.1}   0.45098039215686275\n",
            "{'K': 10, 'threshold': 0.125}   0.43790849673202614\n",
            "{'K': 10, 'threshold': 0.15}   0.46405228758169936\n",
            "{'K': 10, 'threshold': 0.175}   0.4117647058823529\n",
            "{'K': 10, 'threshold': 0.2}   0.41830065359477125\n",
            "{'K': 10, 'threshold': 0.225}   0.4444444444444444\n",
            "{'K': 10, 'threshold': 0.25}   0.4117647058823529\n"
          ]
        },
        {
          "output_type": "execute_result",
          "data": {
            "text/plain": [
              "{'threshold': 0.15, 'K': 7}"
            ]
          },
          "metadata": {},
          "execution_count": 2
        }
      ]
    },
    {
      "cell_type": "markdown",
      "source": [
        "Best hyperparameters are threshold 0.15 and K 7."
      ],
      "metadata": {
        "id": "L4DhasYfXjo1"
      }
    },
    {
      "cell_type": "code",
      "source": [
        "matrix_factorization_functions.test_season('BL_19.csv', **best_params)"
      ],
      "metadata": {
        "colab": {
          "base_uri": "https://localhost:8080/"
        },
        "id": "gzfHH9rHFi8M",
        "outputId": "d19b918e-af6d-465d-864b-e5b16f13cd62"
      },
      "execution_count": null,
      "outputs": [
        {
          "output_type": "stream",
          "name": "stderr",
          "text": [
            "/usr/local/lib/python3.9/dist-packages/numpy/core/fromnumeric.py:3474: RuntimeWarning: Mean of empty slice.\n",
            "  return _methods._mean(a, axis=axis, dtype=dtype,\n",
            "/usr/local/lib/python3.9/dist-packages/numpy/core/_methods.py:189: RuntimeWarning: invalid value encountered in double_scalars\n",
            "  ret = ret.dtype.type(ret / rcount)\n"
          ]
        },
        {
          "output_type": "execute_result",
          "data": {
            "text/plain": [
              "0.4444444444444444"
            ]
          },
          "metadata": {},
          "execution_count": 14
        }
      ]
    },
    {
      "cell_type": "markdown",
      "source": [
        "The testing accuracy is 44.44%"
      ],
      "metadata": {
        "id": "bOs5lr5FhdzU"
      }
    }
  ]
}