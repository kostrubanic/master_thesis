{
  "nbformat": 4,
  "nbformat_minor": 0,
  "metadata": {
    "colab": {
      "provenance": []
    },
    "kernelspec": {
      "name": "python3",
      "display_name": "Python 3"
    },
    "language_info": {
      "name": "python"
    }
  },
  "cells": [
    {
      "cell_type": "markdown",
      "source": [
        "# Implementation of baseline using Matrix Factorization with EPL"
      ],
      "metadata": {
        "id": "Eh3vYnzHPvEs"
      }
    },
    {
      "cell_type": "markdown",
      "source": [
        "Necessary files: testing_functions.py, matrix_factorization_functions.py, EPL_18.csv, EPL_19.csv"
      ],
      "metadata": {
        "id": "a-J_uRhzlfgh"
      }
    },
    {
      "cell_type": "code",
      "source": [
        "import testing_functions\n",
        "import matrix_factorization_functions\n",
        "import pandas as pd\n",
        "import numpy as np\n",
        "from sklearn.model_selection import ParameterGrid"
      ],
      "metadata": {
        "id": "Lc9ayWi3V6Ml"
      },
      "execution_count": null,
      "outputs": []
    },
    {
      "cell_type": "markdown",
      "source": [
        "I used implementation of matrix factorization from https://albertauyeung.github.io/2017/04/23/python-matrix-factorization.html/#source-code."
      ],
      "metadata": {
        "id": "TqpMGTbjR27v"
      }
    },
    {
      "cell_type": "markdown",
      "source": [
        "I used season 2017/18 as training and validation dataset. First half of the season is used for training and second half for validation. The baseline was tested on the second half of the 2018/19 season."
      ],
      "metadata": {
        "id": "xLl9P3JXUMVt"
      }
    },
    {
      "cell_type": "markdown",
      "source": [
        "I searched for best hyperparameters threshold and K. The best values are found with the 2017/18 season. For each hyperparameters combination is the model trained and evaluated on the 2017/18 season. The hyperparameter combination with the best validation accuracy is chosen."
      ],
      "metadata": {
        "id": "RnZbSLp0W3kp"
      }
    },
    {
      "cell_type": "code",
      "source": [
        "param_grid = {\n",
        "    'threshold': [0, 0.025, 0.05, 0.075, 0.1, 0.125, 0.15, 0.175, 0.2, 0.225, 0.25],\n",
        "    'K': [2, 3, 4, 5, 6, 7, 8, 9, 10]\n",
        "}\n",
        "param_comb = ParameterGrid(param_grid)\n",
        "\n",
        "val_scores = []\n",
        "for params in param_comb:\n",
        "    # Training on the first half of the season and predicting the second half.\n",
        "    score = matrix_factorization_functions.predict_season('EPL_18.csv', **params)\n",
        "    val_scores.append(score)\n",
        "    print(params, ' ', score)\n",
        "\n",
        "best_params = param_comb[np.argmax(val_scores)]\n",
        "best_params"
      ],
      "metadata": {
        "colab": {
          "base_uri": "https://localhost:8080/"
        },
        "id": "4L5_PGiqNfTd",
        "outputId": "68a20516-8ee4-47c6-e0a2-ec57419d685d"
      },
      "execution_count": null,
      "outputs": [
        {
          "output_type": "stream",
          "name": "stdout",
          "text": [
            "{'K': 2, 'threshold': 0}   0.45263157894736844\n",
            "{'K': 2, 'threshold': 0.025}   0.4631578947368421\n",
            "{'K': 2, 'threshold': 0.05}   0.45789473684210524\n",
            "{'K': 2, 'threshold': 0.075}   0.5052631578947369\n",
            "{'K': 2, 'threshold': 0.1}   0.4842105263157895\n"
          ]
        },
        {
          "output_type": "stream",
          "name": "stderr",
          "text": [
            "/content/matrix_factorization_functions.py:107: RuntimeWarning: overflow encountered in multiply\n",
            "  self.Q[j, :] += self.alpha * (e * self.P[i, :] -\n",
            "/content/matrix_factorization_functions.py:105: RuntimeWarning: overflow encountered in multiply\n",
            "  self.P[i, :] += self.alpha * (e * self.Q[j, :] -\n",
            "/content/matrix_factorization_functions.py:107: RuntimeWarning: invalid value encountered in subtract\n",
            "  self.Q[j, :] += self.alpha * (e * self.P[i, :] -\n",
            "/content/matrix_factorization_functions.py:105: RuntimeWarning: invalid value encountered in add\n",
            "  self.P[i, :] += self.alpha * (e * self.Q[j, :] -\n",
            "/content/matrix_factorization_functions.py:101: RuntimeWarning: invalid value encountered in double_scalars\n",
            "  self.b_u[i] += self.alpha * (e - self.beta * self.b_u[i])\n",
            "/content/matrix_factorization_functions.py:112: RuntimeWarning: invalid value encountered in double_scalars\n",
            "  prediction = self.b + self.b_u[i] + self.b_i[j] + \\\n"
          ]
        },
        {
          "output_type": "stream",
          "name": "stdout",
          "text": [
            "{'K': 2, 'threshold': 0.125}   0.0\n",
            "{'K': 2, 'threshold': 0.15}   0.4631578947368421\n"
          ]
        },
        {
          "output_type": "stream",
          "name": "stderr",
          "text": [
            "/content/matrix_factorization_functions.py:107: RuntimeWarning: overflow encountered in multiply\n",
            "  self.Q[j, :] += self.alpha * (e * self.P[i, :] -\n",
            "/content/matrix_factorization_functions.py:107: RuntimeWarning: invalid value encountered in subtract\n",
            "  self.Q[j, :] += self.alpha * (e * self.P[i, :] -\n",
            "/content/matrix_factorization_functions.py:101: RuntimeWarning: invalid value encountered in double_scalars\n",
            "  self.b_u[i] += self.alpha * (e - self.beta * self.b_u[i])\n",
            "/content/matrix_factorization_functions.py:105: RuntimeWarning: invalid value encountered in add\n",
            "  self.P[i, :] += self.alpha * (e * self.Q[j, :] -\n",
            "/content/matrix_factorization_functions.py:105: RuntimeWarning: overflow encountered in multiply\n",
            "  self.P[i, :] += self.alpha * (e * self.Q[j, :] -\n",
            "/content/matrix_factorization_functions.py:112: RuntimeWarning: invalid value encountered in double_scalars\n",
            "  prediction = self.b + self.b_u[i] + self.b_i[j] + \\\n"
          ]
        },
        {
          "output_type": "stream",
          "name": "stdout",
          "text": [
            "{'K': 2, 'threshold': 0.175}   0.0\n",
            "{'K': 2, 'threshold': 0.2}   0.4631578947368421\n",
            "{'K': 2, 'threshold': 0.225}   0.4789473684210526\n",
            "{'K': 2, 'threshold': 0.25}   0.41578947368421054\n",
            "{'K': 3, 'threshold': 0}   0.4789473684210526\n",
            "{'K': 3, 'threshold': 0.025}   0.4263157894736842\n",
            "{'K': 3, 'threshold': 0.05}   0.43157894736842106\n",
            "{'K': 3, 'threshold': 0.075}   0.4473684210526316\n",
            "{'K': 3, 'threshold': 0.1}   0.48947368421052634\n",
            "{'K': 3, 'threshold': 0.125}   0.45789473684210524\n",
            "{'K': 3, 'threshold': 0.15}   0.46842105263157896\n",
            "{'K': 3, 'threshold': 0.175}   0.4368421052631579\n",
            "{'K': 3, 'threshold': 0.2}   0.45789473684210524\n",
            "{'K': 3, 'threshold': 0.225}   0.4842105263157895\n",
            "{'K': 3, 'threshold': 0.25}   0.4789473684210526\n",
            "{'K': 4, 'threshold': 0}   0.45263157894736844\n",
            "{'K': 4, 'threshold': 0.025}   0.48947368421052634\n",
            "{'K': 4, 'threshold': 0.05}   0.45789473684210524\n",
            "{'K': 4, 'threshold': 0.075}   0.4789473684210526\n",
            "{'K': 4, 'threshold': 0.1}   0.48947368421052634\n",
            "{'K': 4, 'threshold': 0.125}   0.46842105263157896\n",
            "{'K': 4, 'threshold': 0.15}   0.4263157894736842\n",
            "{'K': 4, 'threshold': 0.175}   0.4473684210526316\n",
            "{'K': 4, 'threshold': 0.2}   0.47368421052631576\n",
            "{'K': 4, 'threshold': 0.225}   0.4\n",
            "{'K': 4, 'threshold': 0.25}   0.4368421052631579\n",
            "{'K': 5, 'threshold': 0}   0.4631578947368421\n",
            "{'K': 5, 'threshold': 0.025}   0.49473684210526314\n",
            "{'K': 5, 'threshold': 0.05}   0.4473684210526316\n",
            "{'K': 5, 'threshold': 0.075}   0.43157894736842106\n",
            "{'K': 5, 'threshold': 0.1}   0.4842105263157895\n",
            "{'K': 5, 'threshold': 0.125}   0.4263157894736842\n",
            "{'K': 5, 'threshold': 0.15}   0.4473684210526316\n",
            "{'K': 5, 'threshold': 0.175}   0.5157894736842106\n",
            "{'K': 5, 'threshold': 0.2}   0.48947368421052634\n",
            "{'K': 5, 'threshold': 0.225}   0.5\n",
            "{'K': 5, 'threshold': 0.25}   0.45263157894736844\n",
            "{'K': 6, 'threshold': 0}   0.4631578947368421\n",
            "{'K': 6, 'threshold': 0.025}   0.48947368421052634\n",
            "{'K': 6, 'threshold': 0.05}   0.46842105263157896\n",
            "{'K': 6, 'threshold': 0.075}   0.4631578947368421\n",
            "{'K': 6, 'threshold': 0.1}   0.45789473684210524\n",
            "{'K': 6, 'threshold': 0.125}   0.45789473684210524\n",
            "{'K': 6, 'threshold': 0.15}   0.4473684210526316\n",
            "{'K': 6, 'threshold': 0.175}   0.4105263157894737\n",
            "{'K': 6, 'threshold': 0.2}   0.5421052631578948\n",
            "{'K': 6, 'threshold': 0.225}   0.4421052631578947\n",
            "{'K': 6, 'threshold': 0.25}   0.46842105263157896\n",
            "{'K': 7, 'threshold': 0}   0.4842105263157895\n",
            "{'K': 7, 'threshold': 0.025}   0.4789473684210526\n",
            "{'K': 7, 'threshold': 0.05}   0.48947368421052634\n",
            "{'K': 7, 'threshold': 0.075}   0.45789473684210524\n",
            "{'K': 7, 'threshold': 0.1}   0.46842105263157896\n",
            "{'K': 7, 'threshold': 0.125}   0.4421052631578947\n",
            "{'K': 7, 'threshold': 0.15}   0.5210526315789473\n",
            "{'K': 7, 'threshold': 0.175}   0.48947368421052634\n",
            "{'K': 7, 'threshold': 0.2}   0.46842105263157896\n",
            "{'K': 7, 'threshold': 0.225}   0.4789473684210526\n",
            "{'K': 7, 'threshold': 0.25}   0.4263157894736842\n",
            "{'K': 8, 'threshold': 0}   0.4789473684210526\n",
            "{'K': 8, 'threshold': 0.025}   0.5157894736842106\n",
            "{'K': 8, 'threshold': 0.05}   0.531578947368421\n",
            "{'K': 8, 'threshold': 0.075}   0.5105263157894737\n",
            "{'K': 8, 'threshold': 0.1}   0.4631578947368421\n",
            "{'K': 8, 'threshold': 0.125}   0.4631578947368421\n",
            "{'K': 8, 'threshold': 0.15}   0.45789473684210524\n",
            "{'K': 8, 'threshold': 0.175}   0.48947368421052634\n",
            "{'K': 8, 'threshold': 0.2}   0.4789473684210526\n",
            "{'K': 8, 'threshold': 0.225}   0.46842105263157896\n",
            "{'K': 8, 'threshold': 0.25}   0.49473684210526314\n",
            "{'K': 9, 'threshold': 0}   0.5052631578947369\n",
            "{'K': 9, 'threshold': 0.025}   0.5052631578947369\n",
            "{'K': 9, 'threshold': 0.05}   0.5105263157894737\n",
            "{'K': 9, 'threshold': 0.075}   0.5157894736842106\n",
            "{'K': 9, 'threshold': 0.1}   0.5157894736842106\n",
            "{'K': 9, 'threshold': 0.125}   0.4842105263157895\n",
            "{'K': 9, 'threshold': 0.15}   0.5105263157894737\n",
            "{'K': 9, 'threshold': 0.175}   0.48947368421052634\n",
            "{'K': 9, 'threshold': 0.2}   0.5421052631578948\n",
            "{'K': 9, 'threshold': 0.225}   0.45789473684210524\n",
            "{'K': 9, 'threshold': 0.25}   0.46842105263157896\n",
            "{'K': 10, 'threshold': 0}   0.5368421052631579\n",
            "{'K': 10, 'threshold': 0.025}   0.5052631578947369\n",
            "{'K': 10, 'threshold': 0.05}   0.5210526315789473\n",
            "{'K': 10, 'threshold': 0.075}   0.5210526315789473\n",
            "{'K': 10, 'threshold': 0.1}   0.5210526315789473\n",
            "{'K': 10, 'threshold': 0.125}   0.4789473684210526\n",
            "{'K': 10, 'threshold': 0.15}   0.45789473684210524\n",
            "{'K': 10, 'threshold': 0.175}   0.49473684210526314\n",
            "{'K': 10, 'threshold': 0.2}   0.4842105263157895\n",
            "{'K': 10, 'threshold': 0.225}   0.49473684210526314\n",
            "{'K': 10, 'threshold': 0.25}   0.4473684210526316\n"
          ]
        },
        {
          "output_type": "execute_result",
          "data": {
            "text/plain": [
              "{'threshold': 0.2, 'K': 6}"
            ]
          },
          "metadata": {},
          "execution_count": 2
        }
      ]
    },
    {
      "cell_type": "markdown",
      "source": [
        "Best hyperparameters are threshold 0.2 and K 6."
      ],
      "metadata": {
        "id": "L4DhasYfXjo1"
      }
    },
    {
      "cell_type": "markdown",
      "source": [
        "I used the second half of the season 2018/19 as testing dataset. For evaluation on the testing dataset I divided the testing data into rounds approximately. The training data for here is the first half of the season 2018/19. The model is trained on the training data, it is evaluated on one round of the testing dataset and this round is added to the training data."
      ],
      "metadata": {
        "id": "b-tK5H2v2gfi"
      }
    },
    {
      "cell_type": "code",
      "source": [
        "matrix_factorization_functions.test_season('EPL_19.csv', **best_params)"
      ],
      "metadata": {
        "colab": {
          "base_uri": "https://localhost:8080/"
        },
        "id": "gzfHH9rHFi8M",
        "outputId": "da714c48-e8aa-466e-9560-832da5c758fe"
      },
      "execution_count": null,
      "outputs": [
        {
          "output_type": "stream",
          "name": "stderr",
          "text": [
            "/usr/local/lib/python3.9/dist-packages/numpy/core/fromnumeric.py:3474: RuntimeWarning: Mean of empty slice.\n",
            "  return _methods._mean(a, axis=axis, dtype=dtype,\n",
            "/usr/local/lib/python3.9/dist-packages/numpy/core/_methods.py:189: RuntimeWarning: invalid value encountered in double_scalars\n",
            "  ret = ret.dtype.type(ret / rcount)\n"
          ]
        },
        {
          "output_type": "execute_result",
          "data": {
            "text/plain": [
              "0.45789473684210524"
            ]
          },
          "metadata": {},
          "execution_count": 5
        }
      ]
    },
    {
      "cell_type": "markdown",
      "source": [
        "The testing accuracy is 45.79%"
      ],
      "metadata": {
        "id": "bOs5lr5FhdzU"
      }
    }
  ]
}