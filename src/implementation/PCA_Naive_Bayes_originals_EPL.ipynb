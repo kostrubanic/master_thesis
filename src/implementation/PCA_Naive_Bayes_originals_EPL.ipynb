{
  "nbformat": 4,
  "nbformat_minor": 0,
  "metadata": {
    "colab": {
      "provenance": []
    },
    "kernelspec": {
      "name": "python3",
      "display_name": "Python 3"
    },
    "language_info": {
      "name": "python"
    }
  },
  "cells": [
    {
      "cell_type": "markdown",
      "source": [
        "# Implementation of baseline using PCA and Naive Bayes with Original feature set and EPL"
      ],
      "metadata": {
        "id": "3CjQgUDmBESn"
      }
    },
    {
      "cell_type": "markdown",
      "source": [
        "Necessary files: testing_functions.py, pca_nb_functions.py, EPL_06.csv, EPL_07.csv, ..., EPL_19.csv"
      ],
      "metadata": {
        "id": "lAE-EavRnecY"
      }
    },
    {
      "cell_type": "code",
      "execution_count": null,
      "metadata": {
        "id": "ijTY38olmCGO"
      },
      "outputs": [],
      "source": [
        "import testing_functions\n",
        "import pca_nb_functions\n",
        "import pandas as pd\n",
        "from datetime import datetime\n",
        "from sklearn.decomposition import PCA\n",
        "from sklearn.naive_bayes import GaussianNB\n",
        "from sklearn.naive_bayes import MultinomialNB"
      ]
    },
    {
      "cell_type": "markdown",
      "source": [
        "The baseline is implemented according to the paper Predicting The Dutch Football Competition Using Public Data: A Machine Learning Approach by N. Tax and Y. Joustra from 2015. The original features as described in the paper are used and the model is evaluated on the EPL dataset."
      ],
      "metadata": {
        "id": "DkGiD-EBZBi8"
      }
    },
    {
      "cell_type": "markdown",
      "source": [
        "The authors used data from 13 seasons, so I used data from 13 seasons as well. I used seasons from 2006/07 to 2016/17 for training, season 2017/18 for validation and the second half of season 2018/19 for testing. Here the validation part is not necessary, but I wanted to keep the split of the dataset as similar as possible with other baselines and models."
      ],
      "metadata": {
        "id": "aoM8tWlDbptv"
      }
    },
    {
      "cell_type": "code",
      "source": [
        "X_train, y_train = pca_nb_functions.create_data(['EPL_17.csv', 'EPL_16.csv',\n",
        "                                'EPL_15.csv', 'EPL_14.csv', 'EPL_13.csv',\n",
        "                                'EPL_12.csv', 'EPL_11.csv', 'EPL_10.csv',\n",
        "                                'EPL_09.csv', 'EPL_08.csv', 'EPL_07.csv',\n",
        "                                'EPL_06.csv'], pca_nb_functions.teams_epl)\n",
        "results_val, matches_per_round = pca_nb_functions.create_data_single('EPL_18.csv', 'EPL_17.csv',\n",
        "                            ['EPL_16.csv',\n",
        "                             'EPL_15.csv', 'EPL_14.csv', 'EPL_13.csv',\n",
        "                             'EPL_12.csv', 'EPL_11.csv', 'EPL_10.csv',\n",
        "                             'EPL_09.csv', 'EPL_08.csv', 'EPL_07.csv',\n",
        "                             'EPL_06.csv'], pca_nb_functions.teams_epl)\n",
        "# Dates are returned as well for dividing testing season into slices\n",
        "results_test, matches_per_round = pca_nb_functions.create_data_single('EPL_19.csv', 'EPL_18.csv',\n",
        "                            ['EPL_17.csv', 'EPL_16.csv',\n",
        "                             'EPL_15.csv', 'EPL_14.csv', 'EPL_13.csv',\n",
        "                             'EPL_12.csv', 'EPL_11.csv', 'EPL_10.csv',\n",
        "                             'EPL_09.csv', 'EPL_08.csv', 'EPL_07.csv',\n",
        "                             'EPL_06.csv'], pca_nb_functions.teams_epl,\n",
        "                             return_dates=True)"
      ],
      "metadata": {
        "colab": {
          "base_uri": "https://localhost:8080/"
        },
        "id": "FM5mRcWmM1Vx",
        "outputId": "ffd3c579-faf4-4d87-ad3c-a02517ff2ae4"
      },
      "execution_count": null,
      "outputs": [
        {
          "output_type": "stream",
          "name": "stdout",
          "text": [
            "Processing EPL_17.csv season file.\n",
            "Processing EPL_16.csv season file.\n",
            "Processing EPL_15.csv season file.\n",
            "Processing EPL_14.csv season file.\n",
            "Processing EPL_13.csv season file.\n",
            "Processing EPL_12.csv season file.\n",
            "Processing EPL_11.csv season file.\n",
            "Processing EPL_10.csv season file.\n",
            "Processing EPL_09.csv season file.\n",
            "Processing EPL_08.csv season file.\n",
            "Processing EPL_07.csv season file.\n"
          ]
        }
      ]
    },
    {
      "cell_type": "code",
      "source": [
        "X_val = results_val.drop('FTR', axis=1)\n",
        "y_val = results_val['FTR']"
      ],
      "metadata": {
        "id": "uCtp7SGxpa0m"
      },
      "execution_count": null,
      "outputs": []
    },
    {
      "cell_type": "markdown",
      "source": [
        "In the paper the highest accuracy was achieved with 3 PCA components. So I used 3 components as well."
      ],
      "metadata": {
        "id": "0usIkOZgoiqf"
      }
    },
    {
      "cell_type": "markdown",
      "source": [
        "To use all the data available, the validation season and the first half of the testing season was added to the training data."
      ],
      "metadata": {
        "id": "158CU90QafjB"
      }
    },
    {
      "cell_type": "code",
      "source": [
        "# Some rounds in the beginning are ignored, this is the correct index\n",
        "# of the start of the second half of the season\n",
        "start_test_index = 13 * matches_per_round"
      ],
      "metadata": {
        "id": "pG9iKhTnpGw7"
      },
      "execution_count": null,
      "outputs": []
    },
    {
      "cell_type": "code",
      "source": [
        "X_test_to_append, y_test_to_append = testing_functions.prepare_test_to_append(results_test,\n",
        "                                                                              start_test_index)"
      ],
      "metadata": {
        "id": "6zMdphRH29Io"
      },
      "execution_count": null,
      "outputs": []
    },
    {
      "cell_type": "markdown",
      "source": [
        "For evaluation on the testing dataset I divided the testing data into rounds approximately. The model is trained on the training dataset, then it is evaluated on one round of the testing dataset and this round is added to the training dataset.\n"
      ],
      "metadata": {
        "id": "RTbyFt1PbLEz"
      }
    },
    {
      "cell_type": "code",
      "source": [
        "# Adding validation season and 1st half of testing season to the training data\n",
        "X_train = pd.concat([X_train, X_val, X_test_to_append])\n",
        "y_train = pd.concat([y_train, y_val, y_test_to_append])\n",
        "# Rounds of the testing dataset\n",
        "slices = testing_functions.get_slices(results_test, matches_per_round,\n",
        "                                      start_test_index)\n",
        "weighted_sum = 0\n",
        "sum = 0\n",
        "for slc in slices:\n",
        "  pca = PCA(n_components=3)\n",
        "  X_train_pca = pca.fit_transform(X_train)\n",
        "  clf = GaussianNB().fit(X_train_pca, y_train)\n",
        "  X_test = slc.drop(['FTR', 'Date'], axis=1)\n",
        "  y_test = slc['FTR']\n",
        "  X_test_pca = pca.transform(X_test)\n",
        "  weighted_sum += (clf.score(X_test_pca, y_test) * len(y_test))\n",
        "  sum += len(y_test)\n",
        "  # Add the round to the training dataset\n",
        "  X_train = pd.concat([X_train, X_test])\n",
        "  y_train = pd.concat([y_train, y_test])\n",
        "print(weighted_sum / sum)"
      ],
      "metadata": {
        "colab": {
          "base_uri": "https://localhost:8080/"
        },
        "id": "46fNAQVpZLnE",
        "outputId": "490a320e-a713-471c-dda0-b59a528f2f6f"
      },
      "execution_count": null,
      "outputs": [
        {
          "output_type": "stream",
          "name": "stdout",
          "text": [
            "0.5\n"
          ]
        }
      ]
    },
    {
      "cell_type": "markdown",
      "source": [
        "The testing accuracy is 50%"
      ],
      "metadata": {
        "id": "o8LLo6wid-NW"
      }
    }
  ]
}