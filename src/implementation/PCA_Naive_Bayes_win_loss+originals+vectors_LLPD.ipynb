{
  "nbformat": 4,
  "nbformat_minor": 0,
  "metadata": {
    "colab": {
      "provenance": []
    },
    "kernelspec": {
      "name": "python3",
      "display_name": "Python 3"
    },
    "language_info": {
      "name": "python"
    }
  },
  "cells": [
    {
      "cell_type": "markdown",
      "source": [
        "# Implementation of baseline using PCA and Naive Bayes with Original + Win-loss + feature vectors feature set and LLPD"
      ],
      "metadata": {
        "id": "3O7pa-aZ7whs"
      }
    },
    {
      "cell_type": "markdown",
      "source": [
        "Necessary files: testing_functions.py, pca_nb_functions.py, feature_vectors_functions.py, LLPD_06.csv, LLPD_07.csv, ..., LLPD_19.csv, A_LLPD.csv, H_LLPD.csv"
      ],
      "metadata": {
        "id": "RElTKorQo73R"
      }
    },
    {
      "cell_type": "code",
      "execution_count": null,
      "metadata": {
        "id": "J_pgMKn_fK2Q"
      },
      "outputs": [],
      "source": [
        "import testing_functions\n",
        "import pca_nb_functions\n",
        "import feature_vectors_functions\n",
        "import pandas as pd\n",
        "import numpy as np\n",
        "from datetime import datetime\n",
        "from sklearn.decomposition import PCA\n",
        "from sklearn.naive_bayes import GaussianNB\n",
        "from sklearn.naive_bayes import MultinomialNB"
      ]
    },
    {
      "cell_type": "markdown",
      "source": [
        "The baseline is implemented according to the paper Predicting The Dutch Football Competition Using Public Data: A Machine Learning Approach by N. Tax and Y. Joustra from 2015. The original features from paper and feature vectors are used and the model is evaluated on the LLPD dataset."
      ],
      "metadata": {
        "id": "Tm9_2Ga679pK"
      }
    },
    {
      "cell_type": "markdown",
      "source": [
        "The authors used data from 13 seasons, so I used data from 13 seasons as well. I used seasons from 2006/07 to 2016/17 for training, season 2017/18 for validation and the second half of season 2018/19 for testing. Here the validation part is not necessary, but I wanted to keep the split of the dataset as similar as possible with other baselines and models."
      ],
      "metadata": {
        "id": "yWekdLio8HTQ"
      }
    },
    {
      "cell_type": "code",
      "source": [
        "X_train, y_train = pca_nb_functions.create_data(['LLPD_17.csv', 'LLPD_16.csv',\n",
        "                             'LLPD_15.csv', 'LLPD_14.csv', 'LLPD_13.csv',\n",
        "                             'LLPD_12.csv', 'LLPD_11.csv', 'LLPD_10.csv',\n",
        "                             'LLPD_09.csv', 'LLPD_08.csv', 'LLPD_07.csv',\n",
        "                                'LLPD_06.csv'], pca_nb_functions.teams_llpd, return_names=True)\n",
        "results_val, matches_per_round = pca_nb_functions.create_data_single('LLPD_18.csv', 'LLPD_17.csv',\n",
        "                            ['LLPD_16.csv',\n",
        "                             'LLPD_15.csv', 'LLPD_14.csv', 'LLPD_13.csv',\n",
        "                             'LLPD_12.csv', 'LLPD_11.csv', 'LLPD_10.csv',\n",
        "                             'LLPD_09.csv', 'LLPD_08.csv', 'LLPD_07.csv',\n",
        "                             'LLPD_06.csv'], pca_nb_functions.teams_llpd, return_names=True)\n",
        "# Dates are returned as well for dividing testing season into slices\n",
        "results_test, matches_per_round = pca_nb_functions.create_data_single('LLPD_19.csv', 'LLPD_18.csv',\n",
        "                            ['LLPD_17.csv', 'LLPD_16.csv',\n",
        "                             'LLPD_15.csv', 'LLPD_14.csv', 'LLPD_13.csv',\n",
        "                             'LLPD_12.csv', 'LLPD_11.csv', 'LLPD_10.csv',\n",
        "                             'LLPD_09.csv', 'LLPD_08.csv', 'LLPD_07.csv',\n",
        "                             'LLPD_06.csv'], pca_nb_functions.teams_llpd,\n",
        "                             return_dates=True, return_names=True)"
      ],
      "metadata": {
        "colab": {
          "base_uri": "https://localhost:8080/"
        },
        "id": "8Gxnv3eGf11H",
        "outputId": "932fc145-6d86-4402-cdf1-dff8fc7fd0c4"
      },
      "execution_count": null,
      "outputs": [
        {
          "output_type": "stream",
          "name": "stdout",
          "text": [
            "Processing LLPD_17.csv season file.\n",
            "Processing LLPD_16.csv season file.\n",
            "Processing LLPD_15.csv season file.\n",
            "Processing LLPD_14.csv season file.\n",
            "Processing LLPD_13.csv season file.\n",
            "Processing LLPD_12.csv season file.\n",
            "Processing LLPD_11.csv season file.\n",
            "Processing LLPD_10.csv season file.\n",
            "Processing LLPD_09.csv season file.\n",
            "Processing LLPD_08.csv season file.\n",
            "Processing LLPD_07.csv season file.\n"
          ]
        }
      ]
    },
    {
      "cell_type": "code",
      "source": [
        "A = pd.read_csv('A_LLPD.csv')\n",
        "H = pd.read_csv('H_LLPD.csv')"
      ],
      "metadata": {
        "id": "fdduSTcRgpTc"
      },
      "execution_count": null,
      "outputs": []
    },
    {
      "cell_type": "code",
      "source": [
        "# Adding the feature vectors to the features\n",
        "X_train = feature_vectors_functions.add_feature_vector(X_train, A, H)\n",
        "results_val = feature_vectors_functions.add_feature_vector(results_val, A, H)\n",
        "results_test = feature_vectors_functions.add_feature_vector(results_test, A, H)"
      ],
      "metadata": {
        "id": "42tCXCTTgwkS"
      },
      "execution_count": null,
      "outputs": []
    },
    {
      "cell_type": "code",
      "source": [
        "X_val = results_val.drop('FTR', axis=1)\n",
        "y_val = results_val['FTR']"
      ],
      "metadata": {
        "id": "V9cDuAztgx43"
      },
      "execution_count": null,
      "outputs": []
    },
    {
      "cell_type": "markdown",
      "source": [
        "In the paper the highest accuracy was achieved with 3 PCA components. So I used 3 components as well."
      ],
      "metadata": {
        "id": "_iTsMdlY8oAV"
      }
    },
    {
      "cell_type": "markdown",
      "source": [
        "To use all the data available, the validation season and the first half of the testing season was added to the training data."
      ],
      "metadata": {
        "id": "bSY2Ybb48uFn"
      }
    },
    {
      "cell_type": "code",
      "source": [
        "# Some rounds in the beginning are ignored, this is the correct index\n",
        "# of the start of the second half of the season\n",
        "start_test_index = 13 * matches_per_round"
      ],
      "metadata": {
        "id": "1An6T38Z6JDV"
      },
      "execution_count": null,
      "outputs": []
    },
    {
      "cell_type": "code",
      "source": [
        "X_test_to_append, y_test_to_append = testing_functions.prepare_test_to_append(results_test,\n",
        "                                                                              start_test_index)"
      ],
      "metadata": {
        "id": "uCeavYOM6K7-"
      },
      "execution_count": null,
      "outputs": []
    },
    {
      "cell_type": "markdown",
      "source": [
        "For evaluation on the testing dataset I divided the testing data into rounds approximately. The model is trained on the training dataset, then it is evaluated on one round of the testing dataset and this round is added to the training dataset."
      ],
      "metadata": {
        "id": "1cLohsy88yOq"
      }
    },
    {
      "cell_type": "code",
      "source": [
        "# Adding validation season and 1st half of testing season to the training data\n",
        "X_train = pd.concat([X_train, X_val, X_test_to_append])\n",
        "y_train = pd.concat([y_train, y_val, y_test_to_append])\n",
        "# Rounds of the testing dataset\n",
        "slices = testing_functions.get_slices(results_test, matches_per_round,\n",
        "                                      start_test_index)\n",
        "weighted_sum = 0\n",
        "sum = 0\n",
        "for slc in slices:\n",
        "  pca = PCA(n_components=3)\n",
        "  X_train_pca = pca.fit_transform(X_train)\n",
        "  clf = GaussianNB().fit(X_train_pca, y_train)\n",
        "  X_test = slc.drop(['FTR', 'Date'], axis=1)\n",
        "  y_test = slc['FTR']\n",
        "  X_test_pca = pca.transform(X_test)\n",
        "  weighted_sum += (clf.score(X_test_pca, y_test) * len(y_test))\n",
        "  sum += len(y_test)\n",
        "  # Add the round to the training dataset\n",
        "  X_train = pd.concat([X_train, X_test])\n",
        "  y_train = pd.concat([y_train, y_test])\n",
        "print(weighted_sum / sum)"
      ],
      "metadata": {
        "colab": {
          "base_uri": "https://localhost:8080/"
        },
        "id": "FVL_SVO8g8kK",
        "outputId": "e0abc895-1b12-4f75-9c76-c2364dd2a753"
      },
      "execution_count": null,
      "outputs": [
        {
          "output_type": "stream",
          "name": "stdout",
          "text": [
            "0.48947368421052634\n"
          ]
        }
      ]
    },
    {
      "cell_type": "markdown",
      "source": [
        "The testing accuracy is 48.95%"
      ],
      "metadata": {
        "id": "V-ykaUoY8_8-"
      }
    },
    {
      "cell_type": "code",
      "source": [],
      "metadata": {
        "id": "yG6N8xE59MJy"
      },
      "execution_count": null,
      "outputs": []
    }
  ]
}