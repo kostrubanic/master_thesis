{
  "nbformat": 4,
  "nbformat_minor": 0,
  "metadata": {
    "colab": {
      "provenance": []
    },
    "kernelspec": {
      "name": "python3",
      "display_name": "Python 3"
    },
    "language_info": {
      "name": "python"
    }
  },
  "cells": [
    {
      "cell_type": "markdown",
      "source": [
        "# Implementation of baseline using PCA and Naive Bayes with Win-loss feature set and EPL"
      ],
      "metadata": {
        "id": "GGsvdXKCcQ_g"
      }
    },
    {
      "cell_type": "markdown",
      "source": [
        "Necessary files: win_loss.functions.py, testing_functions.py, EPL_06.csv, EPL_07.csv, ..., EPL_19.csv"
      ],
      "metadata": {
        "id": "jaH-HhHhn51H"
      }
    },
    {
      "cell_type": "code",
      "execution_count": null,
      "metadata": {
        "id": "vZ5Xlnyjqfq0"
      },
      "outputs": [],
      "source": [
        "import win_loss_functions\n",
        "import testing_functions\n",
        "import pandas as pd\n",
        "from sklearn.decomposition import PCA\n",
        "from sklearn.naive_bayes import GaussianNB\n",
        "from sklearn.naive_bayes import MultinomialNB"
      ]
    },
    {
      "cell_type": "markdown",
      "source": [
        "The baseline is implemented according to the paper Predicting The Dutch Football Competition Using Public Data: A Machine Learning Approach by N. Tax and Y. Joustra from 2015. The features based only on results of previous matches are used and the model is evaluated on the EPL dataset."
      ],
      "metadata": {
        "id": "NzXZ8HAIcrsN"
      }
    },
    {
      "cell_type": "markdown",
      "source": [
        "The authors used data from 13 seasons, so I used data from 13 seasons as well. I used seasons from 2006/07 to 2016/17 for training, season 2017/18 for validation and the second half of season 2018/19 for testing. Here the validation part is not necessary, but I wanted to keep the split of the dataset as similar as possible with other baselines and models."
      ],
      "metadata": {
        "id": "KeSz7kjtdJoc"
      }
    },
    {
      "cell_type": "code",
      "source": [
        "X_train, y_train = win_loss_functions.create_data(['EPL_17.csv', 'EPL_16.csv',\n",
        "                                'EPL_15.csv', 'EPL_14.csv', 'EPL_13.csv',\n",
        "                                'EPL_12.csv', 'EPL_11.csv', 'EPL_10.csv',\n",
        "                                'EPL_09.csv', 'EPL_08.csv', 'EPL_07.csv'], skip_rounds = 6)\n",
        "results_val, matches_per_round = win_loss_functions.create_data_single('EPL_18.csv', [\n",
        "                             'EPL_17.csv', 'EPL_16.csv',\n",
        "                             'EPL_15.csv', 'EPL_14.csv', 'EPL_13.csv',\n",
        "                             'EPL_12.csv', 'EPL_11.csv', 'EPL_10.csv',\n",
        "                             'EPL_09.csv', 'EPL_08.csv', 'EPL_07.csv'], skip_rounds = 6)\n",
        "# Dates are returned as well for dividing testing season into slices\n",
        "results_test, matches_per_round = win_loss_functions.create_data_single('EPL_19.csv', [\n",
        "                             'EPL_18.csv', 'EPL_17.csv', 'EPL_16.csv',\n",
        "                             'EPL_15.csv', 'EPL_14.csv', 'EPL_13.csv',\n",
        "                             'EPL_12.csv', 'EPL_11.csv', 'EPL_10.csv',\n",
        "                             'EPL_09.csv', 'EPL_08.csv', 'EPL_07.csv'], skip_rounds = 6,\n",
        "                              return_dates=True)"
      ],
      "metadata": {
        "colab": {
          "base_uri": "https://localhost:8080/"
        },
        "id": "6jYw_CdSsmfH",
        "outputId": "8605b32c-4e65-4391-9ce9-e401667d2d74"
      },
      "execution_count": null,
      "outputs": [
        {
          "output_type": "stream",
          "name": "stdout",
          "text": [
            "Processing EPL_17.csv season file.\n",
            "Processing EPL_16.csv season file.\n",
            "Processing EPL_15.csv season file.\n",
            "Processing EPL_14.csv season file.\n",
            "Processing EPL_13.csv season file.\n",
            "Processing EPL_12.csv season file.\n",
            "Processing EPL_11.csv season file.\n",
            "Processing EPL_10.csv season file.\n",
            "Processing EPL_09.csv season file.\n",
            "Processing EPL_08.csv season file.\n",
            "Processing EPL_07.csv season file.\n"
          ]
        }
      ]
    },
    {
      "cell_type": "code",
      "source": [
        "X_val = results_val.drop('FTR', axis=1)\n",
        "y_val = results_val['FTR']"
      ],
      "metadata": {
        "id": "WNGJlr-KuDWe"
      },
      "execution_count": null,
      "outputs": []
    },
    {
      "cell_type": "markdown",
      "source": [
        "In the paper the highest accuracy was achieved with 3 PCA components. So I used 3 components as well."
      ],
      "metadata": {
        "id": "EcyGOBAedNup"
      }
    },
    {
      "cell_type": "markdown",
      "source": [
        "To use all the data available, the validation season and the first half of the testing season was added to the training data."
      ],
      "metadata": {
        "id": "n134jKuCdUNE"
      }
    },
    {
      "cell_type": "code",
      "source": [
        "# Some rounds in the beginning are ignored, this is the correct index\n",
        "# of the start of the second half of the season\n",
        "start_test_index = 13 * matches_per_round"
      ],
      "metadata": {
        "id": "uD5FH8RP5Npv"
      },
      "execution_count": null,
      "outputs": []
    },
    {
      "cell_type": "code",
      "source": [
        "X_test_to_append, y_test_to_append = testing_functions.prepare_test_to_append(results_test,\n",
        "                                                                              start_test_index)"
      ],
      "metadata": {
        "id": "baqn4S14ryBW"
      },
      "execution_count": null,
      "outputs": []
    },
    {
      "cell_type": "markdown",
      "source": [
        "For evaluation on the testing dataset I divided the testing data into rounds approximately. The model is trained on the training dataset, then it is evaluated on one round of the testing dataset and this round is added to the training dataset."
      ],
      "metadata": {
        "id": "r4nRZRvhdZhD"
      }
    },
    {
      "cell_type": "code",
      "source": [
        "# Adding validation season and 1st half of testing season to the training data\n",
        "X_train = pd.concat([X_train, X_val, X_test_to_append])\n",
        "y_train = pd.concat([y_train, y_val, y_test_to_append])\n",
        "# Rounds of the testing dataset\n",
        "slices = testing_functions.get_slices(results_test, matches_per_round,\n",
        "                                      start_test_index)\n",
        "weighted_sum = 0\n",
        "sum = 0\n",
        "for slc in slices:\n",
        "  pca = PCA(n_components=3)\n",
        "  X_train_pca = pca.fit_transform(X_train)\n",
        "  clf = GaussianNB().fit(X_train_pca, y_train)\n",
        "  X_test = slc.drop(['FTR', 'Date'], axis=1)\n",
        "  y_test = slc['FTR']\n",
        "  X_test_pca = pca.transform(X_test)\n",
        "  weighted_sum += (clf.score(X_test_pca, y_test) * len(y_test))\n",
        "  sum += len(y_test)\n",
        "  # Add the round to the training dataset\n",
        "  X_train = pd.concat([X_train, X_test])\n",
        "  y_train = pd.concat([y_train, y_test])\n",
        "print(weighted_sum / sum)"
      ],
      "metadata": {
        "colab": {
          "base_uri": "https://localhost:8080/"
        },
        "id": "-OnHmiUsKRW2",
        "outputId": "1190e1b5-a51b-4b12-9223-801cb38aae8f"
      },
      "execution_count": null,
      "outputs": [
        {
          "output_type": "stream",
          "name": "stdout",
          "text": [
            "0.5473684210526316\n"
          ]
        }
      ]
    },
    {
      "cell_type": "markdown",
      "source": [
        "The testing accuracy is 54.74%"
      ],
      "metadata": {
        "id": "vuAbgk6-dqmy"
      }
    }
  ]
}