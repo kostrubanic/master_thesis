{
  "nbformat": 4,
  "nbformat_minor": 0,
  "metadata": {
    "colab": {
      "provenance": []
    },
    "kernelspec": {
      "name": "python3",
      "display_name": "Python 3"
    },
    "language_info": {
      "name": "python"
    }
  },
  "cells": [
    {
      "cell_type": "markdown",
      "source": [
        "# Implementation of the tensor completion algorithm with EPL"
      ],
      "metadata": {
        "id": "WCzPBVfYJ1Hx"
      }
    },
    {
      "cell_type": "markdown",
      "source": [
        "Necessary files: testing_functions.py, tensor_completion_functions.py, pyten.zip, EPL_94.csv, EPL_95.csv, ..., EPL_19.csv"
      ],
      "metadata": {
        "id": "PLaPwi2emaCo"
      }
    },
    {
      "cell_type": "code",
      "execution_count": null,
      "metadata": {
        "id": "mDwlusCueNgD"
      },
      "outputs": [],
      "source": [
        "import testing_functions\n",
        "import tensor_completion_functions\n",
        "import pandas as pd\n",
        "import numpy as np\n",
        "from sklearn.model_selection import ParameterGrid\n",
        "import matplotlib.pyplot as plt\n",
        "from sklearn.utils.extmath import randomized_svd\n",
        "import seaborn as sns"
      ]
    },
    {
      "cell_type": "markdown",
      "source": [
        "I used the implementation of the tensor completion algorithms from the package Pyten: https://github.com/datamllab/pyten."
      ],
      "metadata": {
        "id": "bGIKGMUwJ7_r"
      }
    },
    {
      "cell_type": "markdown",
      "source": [
        "Importing Pyten."
      ],
      "metadata": {
        "id": "e1nnWnVeKZa5"
      }
    },
    {
      "cell_type": "code",
      "source": [
        "!unzip /content/pyten.zip -d /content/pyten"
      ],
      "metadata": {
        "colab": {
          "base_uri": "https://localhost:8080/"
        },
        "id": "mB2atoGY5hv7",
        "outputId": "5130c690-77b9-443a-ca94-eae3acbbe741"
      },
      "execution_count": null,
      "outputs": [
        {
          "output_type": "stream",
          "name": "stdout",
          "text": [
            "Archive:  /content/pyten.zip\n",
            "   creating: /content/pyten/pyten/\n",
            "   creating: /content/pyten/pyten/content/\n",
            "   creating: /content/pyten/pyten/content/pyten/\n",
            "   creating: /content/pyten/pyten/content/pyten/pyten/\n",
            "  inflating: /content/pyten/pyten/content/pyten/pyten/.DS_Store  \n",
            "   creating: /content/pyten/pyten/content/pyten/pyten/.git/\n",
            "   creating: /content/pyten/pyten/content/pyten/pyten/.git/branches/\n",
            "  inflating: /content/pyten/pyten/content/pyten/pyten/.git/config  \n",
            "  inflating: /content/pyten/pyten/content/pyten/pyten/.git/description  \n",
            " extracting: /content/pyten/pyten/content/pyten/pyten/.git/HEAD  \n",
            "   creating: /content/pyten/pyten/content/pyten/pyten/.git/hooks/\n",
            "  inflating: /content/pyten/pyten/content/pyten/pyten/.git/hooks/applypatch-msg.sample  \n",
            "  inflating: /content/pyten/pyten/content/pyten/pyten/.git/hooks/commit-msg.sample  \n",
            "  inflating: /content/pyten/pyten/content/pyten/pyten/.git/hooks/fsmonitor-watchman.sample  \n",
            "  inflating: /content/pyten/pyten/content/pyten/pyten/.git/hooks/post-update.sample  \n",
            "  inflating: /content/pyten/pyten/content/pyten/pyten/.git/hooks/pre-applypatch.sample  \n",
            "  inflating: /content/pyten/pyten/content/pyten/pyten/.git/hooks/pre-commit.sample  \n",
            "  inflating: /content/pyten/pyten/content/pyten/pyten/.git/hooks/pre-push.sample  \n",
            "  inflating: /content/pyten/pyten/content/pyten/pyten/.git/hooks/pre-rebase.sample  \n",
            "  inflating: /content/pyten/pyten/content/pyten/pyten/.git/hooks/pre-receive.sample  \n",
            "  inflating: /content/pyten/pyten/content/pyten/pyten/.git/hooks/prepare-commit-msg.sample  \n",
            "  inflating: /content/pyten/pyten/content/pyten/pyten/.git/hooks/update.sample  \n",
            "  inflating: /content/pyten/pyten/content/pyten/pyten/.git/index  \n",
            "   creating: /content/pyten/pyten/content/pyten/pyten/.git/info/\n",
            "  inflating: /content/pyten/pyten/content/pyten/pyten/.git/info/exclude  \n",
            "   creating: /content/pyten/pyten/content/pyten/pyten/.git/logs/\n",
            "  inflating: /content/pyten/pyten/content/pyten/pyten/.git/logs/HEAD  \n",
            "   creating: /content/pyten/pyten/content/pyten/pyten/.git/logs/refs/\n",
            "   creating: /content/pyten/pyten/content/pyten/pyten/.git/logs/refs/heads/\n",
            "  inflating: /content/pyten/pyten/content/pyten/pyten/.git/logs/refs/heads/master  \n",
            "   creating: /content/pyten/pyten/content/pyten/pyten/.git/logs/refs/remotes/\n",
            "   creating: /content/pyten/pyten/content/pyten/pyten/.git/logs/refs/remotes/origin/\n",
            "  inflating: /content/pyten/pyten/content/pyten/pyten/.git/logs/refs/remotes/origin/HEAD  \n",
            "   creating: /content/pyten/pyten/content/pyten/pyten/.git/objects/\n",
            "   creating: /content/pyten/pyten/content/pyten/pyten/.git/objects/info/\n",
            "   creating: /content/pyten/pyten/content/pyten/pyten/.git/objects/pack/\n",
            "  inflating: /content/pyten/pyten/content/pyten/pyten/.git/objects/pack/pack-6a38feef72311b5414e9ab356a5ca7026db546c0.idx  \n",
            "  inflating: /content/pyten/pyten/content/pyten/pyten/.git/objects/pack/pack-6a38feef72311b5414e9ab356a5ca7026db546c0.pack  \n",
            "  inflating: /content/pyten/pyten/content/pyten/pyten/.git/packed-refs  \n",
            "   creating: /content/pyten/pyten/content/pyten/pyten/.git/refs/\n",
            "   creating: /content/pyten/pyten/content/pyten/pyten/.git/refs/heads/\n",
            " extracting: /content/pyten/pyten/content/pyten/pyten/.git/refs/heads/master  \n",
            "   creating: /content/pyten/pyten/content/pyten/pyten/.git/refs/remotes/\n",
            "   creating: /content/pyten/pyten/content/pyten/pyten/.git/refs/remotes/origin/\n",
            " extracting: /content/pyten/pyten/content/pyten/pyten/.git/refs/remotes/origin/HEAD  \n",
            "   creating: /content/pyten/pyten/content/pyten/pyten/.git/refs/tags/\n",
            "   creating: /content/pyten/pyten/content/pyten/pyten/.idea/\n",
            "  inflating: /content/pyten/pyten/content/pyten/pyten/.idea/misc.xml  \n",
            "  inflating: /content/pyten/pyten/content/pyten/pyten/.idea/modules.xml  \n",
            "  inflating: /content/pyten/pyten/content/pyten/pyten/.idea/pyten.iml  \n",
            "  inflating: /content/pyten/pyten/content/pyten/pyten/.idea/workspace.xml  \n",
            "   creating: /content/pyten/pyten/content/pyten/pyten/docs/\n",
            "  inflating: /content/pyten/pyten/content/pyten/pyten/docs/pyten-package-function-document.pdf  \n",
            "  inflating: /content/pyten/pyten/content/pyten/pyten/docs/pyten-package-user-manual.pdf  \n",
            "  inflating: /content/pyten/pyten/content/pyten/pyten/LICENSE  \n",
            "   creating: /content/pyten/pyten/content/pyten/pyten/pyten/\n",
            "  inflating: /content/pyten/pyten/content/pyten/pyten/PyTenDomo.ipynb  \n",
            "  inflating: /content/pyten/pyten/content/pyten/pyten/pyten/.DS_Store  \n",
            "   creating: /content/pyten/pyten/content/pyten/pyten/pyten/.idea/\n",
            " extracting: /content/pyten/pyten/content/pyten/pyten/pyten/.idea/.name  \n",
            "   creating: /content/pyten/pyten/content/pyten/pyten/pyten/.idea/dictionaries/\n",
            "  inflating: /content/pyten/pyten/content/pyten/pyten/pyten/.idea/dictionaries/Song.xml  \n",
            "  inflating: /content/pyten/pyten/content/pyten/pyten/pyten/.idea/misc.xml  \n",
            "  inflating: /content/pyten/pyten/content/pyten/pyten/pyten/.idea/modules.xml  \n",
            "  inflating: /content/pyten/pyten/content/pyten/pyten/pyten/.idea/PyTen.iml  \n",
            "  inflating: /content/pyten/pyten/content/pyten/pyten/pyten/.idea/vcs.xml  \n",
            "  inflating: /content/pyten/pyten/content/pyten/pyten/pyten/.idea/workspace.xml  \n",
            "   creating: /content/pyten/pyten/content/pyten/pyten/pyten/data/\n",
            "  inflating: /content/pyten/pyten/content/pyten/pyten/pyten/data/tensor_10x10x10_101.txt  \n",
            "  inflating: /content/pyten/pyten/content/pyten/pyten/pyten/data/user_expert_topic_500X500X20  \n",
            "   creating: /content/pyten/pyten/content/pyten/pyten/pyten/method/\n",
            "  inflating: /content/pyten/pyten/content/pyten/pyten/pyten/method/.DS_Store  \n",
            "  inflating: /content/pyten/pyten/content/pyten/pyten/pyten/method/AirCP.py  \n",
            "  inflating: /content/pyten/pyten/content/pyten/pyten/pyten/method/cmtf.py  \n",
            "  inflating: /content/pyten/pyten/content/pyten/pyten/pyten/method/cp_als.py  \n",
            "  inflating: /content/pyten/pyten/content/pyten/pyten/pyten/method/dedicom.py  \n",
            "  inflating: /content/pyten/pyten/content/pyten/pyten/pyten/method/DistTensor.py  \n",
            "  inflating: /content/pyten/pyten/content/pyten/pyten/pyten/method/DistTensorADMM.py  \n",
            "  inflating: /content/pyten/pyten/content/pyten/pyten/pyten/method/DistTensorCompletionADMM.py  \n",
            "  inflating: /content/pyten/pyten/content/pyten/pyten/pyten/method/falrtc.py  \n",
            "  inflating: /content/pyten/pyten/content/pyten/pyten/pyten/method/halrtc.py  \n",
            "  inflating: /content/pyten/pyten/content/pyten/pyten/pyten/method/mast.py  \n",
            "  inflating: /content/pyten/pyten/content/pyten/pyten/pyten/method/OLSGD.py  \n",
            "  inflating: /content/pyten/pyten/content/pyten/pyten/pyten/method/onlineCP.py  \n",
            "  inflating: /content/pyten/pyten/content/pyten/pyten/pyten/method/parafac2.py  \n",
            "  inflating: /content/pyten/pyten/content/pyten/pyten/pyten/method/silrtc.py  \n",
            "  inflating: /content/pyten/pyten/content/pyten/pyten/pyten/method/TNCP.py  \n",
            "  inflating: /content/pyten/pyten/content/pyten/pyten/pyten/method/tucker_als.py  \n",
            "  inflating: /content/pyten/pyten/content/pyten/pyten/pyten/method/__init__.py  \n",
            "   creating: /content/pyten/pyten/content/pyten/pyten/pyten/tenclass/\n",
            "  inflating: /content/pyten/pyten/content/pyten/pyten/pyten/tenclass/.DS_Store  \n",
            "  inflating: /content/pyten/pyten/content/pyten/pyten/pyten/tenclass/ktensor.py  \n",
            "  inflating: /content/pyten/pyten/content/pyten/pyten/pyten/tenclass/sptenmat.py  \n",
            "  inflating: /content/pyten/pyten/content/pyten/pyten/pyten/tenclass/sptensor.py  \n",
            "  inflating: /content/pyten/pyten/content/pyten/pyten/pyten/tenclass/tenmat.py  \n",
            "  inflating: /content/pyten/pyten/content/pyten/pyten/pyten/tenclass/tensor.py  \n",
            "  inflating: /content/pyten/pyten/content/pyten/pyten/pyten/tenclass/ttensor.py  \n",
            "  inflating: /content/pyten/pyten/content/pyten/pyten/pyten/tenclass/__init__.py  \n",
            "   creating: /content/pyten/pyten/content/pyten/pyten/pyten/tools/\n",
            "  inflating: /content/pyten/pyten/content/pyten/pyten/pyten/tools/.DS_Store  \n",
            "  inflating: /content/pyten/pyten/content/pyten/pyten/pyten/tools/create.py  \n",
            "  inflating: /content/pyten/pyten/content/pyten/pyten/pyten/tools/khatrirao.py  \n",
            "  inflating: /content/pyten/pyten/content/pyten/pyten/pyten/tools/mttkrp.py  \n",
            "  inflating: /content/pyten/pyten/content/pyten/pyten/pyten/tools/tendiag.py  \n",
            "  inflating: /content/pyten/pyten/content/pyten/pyten/pyten/tools/tenerror.py  \n",
            "  inflating: /content/pyten/pyten/content/pyten/pyten/pyten/tools/tools.py  \n",
            "  inflating: /content/pyten/pyten/content/pyten/pyten/pyten/tools/utils.py  \n",
            "  inflating: /content/pyten/pyten/content/pyten/pyten/pyten/tools/utils_tensor.py  \n",
            "  inflating: /content/pyten/pyten/content/pyten/pyten/pyten/tools/__init__.py  \n",
            "   creating: /content/pyten/pyten/content/pyten/pyten/pyten/UI/\n",
            "  inflating: /content/pyten/pyten/content/pyten/pyten/pyten/UI/.DS_Store  \n",
            "  inflating: /content/pyten/pyten/content/pyten/pyten/pyten/UI/auxiliary.py  \n",
            "  inflating: /content/pyten/pyten/content/pyten/pyten/pyten/UI/basic.py  \n",
            "  inflating: /content/pyten/pyten/content/pyten/pyten/pyten/UI/dynamic.py  \n",
            "  inflating: /content/pyten/pyten/content/pyten/pyten/pyten/UI/helios.py  \n",
            "  inflating: /content/pyten/pyten/content/pyten/pyten/pyten/UI/scalable.py  \n",
            "  inflating: /content/pyten/pyten/content/pyten/pyten/pyten/UI/tensorUI.py  \n",
            "  inflating: /content/pyten/pyten/content/pyten/pyten/pyten/UI/__init__.py  \n",
            " extracting: /content/pyten/pyten/content/pyten/pyten/pyten/_version.py  \n",
            "  inflating: /content/pyten/pyten/content/pyten/pyten/pyten/__init__.py  \n",
            "  inflating: /content/pyten/pyten/content/pyten/pyten/README.md  \n",
            "  inflating: /content/pyten/pyten/content/pyten/pyten/setup.py  \n",
            "   creating: /content/pyten/pyten/content/pyten/pyten/test/\n",
            "  inflating: /content/pyten/pyten/content/pyten/pyten/test/.DS_Store  \n",
            "   creating: /content/pyten/pyten/content/pyten/pyten/test/.ipynb_checkpoints/\n",
            "  inflating: /content/pyten/pyten/content/pyten/pyten/test/.ipynb_checkpoints/PyTenDomo-checkpoint.ipynb  \n",
            " extracting: /content/pyten/pyten/content/pyten/pyten/test/aux_1.csv  \n",
            " extracting: /content/pyten/pyten/content/pyten/pyten/test/aux_2.csv  \n",
            "  inflating: /content/pyten/pyten/content/pyten/pyten/test/aux_3.csv  \n",
            "  inflating: /content/pyten/pyten/content/pyten/pyten/test/aux_CM.csv  \n",
            "  inflating: /content/pyten/pyten/content/pyten/pyten/test/complete_syntensor.csv  \n",
            "  inflating: /content/pyten/pyten/content/pyten/pyten/test/dedicom.csv  \n",
            "  inflating: /content/pyten/pyten/content/pyten/pyten/test/dedicom_Decomposite.csv  \n",
            "  inflating: /content/pyten/pyten/content/pyten/pyten/test/dedicom_Recover.csv  \n",
            "  inflating: /content/pyten/pyten/content/pyten/pyten/test/demo.py  \n",
            "  inflating: /content/pyten/pyten/content/pyten/pyten/test/mast.npy  \n",
            "  inflating: /content/pyten/pyten/content/pyten/pyten/test/mast1.csv  \n",
            "  inflating: /content/pyten/pyten/content/pyten/pyten/test/mast1_Recover.csv  \n",
            "  inflating: /content/pyten/pyten/content/pyten/pyten/test/mast2.csv  \n",
            "  inflating: /content/pyten/pyten/content/pyten/pyten/test/mast2_Recover.csv  \n",
            "  inflating: /content/pyten/pyten/content/pyten/pyten/test/syntensor.csv  \n",
            "  inflating: /content/pyten/pyten/content/pyten/pyten/test/syntensor.txt  \n",
            "  inflating: /content/pyten/pyten/content/pyten/pyten/test/syntensor1.csv  \n",
            "  inflating: /content/pyten/pyten/content/pyten/pyten/test/syntensor1.txt  \n",
            "  inflating: /content/pyten/pyten/content/pyten/pyten/test/syntensor_Decomposite.csv  \n",
            "  inflating: /content/pyten/pyten/content/pyten/pyten/test/tensor_1000X1000X1000_100000_10.txt  \n",
            "  inflating: /content/pyten/pyten/content/pyten/pyten/test/tensor_10x10x10_101.txt  \n",
            " extracting: /content/pyten/pyten/content/pyten/pyten/test/testImg.png  \n",
            "  inflating: /content/pyten/pyten/content/pyten/pyten/test/test_parafac2_1.csv  \n",
            "  inflating: /content/pyten/pyten/content/pyten/pyten/test/test_parafac2_2.csv  \n",
            "  inflating: /content/pyten/pyten/content/pyten/pyten/test/test_parafac2_3.csv  \n",
            "  inflating: /content/pyten/pyten/content/pyten/pyten/test/__init__.py  \n"
          ]
        }
      ]
    },
    {
      "cell_type": "code",
      "source": [
        "!pip install pyspark"
      ],
      "metadata": {
        "colab": {
          "base_uri": "https://localhost:8080/"
        },
        "id": "RA_Rccum5kCt",
        "outputId": "02e09531-94f5-489a-df22-cefd97761992"
      },
      "execution_count": null,
      "outputs": [
        {
          "output_type": "stream",
          "name": "stdout",
          "text": [
            "Looking in indexes: https://pypi.org/simple, https://us-python.pkg.dev/colab-wheels/public/simple/\n",
            "Collecting pyspark\n",
            "  Downloading pyspark-3.4.0.tar.gz (310.8 MB)\n",
            "\u001b[2K     \u001b[90m━━━━━━━━━━━━━━━━━━━━━━━━━━━━━━━━━━━━━━━\u001b[0m \u001b[32m310.8/310.8 MB\u001b[0m \u001b[31m4.4 MB/s\u001b[0m eta \u001b[36m0:00:00\u001b[0m\n",
            "\u001b[?25h  Preparing metadata (setup.py) ... \u001b[?25l\u001b[?25hdone\n",
            "Requirement already satisfied: py4j==0.10.9.7 in /usr/local/lib/python3.9/dist-packages (from pyspark) (0.10.9.7)\n",
            "Building wheels for collected packages: pyspark\n",
            "  Building wheel for pyspark (setup.py) ... \u001b[?25l\u001b[?25hdone\n",
            "  Created wheel for pyspark: filename=pyspark-3.4.0-py2.py3-none-any.whl size=311317145 sha256=49fbd463089253973ef19e0fe2cb0bb7cd1b618840779979c9958d948499fc74\n",
            "  Stored in directory: /root/.cache/pip/wheels/9f/34/a4/159aa12d0a510d5ff7c8f0220abbea42e5d81ecf588c4fd884\n",
            "Successfully built pyspark\n",
            "Installing collected packages: pyspark\n",
            "Successfully installed pyspark-3.4.0\n"
          ]
        }
      ]
    },
    {
      "cell_type": "code",
      "source": [
        "!cd pyten/pyten/content/pyten/pyten; pip install .\n",
        "import pyten"
      ],
      "metadata": {
        "colab": {
          "base_uri": "https://localhost:8080/"
        },
        "id": "W5Y5x_jI5luz",
        "outputId": "a3a63275-3111-47d8-cbb0-b6fb8a86920d"
      },
      "execution_count": null,
      "outputs": [
        {
          "output_type": "stream",
          "name": "stdout",
          "text": [
            "Looking in indexes: https://pypi.org/simple, https://us-python.pkg.dev/colab-wheels/public/simple/\n",
            "Processing /content/pyten/pyten/content/pyten/pyten\n",
            "  Preparing metadata (setup.py) ... \u001b[?25l\u001b[?25hdone\n",
            "Building wheels for collected packages: pyten\n",
            "  Building wheel for pyten (setup.py) ... \u001b[?25l\u001b[?25hdone\n",
            "  Created wheel for pyten: filename=pyten-1.0.0-py3-none-any.whl size=82191 sha256=267657be08a46a7f7eef66e2a64af79cfed3606a00fd2507b4a276c5eaceea56\n",
            "  Stored in directory: /tmp/pip-ephem-wheel-cache-nuqgmg4q/wheels/30/44/e3/7ceb1a8149efc872b717846fdef5c8012f25ce729e15498d11\n",
            "Successfully built pyten\n",
            "\u001b[33mWARNING: Error parsing requirements for pandas: [Errno 2] No such file or directory: '/usr/local/lib/python3.9/dist-packages/pandas-1.5.3.dist-info/METADATA'\u001b[0m\u001b[33m\n",
            "\u001b[0m\u001b[33mWARNING: Error parsing requirements for numpy: [Errno 2] No such file or directory: '/usr/local/lib/python3.9/dist-packages/numpy-1.22.4.dist-info/METADATA'\u001b[0m\u001b[33m\n",
            "\u001b[0mInstalling collected packages: pyten\n",
            "Successfully installed pyten-1.0.0\n"
          ]
        }
      ]
    },
    {
      "cell_type": "markdown",
      "source": [
        "I used seasons from from 1993/94 to first half of 2017/18 season as training dataset and second half of 2017/18 season for validation. The algorithm was tested on the second half of the 2018/19 season.\n"
      ],
      "metadata": {
        "id": "UI9-hk6ELhos"
      }
    },
    {
      "cell_type": "code",
      "source": [
        "train_validation_files = ['EPL_94.csv', 'EPL_95.csv', 'EPL_96.csv', 'EPL_97.csv',\n",
        "                 'EPL_98.csv', 'EPL_99.csv', 'EPL_00.csv', 'EPL_01.csv',\n",
        "                 'EPL_02.csv', 'EPL_03.csv', 'EPL_04.csv', 'EPL_05.csv',\n",
        "                 'EPL_06.csv', 'EPL_07.csv', 'EPL_08.csv', 'EPL_09.csv',\n",
        "                 'EPL_10.csv', 'EPL_11.csv', 'EPL_12.csv', 'EPL_13.csv',\n",
        "                 'EPL_14.csv', 'EPL_15.csv', 'EPL_16.csv', 'EPL_17.csv',\n",
        "                 'EPL_18.csv']"
      ],
      "metadata": {
        "id": "XiGuZLGCkmJQ"
      },
      "execution_count": null,
      "outputs": []
    },
    {
      "cell_type": "markdown",
      "source": [
        "# Iterations"
      ],
      "metadata": {
        "id": "mysat2R3eoAp"
      }
    },
    {
      "cell_type": "markdown",
      "source": [
        "For each algorithm, I was searching for the best maximum number of iterations. I ran the algorithm 20 times for each maximum number of iterations (with other hyperparameters fixed) and measured the variance of the accuracy. I picked the maximum number of iterations with the smallest variance."
      ],
      "metadata": {
        "id": "mS328HDFKzHd"
      }
    },
    {
      "cell_type": "code",
      "source": [
        "iteration_nums = [10, 20, 30, 40, 50, 60, 70, 80, 90, 100, 200, 300, 400, 500, 600, 700, 800, 900, 1000, 2000, 3000, 4000, 5000]"
      ],
      "metadata": {
        "id": "VHSgquaVqNty"
      },
      "execution_count": null,
      "outputs": []
    },
    {
      "cell_type": "markdown",
      "source": [
        "Tucker ALS"
      ],
      "metadata": {
        "id": "vcNewR6fqULg"
      }
    },
    {
      "cell_type": "code",
      "source": [
        "scores_tuckerALS = tensor_completion_functions.get_scores_iterations(train_validation_files, 0.5, '1', 1e-10, 0.1, iteration_nums, pyten, r=5, C=0.6)"
      ],
      "metadata": {
        "colab": {
          "base_uri": "https://localhost:8080/"
        },
        "id": "eHuV6DpqeBmk",
        "outputId": "bb50de67-0d5a-4b39-e5ef-8df9f1df72cf"
      },
      "execution_count": null,
      "outputs": [
        {
          "output_type": "stream",
          "name": "stdout",
          "text": [
            "iterations:  10  scores:  [48.421052631578945, 49.473684210526315, 48.94736842105264, 46.8421052631579, 51.05263157894737, 46.8421052631579, 46.31578947368421, 51.578947368421055, 48.94736842105264, 47.89473684210526, 48.421052631578945, 46.31578947368421, 44.73684210526316, 49.473684210526315, 46.8421052631579, 49.473684210526315, 45.26315789473684, 47.368421052631575, 49.473684210526315, 52.10526315789473]  variance:  3.819252077562326\n",
            "iterations:  20  scores:  [48.94736842105264, 46.8421052631579, 47.89473684210526, 47.368421052631575, 46.8421052631579, 48.421052631578945, 45.26315789473684, 43.684210526315795, 45.26315789473684, 47.89473684210526, 49.473684210526315, 46.31578947368421, 47.89473684210526, 48.421052631578945, 46.31578947368421, 46.8421052631579, 49.473684210526315, 46.31578947368421, 46.8421052631579, 46.8421052631579]  variance:  2.033240997229913\n",
            "iterations:  30  scores:  [43.15789473684211, 50.0, 45.26315789473684, 48.94736842105264, 48.94736842105264, 50.526315789473685, 47.89473684210526, 49.473684210526315, 45.78947368421053, 48.94736842105264, 51.05263157894737, 46.31578947368421, 46.31578947368421, 45.78947368421053, 47.368421052631575, 48.421052631578945, 45.26315789473684, 46.8421052631579, 50.0, 49.473684210526315]  variance:  4.282548476454292\n",
            "iterations:  40  scores:  [47.89473684210526, 46.8421052631579, 47.89473684210526, 48.94736842105264, 47.368421052631575, 40.0, 45.78947368421053, 45.26315789473684, 45.26315789473684, 48.421052631578945, 51.578947368421055, 46.8421052631579, 46.8421052631579, 46.31578947368421, 44.21052631578947, 46.8421052631579, 42.63157894736842, 44.73684210526316, 48.94736842105264, 50.0]  variance:  6.382271468144049\n",
            "iterations:  50  scores:  [48.421052631578945, 45.78947368421053, 47.89473684210526, 47.89473684210526, 46.31578947368421, 50.0, 45.26315789473684, 52.10526315789473, 45.26315789473684, 47.368421052631575, 48.94736842105264, 44.73684210526316, 43.15789473684211, 44.73684210526316, 47.368421052631575, 50.526315789473685, 53.1578947368421, 44.21052631578947, 51.578947368421055, 45.78947368421053]  variance:  7.5373961218836545\n",
            "iterations:  60  scores:  [50.0, 47.368421052631575, 36.31578947368421, 47.368421052631575, 46.31578947368421, 45.78947368421053, 47.89473684210526, 41.578947368421055, 44.73684210526316, 46.31578947368421, 45.78947368421053, 48.421052631578945, 40.0, 48.94736842105264, 44.21052631578947, 51.578947368421055, 46.31578947368421, 49.473684210526315, 46.8421052631579, 48.421052631578945]  variance:  12.074099722991688\n",
            "iterations:  70  scores:  [47.368421052631575, 47.368421052631575, 46.31578947368421, 33.1578947368421, 45.78947368421053, 45.78947368421053, 37.368421052631575, 44.21052631578947, 45.78947368421053, 42.10526315789473, 42.63157894736842, 43.684210526315795, 46.8421052631579, 49.473684210526315, 47.368421052631575, 48.94736842105264, 47.89473684210526, 41.05263157894737, 43.15789473684211, 44.73684210526316]  variance:  14.88296398891967\n",
            "iterations:  80  scores:  [48.421052631578945, 51.05263157894737, 41.578947368421055, 46.31578947368421, 46.8421052631579, 45.78947368421053, 44.21052631578947, 47.89473684210526, 46.8421052631579, 42.10526315789473, 47.368421052631575, 38.421052631578945, 45.78947368421053, 47.368421052631575, 31.57894736842105, 36.31578947368421, 44.21052631578947, 44.73684210526316, 48.94736842105264, 41.578947368421055]  variance:  20.86149584487535\n",
            "iterations:  90  scores:  [37.89473684210527, 34.21052631578947, 50.0, 47.89473684210526, 47.89473684210526, 43.15789473684211, 47.89473684210526, 47.368421052631575, 35.78947368421053, 47.368421052631575, 36.84210526315789, 45.78947368421053, 45.26315789473684, 44.73684210526316, 48.421052631578945, 45.26315789473684, 45.78947368421053, 38.94736842105263, 32.10526315789474, 37.89473684210527]  variance:  28.583795013850402\n",
            "iterations:  100  scores:  [46.8421052631579, 42.10526315789473, 40.526315789473685, 45.26315789473684, 50.526315789473685, 32.631578947368425, 46.31578947368421, 38.94736842105263, 47.368421052631575, 46.31578947368421, 47.368421052631575, 49.473684210526315, 48.94736842105264, 45.26315789473684, 45.26315789473684, 35.78947368421053, 44.21052631578947, 43.684210526315795, 46.8421052631579, 45.78947368421053]  variance:  19.404432132963983\n",
            "iterations:  200  scores:  [45.78947368421053, 46.8421052631579, 47.368421052631575, 31.57894736842105, 47.89473684210526, 33.1578947368421, 41.05263157894737, 42.10526315789473, 44.73684210526316, 38.94736842105263, 34.21052631578947, 46.31578947368421, 47.368421052631575, 40.526315789473685, 38.421052631578945, 46.8421052631579, 46.8421052631579, 41.578947368421055, 41.05263157894737, 38.421052631578945]  variance:  24.484764542936297\n",
            "iterations:  300  scores:  [36.84210526315789, 36.84210526315789, 40.0, 37.89473684210527, 46.31578947368421, 45.78947368421053, 29.47368421052631, 36.31578947368421, 49.473684210526315, 44.21052631578947, 36.31578947368421, 44.21052631578947, 31.57894736842105, 46.31578947368421, 45.78947368421053, 44.73684210526316, 44.73684210526316, 37.89473684210527, 42.63157894736842, 42.63157894736842]  variance:  27.421052631578952\n",
            "iterations:  400  scores:  [44.73684210526316, 37.89473684210527, 36.31578947368421, 36.84210526315789, 46.31578947368421, 42.63157894736842, 45.78947368421053, 45.26315789473684, 39.473684210526315, 38.94736842105263, 31.57894736842105, 40.0, 41.05263157894737, 37.89473684210527, 35.26315789473684, 35.78947368421053, 43.684210526315795, 41.05263157894737, 46.8421052631579, 36.84210526315789]  variance:  17.351800554016627\n",
            "iterations:  500  scores:  [37.368421052631575, 43.15789473684211, 47.89473684210526, 36.84210526315789, 44.73684210526316, 44.21052631578947, 48.94736842105264, 32.10526315789474, 34.21052631578947, 48.421052631578945, 33.68421052631579, 31.05263157894737, 38.94736842105263, 47.89473684210526, 45.78947368421053, 45.26315789473684, 47.89473684210526, 36.31578947368421, 48.94736842105264, 46.31578947368421]  variance:  36.83102493074793\n",
            "iterations:  600  scores:  [32.10526315789474, 48.94736842105264, 41.05263157894737, 43.15789473684211, 35.26315789473684, 31.05263157894737, 31.57894736842105, 45.26315789473684, 38.421052631578945, 38.421052631578945, 45.78947368421053, 46.8421052631579, 46.8421052631579, 27.368421052631582, 34.21052631578947, 35.26315789473684, 32.10526315789474, 39.473684210526315, 47.89473684210526, 47.89473684210526]  variance:  44.168282548476455\n",
            "iterations:  700  scores:  [46.8421052631579, 44.73684210526316, 47.368421052631575, 44.73684210526316, 43.15789473684211, 45.26315789473684, 46.31578947368421, 36.84210526315789, 33.1578947368421, 47.89473684210526, 47.89473684210526, 46.8421052631579, 35.26315789473684, 43.15789473684211, 36.31578947368421, 46.31578947368421, 44.73684210526316, 37.89473684210527, 36.84210526315789, 38.94736842105263]  variance:  22.398891966759003\n",
            "iterations:  800  scores:  [36.31578947368421, 44.73684210526316, 41.05263157894737, 47.368421052631575, 47.89473684210526, 37.368421052631575, 37.89473684210527, 45.78947368421053, 40.0, 47.89473684210526, 36.84210526315789, 32.10526315789474, 38.421052631578945, 30.0, 29.47368421052631, 41.578947368421055, 34.21052631578947, 47.368421052631575, 47.368421052631575, 36.84210526315789]  variance:  35.05470914127423\n",
            "iterations:  900  scores:  [43.15789473684211, 37.368421052631575, 46.31578947368421, 43.15789473684211, 47.368421052631575, 44.73684210526316, 45.78947368421053, 35.78947368421053, 36.84210526315789, 35.26315789473684, 47.368421052631575, 33.68421052631579, 47.89473684210526, 46.31578947368421, 45.78947368421053, 37.368421052631575, 45.78947368421053, 36.31578947368421, 48.94736842105264, 37.368421052631575]  variance:  25.35941828254849\n",
            "iterations:  1000  scores:  [41.05263157894737, 34.73684210526316, 35.26315789473684, 40.526315789473685, 38.94736842105263, 44.73684210526316, 41.05263157894737, 40.0, 38.94736842105263, 47.89473684210526, 38.94736842105263, 47.368421052631575, 42.10526315789473, 36.31578947368421, 48.421052631578945, 45.26315789473684, 46.31578947368421, 46.8421052631579, 38.94736842105263, 29.47368421052631]  variance:  24.17174515235457\n",
            "iterations:  2000  scores:  [44.73684210526316, 38.94736842105263, 35.26315789473684, 47.368421052631575, 46.31578947368421, 45.78947368421053, 44.73684210526316, 46.8421052631579, 41.05263157894737, 46.8421052631579, 40.526315789473685, 28.947368421052634, 45.26315789473684, 35.78947368421053, 45.26315789473684, 46.8421052631579, 45.78947368421053, 44.73684210526316, 49.473684210526315, 46.31578947368421]  variance:  24.772160664819943\n",
            "iterations:  3000  scores:  [46.8421052631579, 47.368421052631575, 46.8421052631579, 45.78947368421053, 47.89473684210526, 36.84210526315789, 46.31578947368421, 44.73684210526316, 46.8421052631579, 48.94736842105264, 47.368421052631575, 45.78947368421053, 38.421052631578945, 41.578947368421055, 48.421052631578945, 47.89473684210526, 47.368421052631575, 48.421052631578945, 45.26315789473684, 46.8421052631579]  variance:  9.916897506925212\n",
            "iterations:  4000  scores:  [46.31578947368421, 36.84210526315789, 31.05263157894737, 34.73684210526316, 48.421052631578945, 45.26315789473684, 45.78947368421053, 47.89473684210526, 38.94736842105263, 42.10526315789473, 45.26315789473684, 47.368421052631575, 48.421052631578945, 38.421052631578945, 46.31578947368421, 46.31578947368421, 44.73684210526316, 45.78947368421053, 47.89473684210526, 44.21052631578947]  variance:  23.44252077562327\n",
            "iterations:  5000  scores:  [33.68421052631579, 47.368421052631575, 32.10526315789474, 38.94736842105263, 45.26315789473684, 49.473684210526315, 47.89473684210526, 49.473684210526315, 45.78947368421053, 47.368421052631575, 44.21052631578947, 48.94736842105264, 38.94736842105263, 45.78947368421053, 38.421052631578945, 46.8421052631579, 45.26315789473684, 46.31578947368421, 47.89473684210526, 45.78947368421053]  variance:  24.605955678670362\n"
          ]
        }
      ]
    },
    {
      "cell_type": "markdown",
      "source": [
        "Smallest variance for the Tucker ALS agorithm was achieved with 20 maximum iterations."
      ],
      "metadata": {
        "id": "P9BcCLjHLcv4"
      }
    },
    {
      "cell_type": "code",
      "source": [
        "best_iterations_tuckerALS = 20"
      ],
      "metadata": {
        "id": "UaZXG7Jvx98X"
      },
      "execution_count": null,
      "outputs": []
    },
    {
      "cell_type": "markdown",
      "source": [
        "CP ALS"
      ],
      "metadata": {
        "id": "y_nDmfRB7w_f"
      }
    },
    {
      "cell_type": "code",
      "source": [
        "scores_CPALS = tensor_completion_functions.get_scores_iterations(train_validation_files, 0.5, '2', 1e-10, 0.1, iteration_nums, pyten, r=5, C=0.6)"
      ],
      "metadata": {
        "colab": {
          "base_uri": "https://localhost:8080/"
        },
        "id": "2Ln455Pa7z57",
        "outputId": "652bea28-b9b5-460d-80cc-623fb76de7b0"
      },
      "execution_count": null,
      "outputs": [
        {
          "metadata": {
            "tags": null
          },
          "name": "stderr",
          "output_type": "stream",
          "text": [
            "/usr/local/lib/python3.7/dist-packages/pyten/tenclass/ktensor.py:35: VisibleDeprecationWarning: Creating an ndarray from ragged nested sequences (which is a list-or-tuple of lists-or-tuples-or ndarrays with different lengths or shapes) is deprecated. If you meant to do this, you must specify 'dtype=object' when creating the ndarray.\n",
            "  self.Us = np.array(us)\n"
          ]
        },
        {
          "output_type": "stream",
          "name": "stdout",
          "text": [
            "iterations:  10  scores:  [47.89473684210526, 44.21052631578947, 48.94736842105264, 44.21052631578947, 47.89473684210526, 43.684210526315795, 45.78947368421053, 47.368421052631575, 47.368421052631575, 45.26315789473684, 45.26315789473684, 47.368421052631575, 47.368421052631575, 47.368421052631575, 43.684210526315795, 47.368421052631575, 47.368421052631575, 47.89473684210526, 47.368421052631575, 46.31578947368421]  variance:  2.389889196675895\n",
            "iterations:  20  scores:  [44.73684210526316, 45.26315789473684, 41.05263157894737, 48.94736842105264, 46.8421052631579, 45.78947368421053, 50.526315789473685, 48.94736842105264, 49.473684210526315, 47.89473684210526, 46.8421052631579, 45.78947368421053, 46.31578947368421, 43.684210526315795, 54.21052631578947, 43.15789473684211, 45.78947368421053, 46.31578947368421, 44.73684210526316, 51.578947368421055]  variance:  8.972299168975066\n",
            "iterations:  30  scores:  [46.31578947368421, 42.10526315789473, 44.73684210526316, 44.73684210526316, 48.94736842105264, 52.63157894736842, 45.26315789473684, 46.31578947368421, 43.684210526315795, 49.473684210526315, 44.73684210526316, 50.526315789473685, 46.8421052631579, 42.63157894736842, 45.78947368421053, 48.421052631578945, 45.78947368421053, 48.421052631578945, 48.421052631578945, 48.421052631578945]  variance:  6.838642659279779\n",
            "iterations:  40  scores:  [44.73684210526316, 53.1578947368421, 44.21052631578947, 47.89473684210526, 42.63157894736842, 44.73684210526316, 46.8421052631579, 50.0, 46.31578947368421, 47.368421052631575, 49.473684210526315, 47.368421052631575, 44.73684210526316, 45.78947368421053, 44.73684210526316, 45.78947368421053, 47.89473684210526, 45.78947368421053, 39.473684210526315, 48.94736842105264]  variance:  8.013157894736842\n",
            "iterations:  50  scores:  [41.578947368421055, 45.26315789473684, 43.684210526315795, 45.26315789473684, 47.89473684210526, 48.94736842105264, 46.8421052631579, 49.473684210526315, 46.8421052631579, 51.578947368421055, 48.94736842105264, 46.8421052631579, 48.421052631578945, 49.473684210526315, 45.26315789473684, 45.26315789473684, 45.26315789473684, 44.21052631578947, 42.63157894736842, 48.94736842105264]  variance:  6.3545706371191155\n",
            "iterations:  60  scores:  [45.78947368421053, 44.21052631578947, 43.15789473684211, 44.73684210526316, 47.89473684210526, 47.368421052631575, 45.78947368421053, 52.10526315789473, 50.0, 40.526315789473685, 41.578947368421055, 47.89473684210526, 48.421052631578945, 48.421052631578945, 47.368421052631575, 47.368421052631575, 46.31578947368421, 43.15789473684211, 45.26315789473684, 48.421052631578945]  variance:  7.658587257617716\n",
            "iterations:  70  scores:  [49.473684210526315, 51.05263157894737, 43.15789473684211, 47.89473684210526, 48.94736842105264, 45.26315789473684, 48.421052631578945, 47.89473684210526, 47.368421052631575, 47.89473684210526, 47.89473684210526, 49.473684210526315, 52.10526315789473, 48.94736842105264, 45.26315789473684, 49.473684210526315, 46.8421052631579, 48.421052631578945, 45.78947368421053, 51.05263157894737]  variance:  4.445290858725758\n",
            "iterations:  80  scores:  [45.26315789473684, 45.26315789473684, 49.473684210526315, 42.63157894736842, 48.421052631578945, 50.0, 44.21052631578947, 50.0, 48.421052631578945, 48.421052631578945, 46.31578947368421, 43.684210526315795, 46.31578947368421, 48.421052631578945, 47.89473684210526, 46.31578947368421, 51.05263157894737, 52.10526315789473, 49.473684210526315, 46.8421052631579]  variance:  6.069252077562322\n",
            "iterations:  90  scores:  [43.15789473684211, 46.31578947368421, 44.21052631578947, 48.94736842105264, 45.78947368421053, 50.0, 46.31578947368421, 48.94736842105264, 46.31578947368421, 46.31578947368421, 48.421052631578945, 47.89473684210526, 43.15789473684211, 45.26315789473684, 48.94736842105264, 47.89473684210526, 48.94736842105264, 45.78947368421053, 46.31578947368421, 44.21052631578947]  variance:  3.941135734072023\n",
            "iterations:  100  scores:  [50.0, 46.31578947368421, 50.526315789473685, 49.473684210526315, 51.05263157894737, 48.421052631578945, 45.26315789473684, 46.8421052631579, 47.368421052631575, 50.526315789473685, 39.473684210526315, 44.21052631578947, 45.78947368421053, 46.31578947368421, 47.368421052631575, 50.0, 48.94736842105264, 50.0, 49.473684210526315, 46.31578947368421]  variance:  7.3795013850415545\n",
            "iterations:  200  scores:  [47.368421052631575, 48.421052631578945, 45.78947368421053, 46.8421052631579, 51.578947368421055, 46.8421052631579, 48.421052631578945, 45.26315789473684, 48.94736842105264, 44.21052631578947, 43.684210526315795, 47.89473684210526, 45.78947368421053, 45.78947368421053, 46.8421052631579, 46.31578947368421, 48.421052631578945, 48.421052631578945, 48.94736842105264, 47.368421052631575]  variance:  3.196675900277007\n",
            "iterations:  300  scores:  [52.10526315789473, 50.0, 49.473684210526315, 41.578947368421055, 40.526315789473685, 46.31578947368421, 46.8421052631579, 48.94736842105264, 47.368421052631575, 44.73684210526316, 45.78947368421053, 47.89473684210526, 46.8421052631579, 47.89473684210526, 50.0, 46.31578947368421, 48.421052631578945, 45.26315789473684, 47.89473684210526, 43.15789473684211]  variance:  7.7416897506925135\n",
            "iterations:  400  scores:  [44.21052631578947, 45.26315789473684, 49.473684210526315, 46.31578947368421, 45.26315789473684, 49.473684210526315, 47.89473684210526, 47.89473684210526, 47.89473684210526, 46.31578947368421, 47.368421052631575, 46.31578947368421, 48.421052631578945, 46.31578947368421, 43.684210526315795, 46.8421052631579, 49.473684210526315, 52.63157894736842, 47.368421052631575, 47.368421052631575]  variance:  3.996537396121878\n",
            "iterations:  500  scores:  [49.473684210526315, 47.89473684210526, 48.421052631578945, 42.10526315789473, 47.368421052631575, 49.473684210526315, 45.26315789473684, 45.78947368421053, 45.26315789473684, 45.26315789473684, 47.89473684210526, 42.63157894736842, 49.473684210526315, 48.421052631578945, 47.89473684210526, 49.473684210526315, 47.89473684210526, 41.578947368421055, 44.73684210526316, 47.368421052631575]  variance:  5.90304709141274\n",
            "iterations:  600  scores:  [45.26315789473684, 45.26315789473684, 48.421052631578945, 48.421052631578945, 50.526315789473685, 46.8421052631579, 50.526315789473685, 48.94736842105264, 48.94736842105264, 47.89473684210526, 41.578947368421055, 46.8421052631579, 49.473684210526315, 46.8421052631579, 47.89473684210526, 45.78947368421053, 48.421052631578945, 45.78947368421053, 47.368421052631575, 46.31578947368421]  variance:  4.12742382271468\n",
            "iterations:  700  scores:  [46.8421052631579, 45.78947368421053, 42.10526315789473, 52.63157894736842, 51.05263157894737, 47.368421052631575, 44.21052631578947, 44.73684210526316, 49.473684210526315, 48.94736842105264, 47.368421052631575, 44.73684210526316, 48.421052631578945, 43.684210526315795, 46.8421052631579, 51.05263157894737, 48.94736842105264, 47.368421052631575, 47.89473684210526, 51.05263157894737]  variance:  7.343490304709142\n",
            "iterations:  800  scores:  [42.10526315789473, 51.05263157894737, 46.8421052631579, 47.368421052631575, 43.15789473684211, 47.89473684210526, 50.0, 49.473684210526315, 48.421052631578945, 50.526315789473685, 49.473684210526315, 45.78947368421053, 45.78947368421053, 49.473684210526315, 48.94736842105264, 48.421052631578945, 45.26315789473684, 47.368421052631575, 47.89473684210526, 48.421052631578945]  variance:  5.163434903047092\n",
            "iterations:  900  scores:  [51.05263157894737, 47.368421052631575, 42.63157894736842, 43.684210526315795, 41.05263157894737, 48.94736842105264, 39.473684210526315, 51.05263157894737, 47.89473684210526, 47.368421052631575, 51.05263157894737, 45.78947368421053, 42.63157894736842, 46.8421052631579, 45.26315789473684, 50.0, 48.94736842105264, 41.578947368421055, 45.26315789473684, 45.78947368421053]  variance:  11.65858725761773\n",
            "iterations:  1000  scores:  [44.73684210526316, 47.368421052631575, 46.8421052631579, 43.684210526315795, 50.0, 47.89473684210526, 50.0, 52.10526315789473, 48.421052631578945, 48.94736842105264, 47.89473684210526, 48.421052631578945, 45.26315789473684, 48.421052631578945, 49.473684210526315, 38.94736842105263, 45.78947368421053, 46.8421052631579, 45.78947368421053, 50.526315789473685]  variance:  7.922437673130192\n",
            "iterations:  2000  scores:  [49.473684210526315, 50.0, 44.73684210526316, 49.473684210526315, 46.8421052631579, 51.578947368421055, 43.684210526315795, 47.89473684210526, 46.8421052631579, 48.421052631578945, 47.89473684210526, 46.8421052631579, 48.94736842105264, 41.578947368421055, 48.421052631578945, 48.421052631578945, 45.78947368421053, 47.368421052631575, 46.31578947368421, 42.63157894736842]  variance:  5.994459833795012\n",
            "iterations:  3000  scores:  [46.8421052631579, 46.8421052631579, 42.63157894736842, 41.05263157894737, 44.21052631578947, 47.89473684210526, 44.21052631578947, 46.31578947368421, 53.1578947368421, 44.21052631578947, 47.368421052631575, 48.94736842105264, 48.421052631578945, 47.368421052631575, 45.26315789473684, 45.78947368421053, 49.473684210526315, 45.26315789473684, 49.473684210526315, 48.94736842105264]  variance:  7.23268698060942\n",
            "iterations:  4000  scores:  [46.8421052631579, 50.526315789473685, 46.8421052631579, 47.89473684210526, 46.31578947368421, 46.31578947368421, 46.8421052631579, 45.78947368421053, 47.89473684210526, 47.89473684210526, 45.78947368421053, 49.473684210526315, 47.368421052631575, 45.26315789473684, 48.421052631578945, 44.73684210526316, 46.8421052631579, 47.368421052631575, 44.21052631578947, 47.89473684210526]  variance:  2.1959833795013832\n",
            "iterations:  5000  scores:  [48.94736842105264, 46.8421052631579, 44.21052631578947, 45.26315789473684, 49.473684210526315, 43.684210526315795, 52.63157894736842, 46.8421052631579, 48.421052631578945, 48.421052631578945, 45.26315789473684, 47.89473684210526, 48.94736842105264, 47.368421052631575, 48.421052631578945, 50.0, 51.05263157894737, 48.421052631578945, 46.31578947368421, 39.473684210526315]  variance:  7.9355955678670345\n"
          ]
        }
      ]
    },
    {
      "cell_type": "markdown",
      "source": [
        "Smallest variance for the CP ALS agorithm was achieved with 4000 maximum iterations."
      ],
      "metadata": {
        "id": "GJ5jVwGhLlq1"
      }
    },
    {
      "cell_type": "code",
      "source": [
        "best_iterations_CPALS = 4000"
      ],
      "metadata": {
        "id": "8D9OqQaT0Ebs"
      },
      "execution_count": null,
      "outputs": []
    },
    {
      "cell_type": "markdown",
      "source": [
        "TNCP"
      ],
      "metadata": {
        "id": "_OCttUYfoS6P"
      }
    },
    {
      "cell_type": "code",
      "source": [
        "scores_TNCP = tensor_completion_functions.get_scores_iterations(train_validation_files, 0.5, '3', 1e-10, 0.1, iteration_nums, pyten, r=5, C=0.6)"
      ],
      "metadata": {
        "colab": {
          "base_uri": "https://localhost:8080/"
        },
        "id": "mcNmjiWuoTJj",
        "outputId": "a2b7dc0d-09b8-4102-d943-387bb8fa5607"
      },
      "execution_count": null,
      "outputs": [
        {
          "output_type": "stream",
          "name": "stdout",
          "text": [
            "iterations:  10  scores:  [46.31578947368421, 45.78947368421053, 48.421052631578945, 50.0, 41.578947368421055, 46.8421052631579, 45.78947368421053, 44.73684210526316, 48.421052631578945, 44.21052631578947, 46.31578947368421, 48.421052631578945, 50.0, 49.473684210526315, 48.421052631578945, 46.8421052631579, 47.89473684210526, 44.73684210526316, 47.89473684210526, 46.8421052631579]  variance:  4.25484764542936\n",
            "iterations:  20  scores:  [45.26315789473684, 45.78947368421053, 46.31578947368421, 47.368421052631575, 47.89473684210526, 48.94736842105264, 46.31578947368421, 46.8421052631579, 46.8421052631579, 46.8421052631579, 48.94736842105264, 46.31578947368421, 47.89473684210526, 51.578947368421055, 50.0, 47.89473684210526, 46.8421052631579, 46.8421052631579, 45.26315789473684, 44.21052631578947]  variance:  2.8005540166204996\n",
            "iterations:  30  scores:  [46.31578947368421, 48.94736842105264, 45.78947368421053, 48.94736842105264, 46.31578947368421, 48.421052631578945, 49.473684210526315, 48.94736842105264, 46.31578947368421, 46.31578947368421, 48.94736842105264, 44.21052631578947, 43.15789473684211, 46.8421052631579, 45.26315789473684, 49.473684210526315, 47.89473684210526, 45.26315789473684, 50.526315789473685, 52.63157894736842]  variance:  5.06578947368421\n",
            "iterations:  40  scores:  [48.421052631578945, 51.05263157894737, 51.578947368421055, 44.73684210526316, 47.89473684210526, 44.21052631578947, 46.31578947368421, 46.8421052631579, 47.89473684210526, 47.368421052631575, 44.21052631578947, 46.31578947368421, 45.26315789473684, 45.26315789473684, 45.26315789473684, 48.94736842105264, 47.89473684210526, 44.73684210526316, 46.31578947368421, 44.73684210526316]  variance:  4.301246537396125\n",
            "iterations:  50  scores:  [45.26315789473684, 45.78947368421053, 48.94736842105264, 50.526315789473685, 45.78947368421053, 47.368421052631575, 46.8421052631579, 50.526315789473685, 43.15789473684211, 43.684210526315795, 48.94736842105264, 47.368421052631575, 48.421052631578945, 46.8421052631579, 45.78947368421053, 46.8421052631579, 46.31578947368421, 45.78947368421053, 41.578947368421055, 45.26315789473684]  variance:  4.916204986149582\n",
            "iterations:  60  scores:  [44.73684210526316, 45.78947368421053, 49.473684210526315, 49.473684210526315, 44.73684210526316, 44.73684210526316, 45.26315789473684, 44.21052631578947, 44.73684210526316, 50.526315789473685, 47.89473684210526, 45.26315789473684, 48.421052631578945, 50.526315789473685, 47.89473684210526, 47.89473684210526, 50.526315789473685, 44.21052631578947, 44.73684210526316, 44.21052631578947]  variance:  5.464681440443213\n",
            "iterations:  70  scores:  [43.684210526315795, 46.8421052631579, 48.421052631578945, 47.89473684210526, 51.578947368421055, 51.05263157894737, 48.421052631578945, 48.94736842105264, 46.31578947368421, 49.473684210526315, 44.21052631578947, 47.368421052631575, 46.8421052631579, 44.21052631578947, 54.21052631578947, 48.421052631578945, 42.63157894736842, 47.368421052631575, 44.73684210526316, 51.05263157894737]  variance:  8.238227146814406\n",
            "iterations:  80  scores:  [45.26315789473684, 47.368421052631575, 51.05263157894737, 47.368421052631575, 46.31578947368421, 43.684210526315795, 49.473684210526315, 45.78947368421053, 48.94736842105264, 50.0, 52.63157894736842, 49.473684210526315, 44.21052631578947, 49.473684210526315, 48.94736842105264, 46.31578947368421, 45.78947368421053, 45.26315789473684, 46.31578947368421, 42.63157894736842]  variance:  6.479224376731301\n",
            "iterations:  90  scores:  [45.78947368421053, 49.473684210526315, 40.526315789473685, 47.89473684210526, 46.31578947368421, 46.31578947368421, 48.421052631578945, 50.0, 42.10526315789473, 45.78947368421053, 45.78947368421053, 45.26315789473684, 46.8421052631579, 48.421052631578945, 48.421052631578945, 48.421052631578945, 47.368421052631575, 45.78947368421053, 47.89473684210526, 45.26315789473684]  variance:  5.027008310249306\n",
            "iterations:  100  scores:  [47.89473684210526, 46.8421052631579, 44.73684210526316, 45.78947368421053, 49.473684210526315, 44.73684210526316, 42.10526315789473, 42.10526315789473, 45.78947368421053, 44.73684210526316, 47.89473684210526, 50.0, 47.89473684210526, 49.473684210526315, 48.94736842105264, 46.8421052631579, 48.421052631578945, 46.31578947368421, 43.15789473684211, 50.526315789473685]  variance:  6.0692520775623295\n",
            "iterations:  200  scores:  [44.73684210526316, 44.73684210526316, 46.8421052631579, 51.05263157894737, 45.26315789473684, 50.0, 46.8421052631579, 50.526315789473685, 51.05263157894737, 45.26315789473684, 48.94736842105264, 46.8421052631579, 46.31578947368421, 45.78947368421053, 48.94736842105264, 48.94736842105264, 45.26315789473684, 47.89473684210526, 50.0, 45.26315789473684]  variance:  4.711911357340723\n",
            "iterations:  300  scores:  [47.89473684210526, 44.73684210526316, 48.94736842105264, 45.26315789473684, 43.15789473684211, 47.89473684210526, 46.8421052631579, 47.368421052631575, 45.78947368421053, 44.21052631578947, 46.31578947368421, 47.89473684210526, 44.21052631578947, 50.0, 43.15789473684211, 45.26315789473684, 48.94736842105264, 46.31578947368421, 50.0, 42.10526315789473]  variance:  5.069252077562327\n",
            "iterations:  400  scores:  [46.8421052631579, 46.8421052631579, 42.63157894736842, 47.89473684210526, 50.526315789473685, 46.31578947368421, 45.78947368421053, 46.31578947368421, 48.94736842105264, 46.31578947368421, 45.26315789473684, 46.8421052631579, 48.94736842105264, 49.473684210526315, 48.94736842105264, 52.10526315789473, 42.63157894736842, 47.89473684210526, 50.0, 44.21052631578947]  variance:  5.869113573407207\n",
            "iterations:  500  scores:  [47.368421052631575, 45.26315789473684, 52.63157894736842, 49.473684210526315, 41.578947368421055, 51.05263157894737, 44.21052631578947, 48.94736842105264, 47.89473684210526, 46.31578947368421, 46.31578947368421, 44.73684210526316, 45.78947368421053, 47.89473684210526, 46.31578947368421, 45.78947368421053, 45.26315789473684, 47.89473684210526, 47.89473684210526, 48.94736842105264]  variance:  5.885734072022158\n",
            "iterations:  600  scores:  [47.368421052631575, 48.421052631578945, 45.78947368421053, 42.63157894736842, 46.8421052631579, 47.368421052631575, 49.473684210526315, 47.368421052631575, 45.26315789473684, 43.15789473684211, 45.26315789473684, 43.684210526315795, 52.10526315789473, 47.89473684210526, 44.73684210526316, 47.368421052631575, 45.78947368421053, 46.31578947368421, 46.31578947368421, 46.8421052631579]  variance:  4.522853185595562\n",
            "iterations:  700  scores:  [46.8421052631579, 50.0, 48.421052631578945, 48.94736842105264, 46.31578947368421, 46.8421052631579, 52.10526315789473, 47.89473684210526, 43.684210526315795, 50.526315789473685, 47.89473684210526, 46.31578947368421, 47.368421052631575, 43.684210526315795, 47.89473684210526, 45.78947368421053, 45.26315789473684, 46.31578947368421, 43.15789473684211, 45.78947368421053]  variance:  4.997229916897498\n",
            "iterations:  800  scores:  [48.94736842105264, 45.26315789473684, 44.21052631578947, 49.473684210526315, 47.89473684210526, 48.421052631578945, 47.89473684210526, 48.421052631578945, 46.8421052631579, 45.78947368421053, 42.10526315789473, 46.31578947368421, 44.73684210526316, 45.78947368421053, 52.10526315789473, 46.8421052631579, 46.8421052631579, 48.94736842105264, 44.21052631578947, 48.421052631578945]  variance:  4.927285318559558\n",
            "iterations:  900  scores:  [46.8421052631579, 43.684210526315795, 45.26315789473684, 48.421052631578945, 42.10526315789473, 52.63157894736842, 44.73684210526316, 45.26315789473684, 41.578947368421055, 48.421052631578945, 45.78947368421053, 43.684210526315795, 45.78947368421053, 48.421052631578945, 44.73684210526316, 47.89473684210526, 43.15789473684211, 46.31578947368421, 47.89473684210526, 48.421052631578945]  variance:  6.662049861495836\n",
            "iterations:  1000  scores:  [47.368421052631575, 47.89473684210526, 47.368421052631575, 42.63157894736842, 46.31578947368421, 50.526315789473685, 44.21052631578947, 51.578947368421055, 42.63157894736842, 43.15789473684211, 45.26315789473684, 50.526315789473685, 50.526315789473685, 45.26315789473684, 47.89473684210526, 44.73684210526316, 46.8421052631579, 53.1578947368421, 51.578947368421055, 48.421052631578945]  variance:  9.514542936288091\n",
            "iterations:  2000  scores:  [50.0, 48.421052631578945, 47.368421052631575, 46.8421052631579, 47.368421052631575, 48.421052631578945, 44.21052631578947, 45.26315789473684, 49.473684210526315, 46.8421052631579, 48.94736842105264, 48.94736842105264, 49.473684210526315, 44.73684210526316, 48.94736842105264, 50.0, 50.526315789473685, 48.94736842105264, 51.05263157894737, 50.0]  variance:  3.514542936288091\n",
            "iterations:  3000  scores:  [46.8421052631579, 46.8421052631579, 48.94736842105264, 49.473684210526315, 47.368421052631575, 44.21052631578947, 46.31578947368421, 48.421052631578945, 45.78947368421053, 49.473684210526315, 45.78947368421053, 48.421052631578945, 41.05263157894737, 46.8421052631579, 44.21052631578947, 45.26315789473684, 47.368421052631575, 44.73684210526316, 48.94736842105264, 44.21052631578947]  variance:  4.498614958448753\n",
            "iterations:  4000  scores:  [47.89473684210526, 42.10526315789473, 46.31578947368421, 50.0, 44.73684210526316, 47.368421052631575, 46.31578947368421, 45.26315789473684, 50.0, 53.1578947368421, 48.421052631578945, 48.94736842105264, 45.78947368421053, 45.78947368421053, 50.526315789473685, 43.684210526315795, 48.94736842105264, 47.368421052631575, 44.73684210526316, 44.73684210526316]  variance:  6.800554016620498\n",
            "iterations:  5000  scores:  [48.421052631578945, 44.21052631578947, 45.78947368421053, 44.73684210526316, 45.78947368421053, 45.26315789473684, 43.684210526315795, 44.21052631578947, 47.368421052631575, 52.10526315789473, 45.26315789473684, 50.0, 47.368421052631575, 47.368421052631575, 44.21052631578947, 47.89473684210526, 45.26315789473684, 50.0, 46.31578947368421, 50.526315789473685]  variance:  5.537396121883652\n"
          ]
        }
      ]
    },
    {
      "cell_type": "markdown",
      "source": [
        "Smallest variance for the TNCP agorithm was achieved with 20 maximum iterations."
      ],
      "metadata": {
        "id": "OBdRM5QULrL3"
      }
    },
    {
      "cell_type": "code",
      "source": [
        "best_iterations_TNCP = 20"
      ],
      "metadata": {
        "id": "UZK6RK4Q2KTW"
      },
      "execution_count": null,
      "outputs": []
    },
    {
      "cell_type": "markdown",
      "source": [
        "SiLRTC"
      ],
      "metadata": {
        "id": "ykG7uORqx6BB"
      }
    },
    {
      "cell_type": "markdown",
      "source": [
        "The maximum number of iterations didn't make any difference in the accuracy of SiLRTC, so I chose 100, which is default in Pyten."
      ],
      "metadata": {
        "id": "cSk6DrtcL2yt"
      }
    },
    {
      "cell_type": "code",
      "source": [
        "best_iterations_SliRTC = 100"
      ],
      "metadata": {
        "id": "HjA0ra5J3TFa"
      },
      "execution_count": null,
      "outputs": []
    },
    {
      "cell_type": "markdown",
      "source": [
        "I searched for best hyperparameters for each algorithm. For each hyperparameters combination is the model trained on the training data and evaluated on the second half of the 2017/18 season, which is the validation dataset. The hyperparameter combination with the best validation accuracy is chosen."
      ],
      "metadata": {
        "id": "xzu2cjB3MTzN"
      }
    },
    {
      "cell_type": "markdown",
      "source": [
        "Tucker ALS"
      ],
      "metadata": {
        "id": "6Ksu34L7FA7J"
      }
    },
    {
      "cell_type": "code",
      "source": [
        "param_grid = {\n",
        "    'threshold': [0, 0.025, 0.05, 0.075, 0.1, 0.125, 0.15, 0.175, 0.2, 0.225, 0.25],\n",
        "    'r': [2, 3, 4, 5, 6, 7, 8, 9, 10]\n",
        "}\n",
        "param_comb = ParameterGrid(param_grid)\n",
        "\n",
        "val_scores = []\n",
        "for params in param_comb:\n",
        "    # Training on the training dataset and predicting the validation dataset.\n",
        "    score = tensor_completion_functions.predict_season(train_validation_files, 0.5, '1', 1e-10,\n",
        "                           best_iterations_tuckerALS, pyten, **params)\n",
        "    val_scores.append(score)\n",
        "    print(params, ' ', score)\n",
        "\n",
        "best_params = param_comb[np.argmax(val_scores)]\n",
        "print(best_params)\n",
        "print(np.max(val_scores))"
      ],
      "metadata": {
        "colab": {
          "base_uri": "https://localhost:8080/"
        },
        "id": "bXUu9AgLl5Qo",
        "outputId": "0bdceb23-b49f-44f2-cd2a-596d7090ecc5"
      },
      "execution_count": null,
      "outputs": [
        {
          "output_type": "stream",
          "name": "stdout",
          "text": [
            "{'r': 2, 'threshold': 0}   0.4263157894736842\n",
            "{'r': 2, 'threshold': 0.025}   0.4842105263157895\n",
            "{'r': 2, 'threshold': 0.05}   0.4842105263157895\n",
            "{'r': 2, 'threshold': 0.075}   0.4\n",
            "{'r': 2, 'threshold': 0.1}   0.45789473684210524\n",
            "{'r': 2, 'threshold': 0.125}   0.4\n",
            "{'r': 2, 'threshold': 0.15}   0.4105263157894737\n",
            "{'r': 2, 'threshold': 0.175}   0.4052631578947368\n",
            "{'r': 2, 'threshold': 0.2}   0.38421052631578945\n",
            "{'r': 2, 'threshold': 0.225}   0.4473684210526316\n",
            "{'r': 2, 'threshold': 0.25}   0.3684210526315789\n",
            "{'r': 3, 'threshold': 0}   0.5\n",
            "{'r': 3, 'threshold': 0.025}   0.49473684210526314\n",
            "{'r': 3, 'threshold': 0.05}   0.47368421052631576\n",
            "{'r': 3, 'threshold': 0.075}   0.45789473684210524\n",
            "{'r': 3, 'threshold': 0.1}   0.46842105263157896\n",
            "{'r': 3, 'threshold': 0.125}   0.46842105263157896\n",
            "{'r': 3, 'threshold': 0.15}   0.4631578947368421\n",
            "{'r': 3, 'threshold': 0.175}   0.4473684210526316\n",
            "{'r': 3, 'threshold': 0.2}   0.46842105263157896\n",
            "{'r': 3, 'threshold': 0.225}   0.4421052631578947\n",
            "{'r': 3, 'threshold': 0.25}   0.4421052631578947\n",
            "{'r': 4, 'threshold': 0}   0.48947368421052634\n",
            "{'r': 4, 'threshold': 0.025}   0.5052631578947369\n",
            "{'r': 4, 'threshold': 0.05}   0.48947368421052634\n",
            "{'r': 4, 'threshold': 0.075}   0.4631578947368421\n",
            "{'r': 4, 'threshold': 0.1}   0.4789473684210526\n",
            "{'r': 4, 'threshold': 0.125}   0.46842105263157896\n",
            "{'r': 4, 'threshold': 0.15}   0.45789473684210524\n",
            "{'r': 4, 'threshold': 0.175}   0.4842105263157895\n",
            "{'r': 4, 'threshold': 0.2}   0.47368421052631576\n",
            "{'r': 4, 'threshold': 0.225}   0.5\n",
            "{'r': 4, 'threshold': 0.25}   0.4842105263157895\n",
            "{'r': 5, 'threshold': 0}   0.4789473684210526\n",
            "{'r': 5, 'threshold': 0.025}   0.45263157894736844\n",
            "{'r': 5, 'threshold': 0.05}   0.46842105263157896\n",
            "{'r': 5, 'threshold': 0.075}   0.46842105263157896\n",
            "{'r': 5, 'threshold': 0.1}   0.46842105263157896\n",
            "{'r': 5, 'threshold': 0.125}   0.4631578947368421\n",
            "{'r': 5, 'threshold': 0.15}   0.5\n",
            "{'r': 5, 'threshold': 0.175}   0.4789473684210526\n",
            "{'r': 5, 'threshold': 0.2}   0.45263157894736844\n",
            "{'r': 5, 'threshold': 0.225}   0.4263157894736842\n",
            "{'r': 5, 'threshold': 0.25}   0.45263157894736844\n",
            "{'r': 6, 'threshold': 0}   0.49473684210526314\n",
            "{'r': 6, 'threshold': 0.025}   0.47368421052631576\n",
            "{'r': 6, 'threshold': 0.05}   0.4421052631578947\n",
            "{'r': 6, 'threshold': 0.075}   0.46842105263157896\n",
            "{'r': 6, 'threshold': 0.1}   0.4631578947368421\n",
            "{'r': 6, 'threshold': 0.125}   0.45263157894736844\n",
            "{'r': 6, 'threshold': 0.15}   0.46842105263157896\n",
            "{'r': 6, 'threshold': 0.175}   0.45789473684210524\n",
            "{'r': 6, 'threshold': 0.2}   0.45789473684210524\n",
            "{'r': 6, 'threshold': 0.225}   0.4631578947368421\n",
            "{'r': 6, 'threshold': 0.25}   0.41578947368421054\n",
            "{'r': 7, 'threshold': 0}   0.47368421052631576\n",
            "{'r': 7, 'threshold': 0.025}   0.45789473684210524\n",
            "{'r': 7, 'threshold': 0.05}   0.5105263157894737\n",
            "{'r': 7, 'threshold': 0.075}   0.4842105263157895\n",
            "{'r': 7, 'threshold': 0.1}   0.5052631578947369\n",
            "{'r': 7, 'threshold': 0.125}   0.42105263157894735\n",
            "{'r': 7, 'threshold': 0.15}   0.46842105263157896\n",
            "{'r': 7, 'threshold': 0.175}   0.45789473684210524\n",
            "{'r': 7, 'threshold': 0.2}   0.5\n",
            "{'r': 7, 'threshold': 0.225}   0.5052631578947369\n",
            "{'r': 7, 'threshold': 0.25}   0.5105263157894737\n",
            "{'r': 8, 'threshold': 0}   0.47368421052631576\n",
            "{'r': 8, 'threshold': 0.025}   0.46842105263157896\n",
            "{'r': 8, 'threshold': 0.05}   0.45263157894736844\n",
            "{'r': 8, 'threshold': 0.075}   0.45789473684210524\n",
            "{'r': 8, 'threshold': 0.1}   0.4631578947368421\n",
            "{'r': 8, 'threshold': 0.125}   0.4842105263157895\n",
            "{'r': 8, 'threshold': 0.15}   0.4789473684210526\n",
            "{'r': 8, 'threshold': 0.175}   0.4631578947368421\n",
            "{'r': 8, 'threshold': 0.2}   0.45789473684210524\n",
            "{'r': 8, 'threshold': 0.225}   0.47368421052631576\n",
            "{'r': 8, 'threshold': 0.25}   0.45789473684210524\n",
            "{'r': 9, 'threshold': 0}   0.47368421052631576\n",
            "{'r': 9, 'threshold': 0.025}   0.49473684210526314\n",
            "{'r': 9, 'threshold': 0.05}   0.4421052631578947\n",
            "{'r': 9, 'threshold': 0.075}   0.4421052631578947\n",
            "{'r': 9, 'threshold': 0.1}   0.43157894736842106\n",
            "{'r': 9, 'threshold': 0.125}   0.46842105263157896\n",
            "{'r': 9, 'threshold': 0.15}   0.46842105263157896\n",
            "{'r': 9, 'threshold': 0.175}   0.45789473684210524\n",
            "{'r': 9, 'threshold': 0.2}   0.47368421052631576\n",
            "{'r': 9, 'threshold': 0.225}   0.4631578947368421\n",
            "{'r': 9, 'threshold': 0.25}   0.45263157894736844\n",
            "{'r': 10, 'threshold': 0}   0.4368421052631579\n",
            "{'r': 10, 'threshold': 0.025}   0.45263157894736844\n",
            "{'r': 10, 'threshold': 0.05}   0.4421052631578947\n",
            "{'r': 10, 'threshold': 0.075}   0.4631578947368421\n",
            "{'r': 10, 'threshold': 0.1}   0.47368421052631576\n",
            "{'r': 10, 'threshold': 0.125}   0.4473684210526316\n",
            "{'r': 10, 'threshold': 0.15}   0.46842105263157896\n",
            "{'r': 10, 'threshold': 0.175}   0.43157894736842106\n",
            "{'r': 10, 'threshold': 0.2}   0.46842105263157896\n",
            "{'r': 10, 'threshold': 0.225}   0.45263157894736844\n",
            "{'r': 10, 'threshold': 0.25}   0.4631578947368421\n",
            "{'threshold': 0.05, 'r': 7}\n",
            "0.5105263157894737\n"
          ]
        }
      ]
    },
    {
      "cell_type": "markdown",
      "source": [
        "With Tucker ALS algorithm was the highest validation accuracy achieved with threshold of 0.05 and r of 7."
      ],
      "metadata": {
        "id": "DvTfthkLM223"
      }
    },
    {
      "cell_type": "markdown",
      "source": [
        "CP ALS"
      ],
      "metadata": {
        "id": "8mhlDoTOGqWr"
      }
    },
    {
      "cell_type": "code",
      "source": [
        "param_grid = {\n",
        "    'threshold': [0, 0.025, 0.05, 0.075, 0.1, 0.125, 0.15, 0.175, 0.2, 0.225, 0.25],\n",
        "    'r': [2, 3, 4, 5, 6, 7, 8, 9, 10]\n",
        "}\n",
        "param_comb = ParameterGrid(param_grid)\n",
        "\n",
        "val_scores = []\n",
        "for params in param_comb:\n",
        "    # Training on the training dataset and predicting the validation dataset.\n",
        "    score = tensor_completion_functions.predict_season(train_validation_files, 0.5, '2', 1e-10,\n",
        "                           best_iterations_CPALS, pyten, **params)\n",
        "    val_scores.append(score)\n",
        "    print(params, ' ', score)\n",
        "\n",
        "best_params = param_comb[np.argmax(val_scores)]\n",
        "print(best_params)\n",
        "print(np.max(val_scores))"
      ],
      "metadata": {
        "colab": {
          "base_uri": "https://localhost:8080/"
        },
        "id": "ZbNi4NqsGphw",
        "outputId": "59ad648e-e5c7-48c0-804d-e81aa64dab93"
      },
      "execution_count": null,
      "outputs": [
        {
          "output_type": "stream",
          "name": "stderr",
          "text": [
            "/usr/local/lib/python3.7/dist-packages/pyten/tenclass/ktensor.py:35: VisibleDeprecationWarning: Creating an ndarray from ragged nested sequences (which is a list-or-tuple of lists-or-tuples-or ndarrays with different lengths or shapes) is deprecated. If you meant to do this, you must specify 'dtype=object' when creating the ndarray.\n",
            "  self.Us = np.array(us)\n"
          ]
        },
        {
          "output_type": "stream",
          "name": "stdout",
          "text": [
            "{'r': 2, 'threshold': 0}   0.4421052631578947\n",
            "{'r': 2, 'threshold': 0.025}   0.47368421052631576\n",
            "{'r': 2, 'threshold': 0.05}   0.4421052631578947\n",
            "{'r': 2, 'threshold': 0.075}   0.4473684210526316\n",
            "{'r': 2, 'threshold': 0.1}   0.46842105263157896\n",
            "{'r': 2, 'threshold': 0.125}   0.46842105263157896\n",
            "{'r': 2, 'threshold': 0.15}   0.4368421052631579\n",
            "{'r': 2, 'threshold': 0.175}   0.4421052631578947\n",
            "{'r': 2, 'threshold': 0.2}   0.4631578947368421\n",
            "{'r': 2, 'threshold': 0.225}   0.4631578947368421\n",
            "{'r': 2, 'threshold': 0.25}   0.45789473684210524\n",
            "{'r': 3, 'threshold': 0}   0.49473684210526314\n",
            "{'r': 3, 'threshold': 0.025}   0.4368421052631579\n",
            "{'r': 3, 'threshold': 0.05}   0.49473684210526314\n",
            "{'r': 3, 'threshold': 0.075}   0.49473684210526314\n",
            "{'r': 3, 'threshold': 0.1}   0.46842105263157896\n",
            "{'r': 3, 'threshold': 0.125}   0.4789473684210526\n",
            "{'r': 3, 'threshold': 0.15}   0.4473684210526316\n",
            "{'r': 3, 'threshold': 0.175}   0.4368421052631579\n",
            "{'r': 3, 'threshold': 0.2}   0.5052631578947369\n",
            "{'r': 3, 'threshold': 0.225}   0.43157894736842106\n",
            "{'r': 3, 'threshold': 0.25}   0.4473684210526316\n",
            "{'r': 4, 'threshold': 0}   0.4421052631578947\n",
            "{'r': 4, 'threshold': 0.025}   0.4789473684210526\n",
            "{'r': 4, 'threshold': 0.05}   0.43157894736842106\n",
            "{'r': 4, 'threshold': 0.075}   0.45263157894736844\n",
            "{'r': 4, 'threshold': 0.1}   0.5105263157894737\n",
            "{'r': 4, 'threshold': 0.125}   0.5\n",
            "{'r': 4, 'threshold': 0.15}   0.45263157894736844\n",
            "{'r': 4, 'threshold': 0.175}   0.5\n",
            "{'r': 4, 'threshold': 0.2}   0.4789473684210526\n",
            "{'r': 4, 'threshold': 0.225}   0.43157894736842106\n",
            "{'r': 4, 'threshold': 0.25}   0.45263157894736844\n",
            "{'r': 5, 'threshold': 0}   0.4368421052631579\n",
            "{'r': 5, 'threshold': 0.025}   0.45789473684210524\n",
            "{'r': 5, 'threshold': 0.05}   0.4421052631578947\n",
            "{'r': 5, 'threshold': 0.075}   0.5052631578947369\n",
            "{'r': 5, 'threshold': 0.1}   0.4789473684210526\n",
            "{'r': 5, 'threshold': 0.125}   0.49473684210526314\n",
            "{'r': 5, 'threshold': 0.15}   0.45789473684210524\n",
            "{'r': 5, 'threshold': 0.175}   0.49473684210526314\n",
            "{'r': 5, 'threshold': 0.2}   0.4473684210526316\n",
            "{'r': 5, 'threshold': 0.225}   0.4421052631578947\n",
            "{'r': 5, 'threshold': 0.25}   0.45263157894736844\n",
            "{'r': 6, 'threshold': 0}   0.4\n",
            "{'r': 6, 'threshold': 0.025}   0.47368421052631576\n",
            "{'r': 6, 'threshold': 0.05}   0.4789473684210526\n",
            "{'r': 6, 'threshold': 0.075}   0.4789473684210526\n",
            "{'r': 6, 'threshold': 0.1}   0.47368421052631576\n",
            "{'r': 6, 'threshold': 0.125}   0.4421052631578947\n",
            "{'r': 6, 'threshold': 0.15}   0.4631578947368421\n",
            "{'r': 6, 'threshold': 0.175}   0.4421052631578947\n",
            "{'r': 6, 'threshold': 0.2}   0.45263157894736844\n",
            "{'r': 6, 'threshold': 0.225}   0.4842105263157895\n",
            "{'r': 6, 'threshold': 0.25}   0.45789473684210524\n",
            "{'r': 7, 'threshold': 0}   0.4631578947368421\n",
            "{'r': 7, 'threshold': 0.025}   0.45263157894736844\n",
            "{'r': 7, 'threshold': 0.05}   0.4473684210526316\n",
            "{'r': 7, 'threshold': 0.075}   0.4789473684210526\n",
            "{'r': 7, 'threshold': 0.1}   0.4631578947368421\n",
            "{'r': 7, 'threshold': 0.125}   0.4631578947368421\n",
            "{'r': 7, 'threshold': 0.15}   0.46842105263157896\n",
            "{'r': 7, 'threshold': 0.175}   0.46842105263157896\n",
            "{'r': 7, 'threshold': 0.2}   0.46842105263157896\n",
            "{'r': 7, 'threshold': 0.225}   0.45263157894736844\n",
            "{'r': 7, 'threshold': 0.25}   0.48947368421052634\n",
            "{'r': 8, 'threshold': 0}   0.48947368421052634\n",
            "{'r': 8, 'threshold': 0.025}   0.5\n",
            "{'r': 8, 'threshold': 0.05}   0.43157894736842106\n",
            "{'r': 8, 'threshold': 0.075}   0.42105263157894735\n",
            "{'r': 8, 'threshold': 0.1}   0.4421052631578947\n",
            "{'r': 8, 'threshold': 0.125}   0.45263157894736844\n",
            "{'r': 8, 'threshold': 0.15}   0.47368421052631576\n",
            "{'r': 8, 'threshold': 0.175}   0.4631578947368421\n",
            "{'r': 8, 'threshold': 0.2}   0.4473684210526316\n",
            "{'r': 8, 'threshold': 0.225}   0.41578947368421054\n",
            "{'r': 8, 'threshold': 0.25}   0.4263157894736842\n",
            "{'r': 9, 'threshold': 0}   0.4105263157894737\n",
            "{'r': 9, 'threshold': 0.025}   0.4789473684210526\n",
            "{'r': 9, 'threshold': 0.05}   0.4473684210526316\n",
            "{'r': 9, 'threshold': 0.075}   0.42105263157894735\n",
            "{'r': 9, 'threshold': 0.1}   0.4789473684210526\n",
            "{'r': 9, 'threshold': 0.125}   0.4421052631578947\n",
            "{'r': 9, 'threshold': 0.15}   0.47368421052631576\n",
            "{'r': 9, 'threshold': 0.175}   0.42105263157894735\n",
            "{'r': 9, 'threshold': 0.2}   0.42105263157894735\n",
            "{'r': 9, 'threshold': 0.225}   0.42105263157894735\n",
            "{'r': 9, 'threshold': 0.25}   0.37894736842105264\n",
            "{'r': 10, 'threshold': 0}   0.4421052631578947\n",
            "{'r': 10, 'threshold': 0.025}   0.45263157894736844\n",
            "{'r': 10, 'threshold': 0.05}   0.42105263157894735\n",
            "{'r': 10, 'threshold': 0.075}   0.42105263157894735\n",
            "{'r': 10, 'threshold': 0.1}   0.4263157894736842\n",
            "{'r': 10, 'threshold': 0.125}   0.45789473684210524\n",
            "{'r': 10, 'threshold': 0.15}   0.4263157894736842\n",
            "{'r': 10, 'threshold': 0.175}   0.5157894736842106\n",
            "{'r': 10, 'threshold': 0.2}   0.42105263157894735\n",
            "{'r': 10, 'threshold': 0.225}   0.45263157894736844\n",
            "{'r': 10, 'threshold': 0.25}   0.4368421052631579\n",
            "{'threshold': 0.175, 'r': 10}\n",
            "0.5157894736842106\n"
          ]
        }
      ]
    },
    {
      "cell_type": "markdown",
      "source": [
        "With CP ALS algorithm was the highest validation accuracy achieved with threshold of 0.175 and r of 10."
      ],
      "metadata": {
        "id": "E9UuTp5fNFHh"
      }
    },
    {
      "cell_type": "markdown",
      "source": [
        "TNCP"
      ],
      "metadata": {
        "id": "h6EDAhqeJgrq"
      }
    },
    {
      "cell_type": "code",
      "source": [
        "param_grid = {\n",
        "    'threshold': [0, 0.025, 0.05, 0.075, 0.1, 0.125, 0.15, 0.175, 0.2, 0.225, 0.25],\n",
        "    'r': [2, 3, 4, 5, 6, 7, 8, 9, 10]\n",
        "}\n",
        "param_comb = ParameterGrid(param_grid)\n",
        "\n",
        "val_scores = []\n",
        "for params in param_comb:\n",
        "    # Training on the training dataset and predicting the validation dataset.\n",
        "    score = tensor_completion_functions.predict_season(train_validation_files, 0.5, '3', 1e-10,\n",
        "                           best_iterations_TNCP, pyten, **params)\n",
        "    val_scores.append(score)\n",
        "    print(params, ' ', score)\n",
        "\n",
        "best_params = param_comb[np.argmax(val_scores)]\n",
        "print(best_params)\n",
        "print(np.max(val_scores))"
      ],
      "metadata": {
        "colab": {
          "base_uri": "https://localhost:8080/"
        },
        "id": "FO06Ou22Jfhl",
        "outputId": "3905ea07-0abf-4152-82b2-18a5b9677d82"
      },
      "execution_count": null,
      "outputs": [
        {
          "output_type": "stream",
          "name": "stdout",
          "text": [
            "{'r': 2, 'threshold': 0}   0.42105263157894735\n",
            "{'r': 2, 'threshold': 0.025}   0.4368421052631579\n",
            "{'r': 2, 'threshold': 0.05}   0.42105263157894735\n",
            "{'r': 2, 'threshold': 0.075}   0.46842105263157896\n",
            "{'r': 2, 'threshold': 0.1}   0.4052631578947368\n",
            "{'r': 2, 'threshold': 0.125}   0.43157894736842106\n",
            "{'r': 2, 'threshold': 0.15}   0.41578947368421054\n",
            "{'r': 2, 'threshold': 0.175}   0.4263157894736842\n",
            "{'r': 2, 'threshold': 0.2}   0.39473684210526316\n",
            "{'r': 2, 'threshold': 0.225}   0.38421052631578945\n",
            "{'r': 2, 'threshold': 0.25}   0.39473684210526316\n",
            "{'r': 3, 'threshold': 0}   0.47368421052631576\n",
            "{'r': 3, 'threshold': 0.025}   0.4631578947368421\n",
            "{'r': 3, 'threshold': 0.05}   0.47368421052631576\n",
            "{'r': 3, 'threshold': 0.075}   0.4842105263157895\n",
            "{'r': 3, 'threshold': 0.1}   0.43157894736842106\n",
            "{'r': 3, 'threshold': 0.125}   0.4631578947368421\n",
            "{'r': 3, 'threshold': 0.15}   0.4052631578947368\n",
            "{'r': 3, 'threshold': 0.175}   0.4789473684210526\n",
            "{'r': 3, 'threshold': 0.2}   0.4052631578947368\n",
            "{'r': 3, 'threshold': 0.225}   0.3894736842105263\n",
            "{'r': 3, 'threshold': 0.25}   0.4421052631578947\n",
            "{'r': 4, 'threshold': 0}   0.47368421052631576\n",
            "{'r': 4, 'threshold': 0.025}   0.46842105263157896\n",
            "{'r': 4, 'threshold': 0.05}   0.5052631578947369\n",
            "{'r': 4, 'threshold': 0.075}   0.4473684210526316\n",
            "{'r': 4, 'threshold': 0.1}   0.4\n",
            "{'r': 4, 'threshold': 0.125}   0.4789473684210526\n",
            "{'r': 4, 'threshold': 0.15}   0.42105263157894735\n",
            "{'r': 4, 'threshold': 0.175}   0.45263157894736844\n",
            "{'r': 4, 'threshold': 0.2}   0.47368421052631576\n",
            "{'r': 4, 'threshold': 0.225}   0.4421052631578947\n",
            "{'r': 4, 'threshold': 0.25}   0.4052631578947368\n",
            "{'r': 5, 'threshold': 0}   0.48947368421052634\n",
            "{'r': 5, 'threshold': 0.025}   0.4421052631578947\n",
            "{'r': 5, 'threshold': 0.05}   0.4631578947368421\n",
            "{'r': 5, 'threshold': 0.075}   0.49473684210526314\n",
            "{'r': 5, 'threshold': 0.1}   0.4473684210526316\n",
            "{'r': 5, 'threshold': 0.125}   0.45263157894736844\n",
            "{'r': 5, 'threshold': 0.15}   0.4631578947368421\n",
            "{'r': 5, 'threshold': 0.175}   0.41578947368421054\n",
            "{'r': 5, 'threshold': 0.2}   0.4789473684210526\n",
            "{'r': 5, 'threshold': 0.225}   0.45263157894736844\n",
            "{'r': 5, 'threshold': 0.25}   0.4473684210526316\n",
            "{'r': 6, 'threshold': 0}   0.4789473684210526\n",
            "{'r': 6, 'threshold': 0.025}   0.45789473684210524\n",
            "{'r': 6, 'threshold': 0.05}   0.48947368421052634\n",
            "{'r': 6, 'threshold': 0.075}   0.46842105263157896\n",
            "{'r': 6, 'threshold': 0.1}   0.4789473684210526\n",
            "{'r': 6, 'threshold': 0.125}   0.46842105263157896\n",
            "{'r': 6, 'threshold': 0.15}   0.531578947368421\n",
            "{'r': 6, 'threshold': 0.175}   0.4631578947368421\n",
            "{'r': 6, 'threshold': 0.2}   0.4631578947368421\n",
            "{'r': 6, 'threshold': 0.225}   0.4421052631578947\n",
            "{'r': 6, 'threshold': 0.25}   0.4473684210526316\n",
            "{'r': 7, 'threshold': 0}   0.4789473684210526\n",
            "{'r': 7, 'threshold': 0.025}   0.4473684210526316\n",
            "{'r': 7, 'threshold': 0.05}   0.4368421052631579\n",
            "{'r': 7, 'threshold': 0.075}   0.5263157894736842\n",
            "{'r': 7, 'threshold': 0.1}   0.4263157894736842\n",
            "{'r': 7, 'threshold': 0.125}   0.47368421052631576\n",
            "{'r': 7, 'threshold': 0.15}   0.4473684210526316\n",
            "{'r': 7, 'threshold': 0.175}   0.5052631578947369\n",
            "{'r': 7, 'threshold': 0.2}   0.48947368421052634\n",
            "{'r': 7, 'threshold': 0.225}   0.46842105263157896\n",
            "{'r': 7, 'threshold': 0.25}   0.5105263157894737\n",
            "{'r': 8, 'threshold': 0}   0.5157894736842106\n",
            "{'r': 8, 'threshold': 0.025}   0.48947368421052634\n",
            "{'r': 8, 'threshold': 0.05}   0.45263157894736844\n",
            "{'r': 8, 'threshold': 0.075}   0.4842105263157895\n",
            "{'r': 8, 'threshold': 0.1}   0.5157894736842106\n",
            "{'r': 8, 'threshold': 0.125}   0.4421052631578947\n",
            "{'r': 8, 'threshold': 0.15}   0.4789473684210526\n",
            "{'r': 8, 'threshold': 0.175}   0.5263157894736842\n",
            "{'r': 8, 'threshold': 0.2}   0.48947368421052634\n",
            "{'r': 8, 'threshold': 0.225}   0.4473684210526316\n",
            "{'r': 8, 'threshold': 0.25}   0.47368421052631576\n",
            "{'r': 9, 'threshold': 0}   0.4789473684210526\n",
            "{'r': 9, 'threshold': 0.025}   0.47368421052631576\n",
            "{'r': 9, 'threshold': 0.05}   0.5210526315789473\n",
            "{'r': 9, 'threshold': 0.075}   0.4789473684210526\n",
            "{'r': 9, 'threshold': 0.1}   0.4263157894736842\n",
            "{'r': 9, 'threshold': 0.125}   0.4473684210526316\n",
            "{'r': 9, 'threshold': 0.15}   0.47368421052631576\n",
            "{'r': 9, 'threshold': 0.175}   0.5052631578947369\n",
            "{'r': 9, 'threshold': 0.2}   0.42105263157894735\n",
            "{'r': 9, 'threshold': 0.225}   0.41578947368421054\n",
            "{'r': 9, 'threshold': 0.25}   0.4368421052631579\n",
            "{'r': 10, 'threshold': 0}   0.46842105263157896\n",
            "{'r': 10, 'threshold': 0.025}   0.4842105263157895\n",
            "{'r': 10, 'threshold': 0.05}   0.5\n",
            "{'r': 10, 'threshold': 0.075}   0.49473684210526314\n",
            "{'r': 10, 'threshold': 0.1}   0.47368421052631576\n",
            "{'r': 10, 'threshold': 0.125}   0.45263157894736844\n",
            "{'r': 10, 'threshold': 0.15}   0.4421052631578947\n",
            "{'r': 10, 'threshold': 0.175}   0.4789473684210526\n",
            "{'r': 10, 'threshold': 0.2}   0.4368421052631579\n",
            "{'r': 10, 'threshold': 0.225}   0.45263157894736844\n",
            "{'r': 10, 'threshold': 0.25}   0.39473684210526316\n",
            "{'threshold': 0.15, 'r': 6}\n",
            "0.531578947368421\n"
          ]
        }
      ]
    },
    {
      "cell_type": "markdown",
      "source": [
        "With TNCP algorithm was the highest validation accuracy achieved with threshold of 0.15 and r of 6."
      ],
      "metadata": {
        "id": "ADGC86zENJDX"
      }
    },
    {
      "cell_type": "markdown",
      "source": [
        "SiLRTC"
      ],
      "metadata": {
        "id": "33mjITjIUAZr"
      }
    },
    {
      "cell_type": "code",
      "source": [
        "param_grid = {\n",
        "    'threshold': [0, 0.025, 0.05, 0.075, 0.1, 0.125, 0.15, 0.175, 0.2, 0.225, 0.25],\n",
        "}\n",
        "param_comb = ParameterGrid(param_grid)\n",
        "\n",
        "val_scores = []\n",
        "for params in param_comb:\n",
        "    # Training on the training dataset and predicting the validation dataset.\n",
        "    score = tensor_completion_functions.predict_season(train_validation_files, 0.5, '4', 1e-10,\n",
        "                           best_iterations_SliRTC, pyten, **params)\n",
        "    val_scores.append(score)\n",
        "    print(params, ' ', score)\n",
        "\n",
        "best_params = param_comb[np.argmax(val_scores)]\n",
        "print(best_params)\n",
        "print(np.max(val_scores))"
      ],
      "metadata": {
        "colab": {
          "base_uri": "https://localhost:8080/"
        },
        "id": "eSyj4FYpT146",
        "outputId": "7cdb6c77-23b4-4871-d02f-29617ab5e93a"
      },
      "execution_count": null,
      "outputs": [
        {
          "output_type": "stream",
          "name": "stdout",
          "text": [
            "{'threshold': 0}   0.47368421052631576\n",
            "{'threshold': 0.025}   0.49473684210526314\n",
            "{'threshold': 0.05}   0.4263157894736842\n",
            "{'threshold': 0.075}   0.43157894736842106\n",
            "{'threshold': 0.1}   0.4052631578947368\n",
            "{'threshold': 0.125}   0.41578947368421054\n",
            "{'threshold': 0.15}   0.3684210526315789\n",
            "{'threshold': 0.175}   0.3368421052631579\n",
            "{'threshold': 0.2}   0.3368421052631579\n",
            "{'threshold': 0.225}   0.3263157894736842\n",
            "{'threshold': 0.25}   0.32105263157894737\n",
            "{'threshold': 0.025}\n",
            "0.49473684210526314\n"
          ]
        }
      ]
    },
    {
      "cell_type": "markdown",
      "source": [
        "With SilRTC algorithm was the highest validation accuracy achieved with threshold of 0.025."
      ],
      "metadata": {
        "id": "Y8qp-1WHNRB_"
      }
    },
    {
      "cell_type": "markdown",
      "source": [
        "The best result overall had TNCP algorithm with threshold 0.15 and r 6, so I have chosen this algorithm. For other leagues, I have applied this algorithm as well, but searched for the best hyperparameters again."
      ],
      "metadata": {
        "id": "bZOJJBM3MzUD"
      }
    },
    {
      "cell_type": "code",
      "source": [
        "best_function = '3'\n",
        "best_threshold = 0.15\n",
        "best_r = 6"
      ],
      "metadata": {
        "id": "LNaKkLJeVxQl"
      },
      "execution_count": null,
      "outputs": []
    },
    {
      "cell_type": "markdown",
      "source": [
        "I used second half of season 2018/19 as testing dataset. For evaluation on the testing dataset I divided the testing data into rounds approximately. The model is trained on the the training dataset, it is evaluated on one round of the testing dataset and this round is added to the training dataset."
      ],
      "metadata": {
        "id": "h4RaW9V9NGq6"
      }
    },
    {
      "cell_type": "code",
      "source": [
        "testing_files = ['EPL_94.csv', 'EPL_95.csv', 'EPL_96.csv', 'EPL_97.csv',\n",
        "                 'EPL_98.csv', 'EPL_99.csv', 'EPL_00.csv', 'EPL_01.csv',\n",
        "                 'EPL_02.csv', 'EPL_03.csv', 'EPL_04.csv', 'EPL_05.csv',\n",
        "                 'EPL_06.csv', 'EPL_07.csv', 'EPL_08.csv', 'EPL_09.csv',\n",
        "                 'EPL_10.csv', 'EPL_11.csv', 'EPL_12.csv', 'EPL_13.csv',\n",
        "                 'EPL_14.csv', 'EPL_15.csv', 'EPL_16.csv', 'EPL_17.csv',\n",
        "                 'EPL_18.csv', 'EPL_19.csv']"
      ],
      "metadata": {
        "id": "P_sXwhspkYab"
      },
      "execution_count": null,
      "outputs": []
    },
    {
      "cell_type": "code",
      "source": [
        "res, cm = tensor_completion_functions.test_season(testing_files, 0.5, best_function, 1e-10, best_iterations_TNCP, best_threshold, pyten, r=best_r, return_cm=True)\n",
        "res"
      ],
      "metadata": {
        "colab": {
          "base_uri": "https://localhost:8080/"
        },
        "id": "M0O7pWqxmvn0",
        "outputId": "16d7143e-f6c4-42a0-a04c-bc41ccdd3d78"
      },
      "execution_count": null,
      "outputs": [
        {
          "output_type": "stream",
          "name": "stdout",
          "text": [
            "0.6153846153846154\n",
            "0.5\n",
            "0.6363636363636364\n",
            "0.5833333333333334\n",
            "0.6363636363636364\n",
            "0.5833333333333334\n",
            "0.6875\n",
            "0.5294117647058824\n",
            "0.5333333333333333\n",
            "0.6666666666666666\n",
            "0.45454545454545453\n",
            "0.45454545454545453\n",
            "0.5833333333333334\n",
            "0.6666666666666666\n",
            "0.2727272727272727\n"
          ]
        },
        {
          "output_type": "execute_result",
          "data": {
            "text/plain": [
              "0.5631578947368421"
            ]
          },
          "metadata": {},
          "execution_count": 56
        }
      ]
    },
    {
      "cell_type": "markdown",
      "source": [
        "The testing accuracy is 56.32%."
      ],
      "metadata": {
        "id": "xhcFWcxwN-Az"
      }
    },
    {
      "cell_type": "markdown",
      "source": [
        "I ploted the confusion matrix."
      ],
      "metadata": {
        "id": "EEv1qJGOOC4s"
      }
    },
    {
      "cell_type": "code",
      "source": [
        "tensor_completion_functions.plot_cm(cm)"
      ],
      "metadata": {
        "colab": {
          "base_uri": "https://localhost:8080/",
          "height": 487
        },
        "id": "aMgbcFLCwQE6",
        "outputId": "030f150a-09c6-425d-8c5d-1af07a301bc4"
      },
      "execution_count": null,
      "outputs": [
        {
          "output_type": "display_data",
          "data": {
            "text/plain": [
              "<Figure size 500x500 with 2 Axes>"
            ],
            "image/png": "[encoded data removed]"
          },
          "metadata": {}
        }
      ]
    },
    {
      "cell_type": "markdown",
      "source": [
        "I extracted the feature vectors from the last season of the fullfilled tensor. I experimented, whether it is better to extract the vectors before or after apllying the threshold. I saved the feature matrices  into csv files."
      ],
      "metadata": {
        "id": "dmH33h6EOQVU"
      }
    },
    {
      "cell_type": "code",
      "source": [
        "H, A, teams = tensor_completion_functions.get_svd(train_validation_files, 0.5, best_function, 1e-10, best_iterations_TNCP, best_threshold, pyten, r=best_r)"
      ],
      "metadata": {
        "id": "NzAyHtiUBFio"
      },
      "execution_count": null,
      "outputs": []
    },
    {
      "cell_type": "code",
      "source": [
        "tensor_completion_functions.save_matrices(H, A, teams, \"H_EPL.csv\", \"A_EPL.csv\")"
      ],
      "metadata": {
        "id": "yY85G4Cyd0TJ"
      },
      "execution_count": null,
      "outputs": []
    },
    {
      "cell_type": "code",
      "source": [
        "H_before_threshold, A_before_threshold, teams = tensor_completion_functions.get_svd(train_validation_files, 0.5, best_function, 1e-10, best_iterations_TNCP, best_threshold, pyten, r=best_r,\n",
        "                      before_threshold=True)"
      ],
      "metadata": {
        "id": "mKU3Tf-6RjZq"
      },
      "execution_count": null,
      "outputs": []
    },
    {
      "cell_type": "code",
      "source": [
        "tensor_completion_functions.save_matrices(H_before_threshold, A_before_threshold, teams, \"H_EPL_before_threshold.csv\", \"A_EPL_before_threshold.csv\")"
      ],
      "metadata": {
        "id": "tho8fd56eA7L"
      },
      "execution_count": null,
      "outputs": []
    }
  ]
}