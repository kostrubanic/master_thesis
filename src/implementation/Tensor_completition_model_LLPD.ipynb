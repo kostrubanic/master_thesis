{
  "cells": [
    {
      "cell_type": "markdown",
      "source": [
        "# Implementation of the tensor completion algorithm with LLPD"
      ],
      "metadata": {
        "id": "VnHRsCChSAqB"
      }
    },
    {
      "cell_type": "markdown",
      "source": [
        "Necessary files: testing_functions.py, tensor_completion_functions.py, pyten.zip, LLPD_94.csv, LLPD_95.csv, ..., LLPD_19.csv"
      ],
      "metadata": {
        "id": "GGlaszGdmeQq"
      }
    },
    {
      "cell_type": "code",
      "execution_count": null,
      "metadata": {
        "id": "E1lOq7JwZ2Il"
      },
      "outputs": [],
      "source": [
        "import testing_functions\n",
        "import tensor_completion_functions\n",
        "import pandas as pd\n",
        "import numpy as np\n",
        "from sklearn.model_selection import ParameterGrid\n",
        "import matplotlib.pyplot as plt\n",
        "from sklearn.utils.extmath import randomized_svd\n",
        "import seaborn as sns"
      ]
    },
    {
      "cell_type": "markdown",
      "source": [
        "I used the implementation of the tensor completion algorithms from the package Pyten: https://github.com/datamllab/pyten."
      ],
      "metadata": {
        "id": "C-1DNrLrSNG9"
      }
    },
    {
      "cell_type": "markdown",
      "source": [
        "Importing Pyten."
      ],
      "metadata": {
        "id": "E5W_Rbx2SQ-v"
      }
    },
    {
      "cell_type": "code",
      "execution_count": null,
      "metadata": {
        "colab": {
          "base_uri": "https://localhost:8080/"
        },
        "id": "KLqJBVYzbrZQ",
        "outputId": "d40bb1d4-4342-4f1f-a98e-8451acd80ae2"
      },
      "outputs": [
        {
          "output_type": "stream",
          "name": "stdout",
          "text": [
            "Archive:  /content/pyten.zip\n",
            "   creating: /content/pyten/pyten/\n",
            "   creating: /content/pyten/pyten/content/\n",
            "   creating: /content/pyten/pyten/content/pyten/\n",
            "   creating: /content/pyten/pyten/content/pyten/pyten/\n",
            "  inflating: /content/pyten/pyten/content/pyten/pyten/.DS_Store  \n",
            "   creating: /content/pyten/pyten/content/pyten/pyten/.git/\n",
            "   creating: /content/pyten/pyten/content/pyten/pyten/.git/branches/\n",
            "  inflating: /content/pyten/pyten/content/pyten/pyten/.git/config  \n",
            "  inflating: /content/pyten/pyten/content/pyten/pyten/.git/description  \n",
            " extracting: /content/pyten/pyten/content/pyten/pyten/.git/HEAD  \n",
            "   creating: /content/pyten/pyten/content/pyten/pyten/.git/hooks/\n",
            "  inflating: /content/pyten/pyten/content/pyten/pyten/.git/hooks/applypatch-msg.sample  \n",
            "  inflating: /content/pyten/pyten/content/pyten/pyten/.git/hooks/commit-msg.sample  \n",
            "  inflating: /content/pyten/pyten/content/pyten/pyten/.git/hooks/fsmonitor-watchman.sample  \n",
            "  inflating: /content/pyten/pyten/content/pyten/pyten/.git/hooks/post-update.sample  \n",
            "  inflating: /content/pyten/pyten/content/pyten/pyten/.git/hooks/pre-applypatch.sample  \n",
            "  inflating: /content/pyten/pyten/content/pyten/pyten/.git/hooks/pre-commit.sample  \n",
            "  inflating: /content/pyten/pyten/content/pyten/pyten/.git/hooks/pre-push.sample  \n",
            "  inflating: /content/pyten/pyten/content/pyten/pyten/.git/hooks/pre-rebase.sample  \n",
            "  inflating: /content/pyten/pyten/content/pyten/pyten/.git/hooks/pre-receive.sample  \n",
            "  inflating: /content/pyten/pyten/content/pyten/pyten/.git/hooks/prepare-commit-msg.sample  \n",
            "  inflating: /content/pyten/pyten/content/pyten/pyten/.git/hooks/update.sample  \n",
            "  inflating: /content/pyten/pyten/content/pyten/pyten/.git/index  \n",
            "   creating: /content/pyten/pyten/content/pyten/pyten/.git/info/\n",
            "  inflating: /content/pyten/pyten/content/pyten/pyten/.git/info/exclude  \n",
            "   creating: /content/pyten/pyten/content/pyten/pyten/.git/logs/\n",
            "  inflating: /content/pyten/pyten/content/pyten/pyten/.git/logs/HEAD  \n",
            "   creating: /content/pyten/pyten/content/pyten/pyten/.git/logs/refs/\n",
            "   creating: /content/pyten/pyten/content/pyten/pyten/.git/logs/refs/heads/\n",
            "  inflating: /content/pyten/pyten/content/pyten/pyten/.git/logs/refs/heads/master  \n",
            "   creating: /content/pyten/pyten/content/pyten/pyten/.git/logs/refs/remotes/\n",
            "   creating: /content/pyten/pyten/content/pyten/pyten/.git/logs/refs/remotes/origin/\n",
            "  inflating: /content/pyten/pyten/content/pyten/pyten/.git/logs/refs/remotes/origin/HEAD  \n",
            "   creating: /content/pyten/pyten/content/pyten/pyten/.git/objects/\n",
            "   creating: /content/pyten/pyten/content/pyten/pyten/.git/objects/info/\n",
            "   creating: /content/pyten/pyten/content/pyten/pyten/.git/objects/pack/\n",
            "  inflating: /content/pyten/pyten/content/pyten/pyten/.git/objects/pack/pack-6a38feef72311b5414e9ab356a5ca7026db546c0.idx  \n",
            "  inflating: /content/pyten/pyten/content/pyten/pyten/.git/objects/pack/pack-6a38feef72311b5414e9ab356a5ca7026db546c0.pack  \n",
            "  inflating: /content/pyten/pyten/content/pyten/pyten/.git/packed-refs  \n",
            "   creating: /content/pyten/pyten/content/pyten/pyten/.git/refs/\n",
            "   creating: /content/pyten/pyten/content/pyten/pyten/.git/refs/heads/\n",
            " extracting: /content/pyten/pyten/content/pyten/pyten/.git/refs/heads/master  \n",
            "   creating: /content/pyten/pyten/content/pyten/pyten/.git/refs/remotes/\n",
            "   creating: /content/pyten/pyten/content/pyten/pyten/.git/refs/remotes/origin/\n",
            " extracting: /content/pyten/pyten/content/pyten/pyten/.git/refs/remotes/origin/HEAD  \n",
            "   creating: /content/pyten/pyten/content/pyten/pyten/.git/refs/tags/\n",
            "   creating: /content/pyten/pyten/content/pyten/pyten/.idea/\n",
            "  inflating: /content/pyten/pyten/content/pyten/pyten/.idea/misc.xml  \n",
            "  inflating: /content/pyten/pyten/content/pyten/pyten/.idea/modules.xml  \n",
            "  inflating: /content/pyten/pyten/content/pyten/pyten/.idea/pyten.iml  \n",
            "  inflating: /content/pyten/pyten/content/pyten/pyten/.idea/workspace.xml  \n",
            "   creating: /content/pyten/pyten/content/pyten/pyten/docs/\n",
            "  inflating: /content/pyten/pyten/content/pyten/pyten/docs/pyten-package-function-document.pdf  \n",
            "  inflating: /content/pyten/pyten/content/pyten/pyten/docs/pyten-package-user-manual.pdf  \n",
            "  inflating: /content/pyten/pyten/content/pyten/pyten/LICENSE  \n",
            "   creating: /content/pyten/pyten/content/pyten/pyten/pyten/\n",
            "  inflating: /content/pyten/pyten/content/pyten/pyten/PyTenDomo.ipynb  \n",
            "  inflating: /content/pyten/pyten/content/pyten/pyten/pyten/.DS_Store  \n",
            "   creating: /content/pyten/pyten/content/pyten/pyten/pyten/.idea/\n",
            " extracting: /content/pyten/pyten/content/pyten/pyten/pyten/.idea/.name  \n",
            "   creating: /content/pyten/pyten/content/pyten/pyten/pyten/.idea/dictionaries/\n",
            "  inflating: /content/pyten/pyten/content/pyten/pyten/pyten/.idea/dictionaries/Song.xml  \n",
            "  inflating: /content/pyten/pyten/content/pyten/pyten/pyten/.idea/misc.xml  \n",
            "  inflating: /content/pyten/pyten/content/pyten/pyten/pyten/.idea/modules.xml  \n",
            "  inflating: /content/pyten/pyten/content/pyten/pyten/pyten/.idea/PyTen.iml  \n",
            "  inflating: /content/pyten/pyten/content/pyten/pyten/pyten/.idea/vcs.xml  \n",
            "  inflating: /content/pyten/pyten/content/pyten/pyten/pyten/.idea/workspace.xml  \n",
            "   creating: /content/pyten/pyten/content/pyten/pyten/pyten/data/\n",
            "  inflating: /content/pyten/pyten/content/pyten/pyten/pyten/data/tensor_10x10x10_101.txt  \n",
            "  inflating: /content/pyten/pyten/content/pyten/pyten/pyten/data/user_expert_topic_500X500X20  \n",
            "   creating: /content/pyten/pyten/content/pyten/pyten/pyten/method/\n",
            "  inflating: /content/pyten/pyten/content/pyten/pyten/pyten/method/.DS_Store  \n",
            "  inflating: /content/pyten/pyten/content/pyten/pyten/pyten/method/AirCP.py  \n",
            "  inflating: /content/pyten/pyten/content/pyten/pyten/pyten/method/cmtf.py  \n",
            "  inflating: /content/pyten/pyten/content/pyten/pyten/pyten/method/cp_als.py  \n",
            "  inflating: /content/pyten/pyten/content/pyten/pyten/pyten/method/dedicom.py  \n",
            "  inflating: /content/pyten/pyten/content/pyten/pyten/pyten/method/DistTensor.py  \n",
            "  inflating: /content/pyten/pyten/content/pyten/pyten/pyten/method/DistTensorADMM.py  \n",
            "  inflating: /content/pyten/pyten/content/pyten/pyten/pyten/method/DistTensorCompletionADMM.py  \n",
            "  inflating: /content/pyten/pyten/content/pyten/pyten/pyten/method/falrtc.py  \n",
            "  inflating: /content/pyten/pyten/content/pyten/pyten/pyten/method/halrtc.py  \n",
            "  inflating: /content/pyten/pyten/content/pyten/pyten/pyten/method/mast.py  \n",
            "  inflating: /content/pyten/pyten/content/pyten/pyten/pyten/method/OLSGD.py  \n",
            "  inflating: /content/pyten/pyten/content/pyten/pyten/pyten/method/onlineCP.py  \n",
            "  inflating: /content/pyten/pyten/content/pyten/pyten/pyten/method/parafac2.py  \n",
            "  inflating: /content/pyten/pyten/content/pyten/pyten/pyten/method/silrtc.py  \n",
            "  inflating: /content/pyten/pyten/content/pyten/pyten/pyten/method/TNCP.py  \n",
            "  inflating: /content/pyten/pyten/content/pyten/pyten/pyten/method/tucker_als.py  \n",
            "  inflating: /content/pyten/pyten/content/pyten/pyten/pyten/method/__init__.py  \n",
            "   creating: /content/pyten/pyten/content/pyten/pyten/pyten/tenclass/\n",
            "  inflating: /content/pyten/pyten/content/pyten/pyten/pyten/tenclass/.DS_Store  \n",
            "  inflating: /content/pyten/pyten/content/pyten/pyten/pyten/tenclass/ktensor.py  \n",
            "  inflating: /content/pyten/pyten/content/pyten/pyten/pyten/tenclass/sptenmat.py  \n",
            "  inflating: /content/pyten/pyten/content/pyten/pyten/pyten/tenclass/sptensor.py  \n",
            "  inflating: /content/pyten/pyten/content/pyten/pyten/pyten/tenclass/tenmat.py  \n",
            "  inflating: /content/pyten/pyten/content/pyten/pyten/pyten/tenclass/tensor.py  \n",
            "  inflating: /content/pyten/pyten/content/pyten/pyten/pyten/tenclass/ttensor.py  \n",
            "  inflating: /content/pyten/pyten/content/pyten/pyten/pyten/tenclass/__init__.py  \n",
            "   creating: /content/pyten/pyten/content/pyten/pyten/pyten/tools/\n",
            "  inflating: /content/pyten/pyten/content/pyten/pyten/pyten/tools/.DS_Store  \n",
            "  inflating: /content/pyten/pyten/content/pyten/pyten/pyten/tools/create.py  \n",
            "  inflating: /content/pyten/pyten/content/pyten/pyten/pyten/tools/khatrirao.py  \n",
            "  inflating: /content/pyten/pyten/content/pyten/pyten/pyten/tools/mttkrp.py  \n",
            "  inflating: /content/pyten/pyten/content/pyten/pyten/pyten/tools/tendiag.py  \n",
            "  inflating: /content/pyten/pyten/content/pyten/pyten/pyten/tools/tenerror.py  \n",
            "  inflating: /content/pyten/pyten/content/pyten/pyten/pyten/tools/tools.py  \n",
            "  inflating: /content/pyten/pyten/content/pyten/pyten/pyten/tools/utils.py  \n",
            "  inflating: /content/pyten/pyten/content/pyten/pyten/pyten/tools/utils_tensor.py  \n",
            "  inflating: /content/pyten/pyten/content/pyten/pyten/pyten/tools/__init__.py  \n",
            "   creating: /content/pyten/pyten/content/pyten/pyten/pyten/UI/\n",
            "  inflating: /content/pyten/pyten/content/pyten/pyten/pyten/UI/.DS_Store  \n",
            "  inflating: /content/pyten/pyten/content/pyten/pyten/pyten/UI/auxiliary.py  \n",
            "  inflating: /content/pyten/pyten/content/pyten/pyten/pyten/UI/basic.py  \n",
            "  inflating: /content/pyten/pyten/content/pyten/pyten/pyten/UI/dynamic.py  \n",
            "  inflating: /content/pyten/pyten/content/pyten/pyten/pyten/UI/helios.py  \n",
            "  inflating: /content/pyten/pyten/content/pyten/pyten/pyten/UI/scalable.py  \n",
            "  inflating: /content/pyten/pyten/content/pyten/pyten/pyten/UI/tensorUI.py  \n",
            "  inflating: /content/pyten/pyten/content/pyten/pyten/pyten/UI/__init__.py  \n",
            " extracting: /content/pyten/pyten/content/pyten/pyten/pyten/_version.py  \n",
            "  inflating: /content/pyten/pyten/content/pyten/pyten/pyten/__init__.py  \n",
            "  inflating: /content/pyten/pyten/content/pyten/pyten/README.md  \n",
            "  inflating: /content/pyten/pyten/content/pyten/pyten/setup.py  \n",
            "   creating: /content/pyten/pyten/content/pyten/pyten/test/\n",
            "  inflating: /content/pyten/pyten/content/pyten/pyten/test/.DS_Store  \n",
            "   creating: /content/pyten/pyten/content/pyten/pyten/test/.ipynb_checkpoints/\n",
            "  inflating: /content/pyten/pyten/content/pyten/pyten/test/.ipynb_checkpoints/PyTenDomo-checkpoint.ipynb  \n",
            " extracting: /content/pyten/pyten/content/pyten/pyten/test/aux_1.csv  \n",
            " extracting: /content/pyten/pyten/content/pyten/pyten/test/aux_2.csv  \n",
            "  inflating: /content/pyten/pyten/content/pyten/pyten/test/aux_3.csv  \n",
            "  inflating: /content/pyten/pyten/content/pyten/pyten/test/aux_CM.csv  \n",
            "  inflating: /content/pyten/pyten/content/pyten/pyten/test/complete_syntensor.csv  \n",
            "  inflating: /content/pyten/pyten/content/pyten/pyten/test/dedicom.csv  \n",
            "  inflating: /content/pyten/pyten/content/pyten/pyten/test/dedicom_Decomposite.csv  \n",
            "  inflating: /content/pyten/pyten/content/pyten/pyten/test/dedicom_Recover.csv  \n",
            "  inflating: /content/pyten/pyten/content/pyten/pyten/test/demo.py  \n",
            "  inflating: /content/pyten/pyten/content/pyten/pyten/test/mast.npy  \n",
            "  inflating: /content/pyten/pyten/content/pyten/pyten/test/mast1.csv  \n",
            "  inflating: /content/pyten/pyten/content/pyten/pyten/test/mast1_Recover.csv  \n",
            "  inflating: /content/pyten/pyten/content/pyten/pyten/test/mast2.csv  \n",
            "  inflating: /content/pyten/pyten/content/pyten/pyten/test/mast2_Recover.csv  \n",
            "  inflating: /content/pyten/pyten/content/pyten/pyten/test/syntensor.csv  \n",
            "  inflating: /content/pyten/pyten/content/pyten/pyten/test/syntensor.txt  \n",
            "  inflating: /content/pyten/pyten/content/pyten/pyten/test/syntensor1.csv  \n",
            "  inflating: /content/pyten/pyten/content/pyten/pyten/test/syntensor1.txt  \n",
            "  inflating: /content/pyten/pyten/content/pyten/pyten/test/syntensor_Decomposite.csv  \n",
            "  inflating: /content/pyten/pyten/content/pyten/pyten/test/tensor_1000X1000X1000_100000_10.txt  \n",
            "  inflating: /content/pyten/pyten/content/pyten/pyten/test/tensor_10x10x10_101.txt  \n",
            " extracting: /content/pyten/pyten/content/pyten/pyten/test/testImg.png  \n",
            "  inflating: /content/pyten/pyten/content/pyten/pyten/test/test_parafac2_1.csv  \n",
            "  inflating: /content/pyten/pyten/content/pyten/pyten/test/test_parafac2_2.csv  \n",
            "  inflating: /content/pyten/pyten/content/pyten/pyten/test/test_parafac2_3.csv  \n",
            "  inflating: /content/pyten/pyten/content/pyten/pyten/test/__init__.py  \n"
          ]
        }
      ],
      "source": [
        "!unzip /content/pyten.zip -d /content/pyten"
      ]
    },
    {
      "cell_type": "code",
      "execution_count": null,
      "metadata": {
        "colab": {
          "base_uri": "https://localhost:8080/"
        },
        "id": "-E8-BNRhb43_",
        "outputId": "4cb30abe-57c2-46f3-a812-8e4caab44ba8"
      },
      "outputs": [
        {
          "output_type": "stream",
          "name": "stdout",
          "text": [
            "Looking in indexes: https://pypi.org/simple, https://us-python.pkg.dev/colab-wheels/public/simple/\n",
            "Collecting pyspark\n",
            "  Downloading pyspark-3.4.0.tar.gz (310.8 MB)\n",
            "\u001b[2K     \u001b[90m━━━━━━━━━━━━━━━━━━━━━━━━━━━━━━━━━━━━━━━\u001b[0m \u001b[32m310.8/310.8 MB\u001b[0m \u001b[31m3.4 MB/s\u001b[0m eta \u001b[36m0:00:00\u001b[0m\n",
            "\u001b[?25h  Preparing metadata (setup.py) ... \u001b[?25l\u001b[?25hdone\n",
            "Requirement already satisfied: py4j==0.10.9.7 in /usr/local/lib/python3.9/dist-packages (from pyspark) (0.10.9.7)\n",
            "Building wheels for collected packages: pyspark\n",
            "  Building wheel for pyspark (setup.py) ... \u001b[?25l\u001b[?25hdone\n",
            "  Created wheel for pyspark: filename=pyspark-3.4.0-py2.py3-none-any.whl size=311317145 sha256=e0d92d5e99f74a6ab974f1b022704f8674f04b175a8004be66bc9591e11958d0\n",
            "  Stored in directory: /root/.cache/pip/wheels/9f/34/a4/159aa12d0a510d5ff7c8f0220abbea42e5d81ecf588c4fd884\n",
            "Successfully built pyspark\n",
            "Installing collected packages: pyspark\n",
            "Successfully installed pyspark-3.4.0\n"
          ]
        }
      ],
      "source": [
        "!pip install pyspark"
      ]
    },
    {
      "cell_type": "code",
      "execution_count": null,
      "metadata": {
        "colab": {
          "base_uri": "https://localhost:8080/"
        },
        "id": "ot0uayL4b6z5",
        "outputId": "1fc05b2b-fa05-4590-ec70-1dd35a29c8cb"
      },
      "outputs": [
        {
          "output_type": "stream",
          "name": "stdout",
          "text": [
            "Looking in indexes: https://pypi.org/simple, https://us-python.pkg.dev/colab-wheels/public/simple/\n",
            "Processing /content/pyten/pyten/content/pyten/pyten\n",
            "  Preparing metadata (setup.py) ... \u001b[?25l\u001b[?25hdone\n",
            "Building wheels for collected packages: pyten\n",
            "  Building wheel for pyten (setup.py) ... \u001b[?25l\u001b[?25hdone\n",
            "  Created wheel for pyten: filename=pyten-1.0.0-py3-none-any.whl size=82191 sha256=fba80192b0e158d09450fce115c78ec9f2083a5c82e0169078d9c95d6ae1a612\n",
            "  Stored in directory: /tmp/pip-ephem-wheel-cache-ll6zif58/wheels/30/44/e3/7ceb1a8149efc872b717846fdef5c8012f25ce729e15498d11\n",
            "Successfully built pyten\n",
            "\u001b[33mWARNING: Error parsing requirements for pandas: [Errno 2] No such file or directory: '/usr/local/lib/python3.9/dist-packages/pandas-1.5.3.dist-info/METADATA'\u001b[0m\u001b[33m\n",
            "\u001b[0m\u001b[33mWARNING: Error parsing requirements for numpy: [Errno 2] No such file or directory: '/usr/local/lib/python3.9/dist-packages/numpy-1.22.4.dist-info/METADATA'\u001b[0m\u001b[33m\n",
            "\u001b[0mInstalling collected packages: pyten\n",
            "Successfully installed pyten-1.0.0\n"
          ]
        }
      ],
      "source": [
        "!cd pyten/pyten/content/pyten/pyten; pip install .\n",
        "import pyten"
      ]
    },
    {
      "cell_type": "markdown",
      "source": [
        "I used seasons from from 1993/94 to first half of 2017/18 season as training dataset and second half of 2017/18 season for validation. The algorithm was tested on the second half of the 2018/19 season.\n"
      ],
      "metadata": {
        "id": "rR4k1FVlSWEj"
      }
    },
    {
      "cell_type": "code",
      "execution_count": null,
      "metadata": {
        "id": "hPymh2WEcYYI"
      },
      "outputs": [],
      "source": [
        "train_validation_files = ['LLPD_94.csv', 'LLPD_95.csv', 'LLPD_96.csv', 'LLPD_97.csv',\n",
        "                 'LLPD_98.csv', 'LLPD_99.csv', 'LLPD_00.csv', 'LLPD_01.csv',\n",
        "                 'LLPD_02.csv', 'LLPD_03.csv', 'LLPD_04.csv', 'LLPD_05.csv',\n",
        "                 'LLPD_06.csv', 'LLPD_07.csv', 'LLPD_08.csv', 'LLPD_09.csv',\n",
        "                 'LLPD_10.csv', 'LLPD_11.csv', 'LLPD_12.csv', 'LLPD_13.csv',\n",
        "                 'LLPD_14.csv', 'LLPD_15.csv', 'LLPD_16.csv', 'LLPD_17.csv',\n",
        "                 'LLPD_18.csv']"
      ]
    },
    {
      "cell_type": "markdown",
      "source": [
        "TNCP was chosen as the tensor completion algorithm with the maximum number of iterations of 20. This was set according to the experiments done on the EPL dataset."
      ],
      "metadata": {
        "id": "80dHU4DoSbxi"
      }
    },
    {
      "cell_type": "code",
      "execution_count": null,
      "metadata": {
        "id": "lhH8iWQhc_Mz"
      },
      "outputs": [],
      "source": [
        "best_iterations_TNCP = 20"
      ]
    },
    {
      "cell_type": "markdown",
      "source": [
        "I searched for best hyperparameters threshold and r. For each hyperparameters combination is the model trained on the training data and evaluated on the second half of the 2017/18 season, which is the validation dataset. The hyperparameter combination with the best validation accuracy is chosen."
      ],
      "metadata": {
        "id": "g3SSUWJ_St3x"
      }
    },
    {
      "cell_type": "code",
      "execution_count": null,
      "metadata": {
        "colab": {
          "base_uri": "https://localhost:8080/"
        },
        "id": "p2jvUE37dBTh",
        "outputId": "af29a59f-8132-4796-ed4f-f791f50d8b17"
      },
      "outputs": [
        {
          "name": "stdout",
          "output_type": "stream",
          "text": [
            "{'r': 2, 'threshold': 0}   0.5263157894736842\n",
            "{'r': 2, 'threshold': 0.025}   0.531578947368421\n",
            "{'r': 2, 'threshold': 0.05}   0.5105263157894737\n",
            "{'r': 2, 'threshold': 0.075}   0.5263157894736842\n",
            "{'r': 2, 'threshold': 0.1}   0.4842105263157895\n",
            "{'r': 2, 'threshold': 0.125}   0.43157894736842106\n",
            "{'r': 2, 'threshold': 0.15}   0.45789473684210524\n",
            "{'r': 2, 'threshold': 0.175}   0.4473684210526316\n",
            "{'r': 2, 'threshold': 0.2}   0.4263157894736842\n",
            "{'r': 2, 'threshold': 0.225}   0.4052631578947368\n",
            "{'r': 2, 'threshold': 0.25}   0.3684210526315789\n",
            "{'r': 3, 'threshold': 0}   0.5263157894736842\n",
            "{'r': 3, 'threshold': 0.025}   0.5157894736842106\n",
            "{'r': 3, 'threshold': 0.05}   0.5\n",
            "{'r': 3, 'threshold': 0.075}   0.4789473684210526\n",
            "{'r': 3, 'threshold': 0.1}   0.4789473684210526\n",
            "{'r': 3, 'threshold': 0.125}   0.4789473684210526\n",
            "{'r': 3, 'threshold': 0.15}   0.47368421052631576\n",
            "{'r': 3, 'threshold': 0.175}   0.4421052631578947\n",
            "{'r': 3, 'threshold': 0.2}   0.41578947368421054\n",
            "{'r': 3, 'threshold': 0.225}   0.4631578947368421\n",
            "{'r': 3, 'threshold': 0.25}   0.3894736842105263\n",
            "{'r': 4, 'threshold': 0}   0.48947368421052634\n",
            "{'r': 4, 'threshold': 0.025}   0.48947368421052634\n",
            "{'r': 4, 'threshold': 0.05}   0.5052631578947369\n",
            "{'r': 4, 'threshold': 0.075}   0.4842105263157895\n",
            "{'r': 4, 'threshold': 0.1}   0.48947368421052634\n",
            "{'r': 4, 'threshold': 0.125}   0.4631578947368421\n",
            "{'r': 4, 'threshold': 0.15}   0.4473684210526316\n",
            "{'r': 4, 'threshold': 0.175}   0.43157894736842106\n",
            "{'r': 4, 'threshold': 0.2}   0.4368421052631579\n",
            "{'r': 4, 'threshold': 0.225}   0.4105263157894737\n",
            "{'r': 4, 'threshold': 0.25}   0.37894736842105264\n",
            "{'r': 5, 'threshold': 0}   0.5210526315789473\n",
            "{'r': 5, 'threshold': 0.025}   0.5157894736842106\n",
            "{'r': 5, 'threshold': 0.05}   0.48947368421052634\n",
            "{'r': 5, 'threshold': 0.075}   0.49473684210526314\n",
            "{'r': 5, 'threshold': 0.1}   0.5052631578947369\n",
            "{'r': 5, 'threshold': 0.125}   0.46842105263157896\n",
            "{'r': 5, 'threshold': 0.15}   0.46842105263157896\n",
            "{'r': 5, 'threshold': 0.175}   0.41578947368421054\n",
            "{'r': 5, 'threshold': 0.2}   0.45263157894736844\n",
            "{'r': 5, 'threshold': 0.225}   0.4105263157894737\n",
            "{'r': 5, 'threshold': 0.25}   0.4263157894736842\n",
            "{'r': 6, 'threshold': 0}   0.46842105263157896\n",
            "{'r': 6, 'threshold': 0.025}   0.49473684210526314\n",
            "{'r': 6, 'threshold': 0.05}   0.5210526315789473\n",
            "{'r': 6, 'threshold': 0.075}   0.4842105263157895\n",
            "{'r': 6, 'threshold': 0.1}   0.5\n",
            "{'r': 6, 'threshold': 0.125}   0.4842105263157895\n",
            "{'r': 6, 'threshold': 0.15}   0.46842105263157896\n",
            "{'r': 6, 'threshold': 0.175}   0.43157894736842106\n",
            "{'r': 6, 'threshold': 0.2}   0.4368421052631579\n",
            "{'r': 6, 'threshold': 0.225}   0.4473684210526316\n",
            "{'r': 6, 'threshold': 0.25}   0.43157894736842106\n",
            "{'r': 7, 'threshold': 0}   0.5105263157894737\n",
            "{'r': 7, 'threshold': 0.025}   0.4631578947368421\n",
            "{'r': 7, 'threshold': 0.05}   0.5157894736842106\n",
            "{'r': 7, 'threshold': 0.075}   0.5052631578947369\n",
            "{'r': 7, 'threshold': 0.1}   0.4631578947368421\n",
            "{'r': 7, 'threshold': 0.125}   0.4631578947368421\n",
            "{'r': 7, 'threshold': 0.15}   0.47368421052631576\n",
            "{'r': 7, 'threshold': 0.175}   0.41578947368421054\n",
            "{'r': 7, 'threshold': 0.2}   0.4473684210526316\n",
            "{'r': 7, 'threshold': 0.225}   0.4368421052631579\n",
            "{'r': 7, 'threshold': 0.25}   0.47368421052631576\n",
            "{'r': 8, 'threshold': 0}   0.5157894736842106\n",
            "{'r': 8, 'threshold': 0.025}   0.47368421052631576\n",
            "{'r': 8, 'threshold': 0.05}   0.49473684210526314\n",
            "{'r': 8, 'threshold': 0.075}   0.5210526315789473\n",
            "{'r': 8, 'threshold': 0.1}   0.4842105263157895\n",
            "{'r': 8, 'threshold': 0.125}   0.47368421052631576\n",
            "{'r': 8, 'threshold': 0.15}   0.45789473684210524\n",
            "{'r': 8, 'threshold': 0.175}   0.4368421052631579\n",
            "{'r': 8, 'threshold': 0.2}   0.5\n",
            "{'r': 8, 'threshold': 0.225}   0.4473684210526316\n",
            "{'r': 8, 'threshold': 0.25}   0.3736842105263158\n",
            "{'r': 9, 'threshold': 0}   0.47368421052631576\n",
            "{'r': 9, 'threshold': 0.025}   0.5210526315789473\n",
            "{'r': 9, 'threshold': 0.05}   0.5105263157894737\n",
            "{'r': 9, 'threshold': 0.075}   0.4842105263157895\n",
            "{'r': 9, 'threshold': 0.1}   0.5\n",
            "{'r': 9, 'threshold': 0.125}   0.4368421052631579\n",
            "{'r': 9, 'threshold': 0.15}   0.42105263157894735\n",
            "{'r': 9, 'threshold': 0.175}   0.4263157894736842\n",
            "{'r': 9, 'threshold': 0.2}   0.4631578947368421\n",
            "{'r': 9, 'threshold': 0.225}   0.43157894736842106\n",
            "{'r': 9, 'threshold': 0.25}   0.42105263157894735\n",
            "{'r': 10, 'threshold': 0}   0.49473684210526314\n",
            "{'r': 10, 'threshold': 0.025}   0.5368421052631579\n",
            "{'r': 10, 'threshold': 0.05}   0.46842105263157896\n",
            "{'r': 10, 'threshold': 0.075}   0.4631578947368421\n",
            "{'r': 10, 'threshold': 0.1}   0.5157894736842106\n",
            "{'r': 10, 'threshold': 0.125}   0.46842105263157896\n",
            "{'r': 10, 'threshold': 0.15}   0.5157894736842106\n",
            "{'r': 10, 'threshold': 0.175}   0.43157894736842106\n",
            "{'r': 10, 'threshold': 0.2}   0.4368421052631579\n",
            "{'r': 10, 'threshold': 0.225}   0.4105263157894737\n",
            "{'r': 10, 'threshold': 0.25}   0.4052631578947368\n",
            "{'threshold': 0.025, 'r': 10}\n",
            "0.5368421052631579\n"
          ]
        }
      ],
      "source": [
        "param_grid = {\n",
        "    'threshold': [0, 0.025, 0.05, 0.075, 0.1, 0.125, 0.15, 0.175, 0.2, 0.225, 0.25],\n",
        "    'r': [2, 3, 4, 5, 6, 7, 8, 9, 10]\n",
        "}\n",
        "param_comb = ParameterGrid(param_grid)\n",
        "\n",
        "val_scores = []\n",
        "for params in param_comb:\n",
        "    # Training on the first half of the season and predicting the second half.\n",
        "    score = tensor_completion_functions.predict_season(train_validation_files, 0.5, '3', 1e-10,\n",
        "                           best_iterations_TNCP, pyten, **params)\n",
        "    val_scores.append(score)\n",
        "    print(params, ' ', score)\n",
        "\n",
        "best_params = param_comb[np.argmax(val_scores)]\n",
        "print(best_params)\n",
        "print(np.max(val_scores))"
      ]
    },
    {
      "cell_type": "markdown",
      "source": [
        "The highest validation accuracy was achieved with threshold of 0.025 and r of 10."
      ],
      "metadata": {
        "id": "rnJzpeHfSzhf"
      }
    },
    {
      "cell_type": "code",
      "execution_count": null,
      "metadata": {
        "id": "iX_wq_v8h0_q"
      },
      "outputs": [],
      "source": [
        "best_function = '3'\n",
        "best_threshold = 0.025\n",
        "best_r = 10"
      ]
    },
    {
      "cell_type": "markdown",
      "source": [
        "I used second half of season 2018/19 as testing dataset. For evaluation on the testing dataset I divided the testing data into rounds approximately. The model is trained on the the training dataset, it is evaluated on one round of the testing dataset and this round is added to the training dataset."
      ],
      "metadata": {
        "id": "hgorPtWAS_-w"
      }
    },
    {
      "cell_type": "code",
      "execution_count": null,
      "metadata": {
        "id": "juJbCGm8iC71"
      },
      "outputs": [],
      "source": [
        "testing_files = ['LLPD_94.csv', 'LLPD_95.csv', 'LLPD_96.csv', 'LLPD_97.csv',\n",
        "                 'LLPD_98.csv', 'LLPD_99.csv', 'LLPD_00.csv', 'LLPD_01.csv',\n",
        "                 'LLPD_02.csv', 'LLPD_03.csv', 'LLPD_04.csv', 'LLPD_05.csv',\n",
        "                 'LLPD_06.csv', 'LLPD_07.csv', 'LLPD_08.csv', 'LLPD_09.csv',\n",
        "                 'LLPD_10.csv', 'LLPD_11.csv', 'LLPD_12.csv', 'LLPD_13.csv',\n",
        "                 'LLPD_14.csv', 'LLPD_15.csv', 'LLPD_16.csv', 'LLPD_17.csv',\n",
        "                 'LLPD_18.csv', 'LLPD_19.csv']"
      ]
    },
    {
      "cell_type": "code",
      "execution_count": null,
      "metadata": {
        "colab": {
          "base_uri": "https://localhost:8080/"
        },
        "id": "X-Gw13nwiIVH",
        "outputId": "e0beb164-c508-46ff-a30c-15e7b2675bec"
      },
      "outputs": [
        {
          "output_type": "stream",
          "name": "stdout",
          "text": [
            "0.6428571428571429\n",
            "0.45454545454545453\n",
            "0.5\n",
            "0.45454545454545453\n",
            "0.36363636363636365\n",
            "0.7142857142857143\n",
            "0.5333333333333333\n",
            "0.46153846153846156\n",
            "0.6363636363636364\n",
            "0.6\n",
            "0.5454545454545454\n",
            "0.42857142857142855\n",
            "0.09090909090909091\n",
            "0.6666666666666666\n",
            "0.3\n"
          ]
        },
        {
          "output_type": "execute_result",
          "data": {
            "text/plain": [
              "0.5052631578947369"
            ]
          },
          "metadata": {},
          "execution_count": 38
        }
      ],
      "source": [
        "res, cm = tensor_completion_functions.test_season(testing_files, 0.5, best_function, 1e-10, best_iterations_TNCP, best_threshold, pyten, r=best_r, return_cm=True)\n",
        "res"
      ]
    },
    {
      "cell_type": "markdown",
      "source": [
        "The testing accuracy is 50.53%."
      ],
      "metadata": {
        "id": "7Prq6fCVTH0s"
      }
    },
    {
      "cell_type": "markdown",
      "source": [
        "I ploted the confusion matrix."
      ],
      "metadata": {
        "id": "B2QrF7CyTRRx"
      }
    },
    {
      "cell_type": "code",
      "execution_count": null,
      "metadata": {
        "colab": {
          "base_uri": "https://localhost:8080/",
          "height": 487
        },
        "id": "i0EXxwBhG8Kx",
        "outputId": "fcc0b734-d4c0-449e-8723-b1730cc61baf"
      },
      "outputs": [
        {
          "output_type": "display_data",
          "data": {
            "text/plain": [
              "<Figure size 500x500 with 2 Axes>"
            ],
            "image/png": "[encoded data removed]"
          },
          "metadata": {}
        }
      ],
      "source": [
        "tensor_completion_functions.plot_cm(cm)"
      ]
    },
    {
      "cell_type": "markdown",
      "source": [
        "I extracted the feature vectors from the last season of the fullfilled tensor. I experimented, whether it is better to extract the vectors before or after apllying the threshold. I saved the feature matrices  into csv files."
      ],
      "metadata": {
        "id": "jDruOajuTU3s"
      }
    },
    {
      "cell_type": "code",
      "execution_count": null,
      "metadata": {
        "id": "tUftCCg5iLoZ"
      },
      "outputs": [],
      "source": [
        "H, A, teams = tensor_completion_functions.get_svd(train_validation_files, 0.5, best_function, 1e-10, best_iterations_TNCP, best_threshold, pyten, r=best_r)"
      ]
    },
    {
      "cell_type": "code",
      "source": [
        "tensor_completion_functions.save_matrices(H, A, teams, \"H_LLPD.csv\", \"A_LLPD.csv\")"
      ],
      "metadata": {
        "id": "yLMCVFqo_iEI"
      },
      "execution_count": null,
      "outputs": []
    },
    {
      "cell_type": "code",
      "execution_count": null,
      "metadata": {
        "id": "lri9OiaZVC1D"
      },
      "outputs": [],
      "source": [
        "H_before_threshold, A_before_threshold, teams = tensor_completion_functions.get_svd(train_validation_files, 0.5, best_function, 1e-10, best_iterations_TNCP, best_threshold, pyten, r=best_r,\n",
        "                      before_threshold=True)"
      ]
    },
    {
      "cell_type": "code",
      "source": [
        "tensor_completion_functions.save_matrices(H_before_threshold, A_before_threshold, teams, \"H_LLPD_before_threshold.csv\", \"A_LLPD_before_threshold.csv\")"
      ],
      "metadata": {
        "id": "D7OuMxhR_rk_"
      },
      "execution_count": null,
      "outputs": []
    }
  ],
  "metadata": {
    "colab": {
      "provenance": []
    },
    "kernelspec": {
      "display_name": "Python 3",
      "name": "python3"
    },
    "language_info": {
      "name": "python"
    }
  },
  "nbformat": 4,
  "nbformat_minor": 0
}